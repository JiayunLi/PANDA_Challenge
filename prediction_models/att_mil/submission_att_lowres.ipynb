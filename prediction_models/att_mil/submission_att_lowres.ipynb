{
 "cells": [
  {
   "cell_type": "code",
   "execution_count": 1,
   "metadata": {},
   "outputs": [],
   "source": [
    "import pandas as pd\n",
    "import pickle\n",
    "import sys\n",
    "import glob\n",
    "import torch"
   ]
  },
  {
   "cell_type": "code",
   "execution_count": 13,
   "metadata": {},
   "outputs": [],
   "source": [
    "sys.path.insert(0, \"../../\")\n",
    "from prediction_models.att_mil.utils import checkpoint_utils\n",
    "from prediction_models.att_mil.mil_models import mil\n",
    "from prediction_models.att_mil.test_model import TestParams\n",
    "from prediction_models.att_mil.utils import reinhard_fast as reinhard_bg"
   ]
  },
  {
   "cell_type": "code",
   "execution_count": 3,
   "metadata": {},
   "outputs": [],
   "source": [
    "def load_opts(ckp_dir, data_dir, cuda, num_workers):\n",
    "    model_opts = pickle.load(open(f\"{ckp_dir}/options.pkl\", \"rb\"))\n",
    "    model_opts.cuda = cuda\n",
    "    model_opts.num_workers = num_workers\n",
    "    model_opts.data_dir = data_dir\n",
    "    model_opts.device = \"gpu\" if cuda else \"cpu\"\n",
    "    return model_opts"
   ]
  },
  {
   "cell_type": "code",
   "execution_count": 4,
   "metadata": {},
   "outputs": [],
   "source": [
    "def load_model(ckp_dir, device, load_best):\n",
    "    if load_best:\n",
    "        ckp_path = f\"{ckp_dir}/checkpoint_best.pth\"\n",
    "    else:\n",
    "        ckp_path = f\"{ckp_dir}/checkpoint.pth\"\n",
    "\n",
    "    if device == 'cuda':\n",
    "        ckp = torch.load(ckp_path)\n",
    "    else:\n",
    "        ckp = torch.load(ckp_path, map_location=lambda storage, loc: storage)\n",
    "    hp = ckp['hyperparams']\n",
    "    params = ckp['model']\n",
    "    base_encoder, feature_dim = \\\n",
    "            mil.config_encoder(hp['input_size'], hp['mil_params']['n_tile_classes'],\n",
    "                               hp['encoder_arch'], False)\n",
    "    model = mil.AttMILBatch(base_encoder, hp['pretrained'], hp['encoder_arch'], hp['input_size'],\n",
    "                                        feature_dim, hp['mil_params'])\n",
    "    model.load_state_dict(params)\n",
    "    return model\n",
    "\n",
    "def load_models(exp_dir, device, load_best=True):\n",
    "    exp_fold_dirs = glob.glob(f\"{exp_dir}/*/\")\n",
    "    models = []\n",
    "    for cur_fold_dir in exp_fold_dirs:\n",
    "        cur_model = load_model(cur_fold_dir, cuda, load_best)\n",
    "        models.append(cur_model)\n",
    "    return models\n"
   ]
  },
  {
   "cell_type": "markdown",
   "metadata": {},
   "source": [
    "## Configure options\n",
    "    "
   ]
  },
  {
   "cell_type": "code",
   "execution_count": 4,
   "metadata": {},
   "outputs": [],
   "source": [
    "meandstd = {'mean': [0.8992915, 0.79110736, 0.8844037],'std': [0.13978645, 0.2604748, 0.14999403]}"
   ]
  },
  {
   "cell_type": "code",
   "execution_count": 5,
   "metadata": {},
   "outputs": [],
   "source": [
    "slides_dir = \"/home/jiayun/Documents/deepstorage/PANDA_challenge/train_images/\"\n",
    "slides_df = pd.read_csv(\"/home/jiayun/Documents/deepstorage/PANDA_challenge/train.csv\")\n",
    "slides_df = slides_df.sample(4)"
   ]
  },
  {
   "cell_type": "code",
   "execution_count": 9,
   "metadata": {},
   "outputs": [],
   "source": [
    "load_best, cuda, num_workers = True, False, 5\n",
    "dw_rate, ts_thres, overlap, top_n = 16, 0.1, 0.125, 20"
   ]
  },
  {
   "cell_type": "code",
   "execution_count": 10,
   "metadata": {},
   "outputs": [],
   "source": [
    "model_dir = \"../../cache/dw_16/resNeXt_ssl_epoch30_mse/\"\n",
    "opts = load_opts(model_dir, slides_dir, cuda, num_workers)"
   ]
  },
  {
   "cell_type": "code",
   "execution_count": 12,
   "metadata": {},
   "outputs": [],
   "source": [
    "test_params = TestParams(slides_dir, opts.im_size, opts.input_size, dw_rate, ts_thres, overlap, top_n)"
   ]
  },
  {
   "cell_type": "markdown",
   "metadata": {},
   "source": [
    "## Load train models"
   ]
  },
  {
   "cell_type": "code",
   "execution_count": 32,
   "metadata": {},
   "outputs": [
    {
     "name": "stdout",
     "output_type": "stream",
     "text": [
      "../../cache/dw_16/resNeXt_ssl_epoch30_mse/0/\n"
     ]
    },
    {
     "data": {
      "text/plain": [
       "[]"
      ]
     },
     "execution_count": 32,
     "metadata": {},
     "output_type": "execute_result"
    }
   ],
   "source": [
    "predictors = load_models(model_dir, opts.device, load_best)"
   ]
  },
  {
   "cell_type": "code",
   "execution_count": null,
   "metadata": {},
   "outputs": [],
   "source": []
  },
  {
   "cell_type": "markdown",
   "metadata": {},
   "source": [
    "## Run test"
   ]
  },
  {
   "cell_type": "code",
   "execution_count": null,
   "metadata": {},
   "outputs": [],
   "source": [
    "def test(models, meanstd, test_slides_df, test_params, num_workers, device):\n",
    "    normalize = T.Compose([\n",
    "        T.Resize(test_params.input_size, interpolation=Image.ANTIALIAS),\n",
    "        T.ToTensor(),\n",
    "        T.Normalize(mean=meanstd['mean'], std=meanstd['std'])])\n",
    "    tile_normalizer = reinhard_bg.ReinhardNormalizer()\n",
    "    # use the pre-computed LAB mean and std values\n",
    "    tile_normalizer.fit(None)\n",
    "    dataset = test_slides.BiopsySlides(test_params, test_slides_df, normalize, tile_normalizer)\n",
    "    loader = \\\n",
    "        torch.utils.data.DataLoader(dataset=dataset, batch_size=1, shuffle=False, drop_last=False,\n",
    "                                    num_workers=num_workers, pin_memory=False)\n",
    "    print(\"Start apply model\")\n",
    "    pred_data = []\n",
    "    test_iter = iter(loader)\n",
    "    with torch.no_grad():\n",
    "        for step in range(len(loader)):\n",
    "            tiles, image_id = test_iter.next()\n",
    "            tiles = torch.squeeze(tiles, dim=0)\n",
    "            image_id = str(image_id[0])\n",
    "            tiles = tiles.to(device)\n",
    "            slide_probs, _, _ = model(tiles)\n",
    "            _, predicted = torch.max(slide_probs.data, 1)\n",
    "            predicted = int(predicted.item())\n",
    "            pred_data.append({\"image_id\": image_id, \"isup_grade\": predicted})\n",
    "            del tiles\n",
    "\n",
    "    pred_df = pd.DataFrame(columns=[\"image_id\", \"isup_grade\"], data=pred_data)\n",
    "    return pred_df"
   ]
  }
 ],
 "metadata": {
  "kernelspec": {
   "display_name": "Python 3",
   "language": "python",
   "name": "python3"
  },
  "language_info": {
   "codemirror_mode": {
    "name": "ipython",
    "version": 3
   },
   "file_extension": ".py",
   "mimetype": "text/x-python",
   "name": "python",
   "nbconvert_exporter": "python",
   "pygments_lexer": "ipython3",
   "version": "3.6.10"
  }
 },
 "nbformat": 4,
 "nbformat_minor": 4
}
