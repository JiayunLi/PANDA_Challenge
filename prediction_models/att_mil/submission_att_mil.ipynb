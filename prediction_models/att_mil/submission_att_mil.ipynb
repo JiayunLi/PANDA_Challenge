{
 "cells": [
  {
   "cell_type": "code",
   "execution_count": 1,
   "metadata": {},
   "outputs": [],
   "source": [
    "import pandas as pd\n",
    "from prediction_models.att_mil.utils import checkpoint_utils\n",
    "from prediction_models.att_mil import test_model\n",
    "import pickle"
   ]
  },
  {
   "cell_type": "markdown",
   "metadata": {},
   "source": [
    "## Define data location and model location"
   ]
  },
  {
   "cell_type": "code",
   "execution_count": 2,
   "metadata": {},
   "outputs": [],
   "source": [
    "# Load test.csv\n",
    "# test_slides = pd.read_csv(\"/home/jiayun/Documents/deepstorage/PANDA_challenge/test.csv\", index_col=\"image_id\")\n",
    "test_slides = pd.read_csv(\"./info/val_0.csv\")\n",
    "slides_dir = \"/home/jiayun/Documents/deepstorage/PANDA_challenge/train_images/\"\n",
    "exp_dir = \"./cache/debug/\"\n",
    "model_dir = \"./cache/debug/0/\""
   ]
  },
  {
   "cell_type": "markdown",
   "metadata": {},
   "source": [
    "## Load models"
   ]
  },
  {
   "cell_type": "code",
   "execution_count": 3,
   "metadata": {},
   "outputs": [
    {
     "name": "stdout",
     "output_type": "stream",
     "text": [
      "***** CHECKPOINTING *****\n",
      " Model restored from checkpoint.\n",
      " MIL training epoch 1\n",
      "\n"
     ]
    }
   ],
   "source": [
    "load_best, cuda, num_workers = True, True, 0\n",
    "opts, ckp = checkpoint_utils.load_options(model_dir, load_best, slides_dir, cuda, num_workers)\n",
    "checkpointer = checkpoint_utils.Checkpointer(0, exp_dir)\n",
    "model = checkpointer.restore_model_from_checkpoint(ckp)\n",
    "meanstd = pickle.load(open(f\"{model_dir}/meanstd.pkl\", \"rb\"))"
   ]
  },
  {
   "cell_type": "code",
   "execution_count": 4,
   "metadata": {},
   "outputs": [],
   "source": [
    "test_slides = test_slides.sample(2)"
   ]
  },
  {
   "cell_type": "markdown",
   "metadata": {},
   "source": [
    "## Configure model and run test"
   ]
  },
  {
   "cell_type": "code",
   "execution_count": 5,
   "metadata": {},
   "outputs": [
    {
     "name": "stdout",
     "output_type": "stream",
     "text": [
      "tensor([[ 0.0022,  0.0212,  0.0031,  0.0145, -0.0161,  0.0177]])\n",
      "tensor([[ 0.0009,  0.0115, -0.0003,  0.0156, -0.0081,  0.0223]])\n"
     ]
    }
   ],
   "source": [
    "test_params = test_model.TestParams(slides_dir, opts.im_size, opts.input_size, dw_rate=4, ts_thres=0.6, overlap=0.25)\n",
    "test_model.test(model, meanstd, test_slides, test_params, num_workers, cuda)"
   ]
  },
  {
   "cell_type": "code",
   "execution_count": 7,
   "metadata": {},
   "outputs": [],
   "source": [
    "submission = pd.read_csv(\"submission.csv\")"
   ]
  },
  {
   "cell_type": "code",
   "execution_count": 8,
   "metadata": {},
   "outputs": [
    {
     "data": {
      "text/html": [
       "<div>\n",
       "<style scoped>\n",
       "    .dataframe tbody tr th:only-of-type {\n",
       "        vertical-align: middle;\n",
       "    }\n",
       "\n",
       "    .dataframe tbody tr th {\n",
       "        vertical-align: top;\n",
       "    }\n",
       "\n",
       "    .dataframe thead th {\n",
       "        text-align: right;\n",
       "    }\n",
       "</style>\n",
       "<table border=\"1\" class=\"dataframe\">\n",
       "  <thead>\n",
       "    <tr style=\"text-align: right;\">\n",
       "      <th></th>\n",
       "      <th>image_id</th>\n",
       "      <th>isup_grade</th>\n",
       "    </tr>\n",
       "  </thead>\n",
       "  <tbody>\n",
       "    <tr>\n",
       "      <th>0</th>\n",
       "      <td>78a7071f862c2622d8375790ebe71c5d</td>\n",
       "      <td>1</td>\n",
       "    </tr>\n",
       "    <tr>\n",
       "      <th>1</th>\n",
       "      <td>fd2ad62fe51a4ab6f4786f116d7e5eaa</td>\n",
       "      <td>5</td>\n",
       "    </tr>\n",
       "  </tbody>\n",
       "</table>\n",
       "</div>"
      ],
      "text/plain": [
       "                           image_id  isup_grade\n",
       "0  78a7071f862c2622d8375790ebe71c5d           1\n",
       "1  fd2ad62fe51a4ab6f4786f116d7e5eaa           5"
      ]
     },
     "execution_count": 8,
     "metadata": {},
     "output_type": "execute_result"
    }
   ],
   "source": [
    "submission"
   ]
  },
  {
   "cell_type": "code",
   "execution_count": null,
   "metadata": {},
   "outputs": [],
   "source": []
  }
 ],
 "metadata": {
  "kernelspec": {
   "display_name": "Python 3",
   "language": "python",
   "name": "python3"
  },
  "language_info": {
   "codemirror_mode": {
    "name": "ipython",
    "version": 3
   },
   "file_extension": ".py",
   "mimetype": "text/x-python",
   "name": "python",
   "nbconvert_exporter": "python",
   "pygments_lexer": "ipython3",
   "version": "3.6.10"
  },
  "pycharm": {
   "stem_cell": {
    "cell_type": "raw",
    "source": [],
    "metadata": {
     "collapsed": false
    }
   }
  }
 },
 "nbformat": 4,
 "nbformat_minor": 4
}