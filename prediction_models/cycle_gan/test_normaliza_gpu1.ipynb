{
 "cells": [
  {
   "cell_type": "code",
   "execution_count": 1,
   "metadata": {},
   "outputs": [],
   "source": [
    "%reload_ext autoreload\n",
    "%autoreload 2\n",
    "## sys package\n",
    "import os, sys\n",
    "os.environ[\"CUDA_DEVICE_ORDER\"]=\"PCI_BUS_ID\"\n",
    "os.environ[\"CUDA_VISIBLE_DEVICES\"]=\"0\"  # specify which GPU(s) to be used\n",
    "import torch\n",
    "from models.base_model import BaseModel\n",
    "from models import networks\n",
    "import torch.nn as nn\n",
    "from collections import OrderedDict\n",
    "from PIL import Image\n",
    "from matplotlib import pyplot as plt\n",
    "import numpy as np\n",
    "from tqdm import tqdm_notebook as tqdm"
   ]
  },
  {
   "cell_type": "code",
   "execution_count": 2,
   "metadata": {},
   "outputs": [],
   "source": [
    "class CycleGANModel(nn.Module):\n",
    "    \"\"\"\n",
    "    This class implements the CycleGAN model, for learning image-to-image translation without paired data.\n",
    "\n",
    "    The model training requires '--dataset_mode unaligned' dataset.\n",
    "    By default, it uses a '--netG resnet_9blocks' ResNet generator,\n",
    "    a '--netD basic' discriminator (PatchGAN introduced by pix2pix),\n",
    "    and a least-square GANs objective ('--gan_mode lsgan').\n",
    "\n",
    "    CycleGAN paper: https://arxiv.org/pdf/1703.10593.pdf\n",
    "    \"\"\"\n",
    "    @staticmethod\n",
    "    def modify_commandline_options(parser, is_train=True):\n",
    "        \"\"\"Add new dataset-specific options, and rewrite default values for existing options.\n",
    "\n",
    "        Parameters:\n",
    "            parser          -- original option parser\n",
    "            is_train (bool) -- whether training phase or test phase. You can use this flag to add training-specific or test-specific options.\n",
    "\n",
    "        Returns:\n",
    "            the modified parser.\n",
    "\n",
    "        For CycleGAN, in addition to GAN losses, we introduce lambda_A, lambda_B, and lambda_identity for the following losses.\n",
    "        A (source domain), B (target domain).\n",
    "        Generators: G_A: A -> B; G_B: B -> A.\n",
    "        Discriminators: D_A: G_A(A) vs. B; D_B: G_B(B) vs. A.\n",
    "        Forward cycle loss:  lambda_A * ||G_B(G_A(A)) - A|| (Eqn. (2) in the paper)\n",
    "        Backward cycle loss: lambda_B * ||G_A(G_B(B)) - B|| (Eqn. (2) in the paper)\n",
    "        Identity loss (optional): lambda_identity * (||G_A(B) - B|| * lambda_B + ||G_B(A) - A|| * lambda_A) (Sec 5.2 \"Photo generation from paintings\" in the paper)\n",
    "        Dropout is not used in the original CycleGAN paper.\n",
    "        \"\"\"\n",
    "        parser.set_defaults(no_dropout=True)  # default CycleGAN did not use dropout\n",
    "        if is_train:\n",
    "            parser.add_argument('--lambda_A', type=float, default=10.0, help='weight for cycle loss (A -> B -> A)')\n",
    "            parser.add_argument('--lambda_B', type=float, default=10.0, help='weight for cycle loss (B -> A -> B)')\n",
    "            parser.add_argument('--lambda_identity', type=float, default=0.5, help='use identity mapping. Setting lambda_identity other than 0 has an effect of scaling the weight of the identity mapping loss. For example, if the weight of the identity loss should be 10 times smaller than the weight of the reconstruction loss, please set lambda_identity = 0.1')\n",
    "\n",
    "        return parser\n",
    "\n",
    "    def __init__(self):\n",
    "        \"\"\"Initialize the CycleGAN class.\n",
    "\n",
    "        Parameters:\n",
    "            opt (Option class)-- stores all the experiment flags; needs to be a subclass of BaseOptions\n",
    "        \"\"\"\n",
    "        \n",
    "        super(CycleGANModel, self).__init__()\n",
    "\n",
    "        self.netG_A = networks.define_G(3, 3, 64, 'resnet_9blocks', 'instance',\n",
    "                                        False, \"normal\", 0.02, [0])\n",
    "\n",
    "    def forward(self, input):\n",
    "        \"\"\"Run forward pass; called by both functions <optimize_parameters> and <test>.\"\"\"\n",
    "        output = self.netG_A(input)  # G_A(A)\n",
    "        return output"
   ]
  },
  {
   "cell_type": "code",
   "execution_count": 4,
   "metadata": {},
   "outputs": [
    {
     "name": "stdout",
     "output_type": "stream",
     "text": [
      "initialize network with normal\n"
     ]
    }
   ],
   "source": [
    "# opt = Option()\n",
    "model = CycleGANModel()"
   ]
  },
  {
   "cell_type": "code",
   "execution_count": 5,
   "metadata": {},
   "outputs": [],
   "source": [
    "weight = \"./checkpoints/panda/135_net_G_A.pth\"\n",
    "model_dict = torch.load(weight)"
   ]
  },
  {
   "cell_type": "code",
   "execution_count": 6,
   "metadata": {},
   "outputs": [],
   "source": [
    "model_dict_new = OrderedDict()\n",
    "for key in model_dict:\n",
    "    model_dict_new[\"netG_A.module.\"+key] = model_dict[key]"
   ]
  },
  {
   "cell_type": "code",
   "execution_count": 7,
   "metadata": {},
   "outputs": [
    {
     "data": {
      "text/plain": [
       "<All keys matched successfully>"
      ]
     },
     "execution_count": 7,
     "metadata": {},
     "output_type": "execute_result"
    }
   ],
   "source": [
    "model.load_state_dict(model_dict_new)"
   ]
  },
  {
   "cell_type": "code",
   "execution_count": 8,
   "metadata": {},
   "outputs": [],
   "source": [
    "img_dir = \"../tile_concat_wy/input/panda-36x256x256-tiles-data-opt/train\"\n",
    "save_dir = \"../tile_concat_wy/input/panda-36x256x256-tiles-data-opt/train_norm\"\n",
    "imgs = os.listdir(img_dir)"
   ]
  },
  {
   "cell_type": "code",
   "execution_count": 9,
   "metadata": {},
   "outputs": [
    {
     "name": "stderr",
     "output_type": "stream",
     "text": [
      "/opt/conda/lib/python3.6/site-packages/ipykernel_launcher.py:2: TqdmDeprecationWarning: This function will be removed in tqdm==5.0.0\n",
      "Please use `tqdm.notebook.tqdm` instead of `tqdm.tqdm_notebook`\n",
      "  \n"
     ]
    },
    {
     "data": {
      "application/vnd.jupyter.widget-view+json": {
       "model_id": "6afe3ba11d8c4619bac17f1068ba2d19",
       "version_major": 2,
       "version_minor": 0
      },
      "text/plain": [
       "HBox(children=(FloatProgress(value=0.0, max=187262.0), HTML(value='')))"
      ]
     },
     "metadata": {},
     "output_type": "display_data"
    },
    {
     "name": "stdout",
     "output_type": "stream",
     "text": [
      "\n"
     ]
    }
   ],
   "source": [
    "model.eval()\n",
    "for i, img_name in enumerate(tqdm(imgs[150000:])):\n",
    "    if not img_name.endswith(\".png\"):\n",
    "        continue\n",
    "    img = Image.open(os.path.join(img_dir, img_name)).convert('RGB')\n",
    "#     img_id = imgs[idx].split('_')[0]\n",
    "    img = np.asarray(img)\n",
    "#     plt.imshow(img)\n",
    "    img = img / 255.0\n",
    "    img = (img - [0.5,0.5,0.5])/([0.5,0.5,0.5])\n",
    "    img = img.transpose(2,0,1)\n",
    "    img = np.expand_dims(img, 0)\n",
    "    img_tensor = torch.tensor(img).float()\n",
    "    img_norm = model(img_tensor)\n",
    "    output = img_norm.detach().cpu().numpy().transpose(0,2,3,1)\n",
    "    output = ((output + 1) / 2 * 255).astype(np.uint8)\n",
    "    img_norm = Image.fromarray(output[0,:])\n",
    "    img_norm.save(os.path.join(save_dir, img_name))"
   ]
  },
  {
   "cell_type": "code",
   "execution_count": 249,
   "metadata": {},
   "outputs": [
    {
     "name": "stdout",
     "output_type": "stream",
     "text": [
      "radboud\n"
     ]
    }
   ],
   "source": [
    "csv_file = \"../tile_concat_wy/input/csv_pkl_files/4_fold_whole_train.csv\"\n",
    "df = pd.read_csv(csv_file)\n",
    "# df.head()\n",
    "df = df.set_index(\"image_id\")\n",
    "provider = df.loc[img_id, \"data_provider\"]\n",
    "print(provider)"
   ]
  }
 ],
 "metadata": {
  "kernelspec": {
   "display_name": "Python 3",
   "language": "python",
   "name": "python3"
  },
  "language_info": {
   "codemirror_mode": {
    "name": "ipython",
    "version": 3
   },
   "file_extension": ".py",
   "mimetype": "text/x-python",
   "name": "python",
   "nbconvert_exporter": "python",
   "pygments_lexer": "ipython3",
   "version": "3.6.8"
  }
 },
 "nbformat": 4,
 "nbformat_minor": 4
}
