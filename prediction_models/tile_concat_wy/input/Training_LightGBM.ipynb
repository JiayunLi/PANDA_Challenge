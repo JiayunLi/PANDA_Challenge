{
 "cells": [
  {
   "cell_type": "code",
   "execution_count": 15,
   "metadata": {},
   "outputs": [],
   "source": [
    "%reload_ext autoreload\n",
    "%autoreload 2\n",
    "## sys package\n",
    "import os, sys\n",
    "os.environ[\"CUDA_DEVICE_ORDER\"]=\"PCI_BUS_ID\"\n",
    "os.environ[\"CUDA_VISIBLE_DEVICES\"]=\"7\"  # specify which GPU(s) to be used\n",
    "sys.path.append(\"./prediction_models/input/prostate-cancer-grade-assessment/\")\n",
    "## warning off\n",
    "import warnings\n",
    "warnings.filterwarnings(\"ignore\")\n",
    "\n",
    "## general package\n",
    "import random\n",
    "from tqdm import tqdm_notebook as tqdm\n",
    "import numpy as np\n",
    "import pandas as pd\n",
    "import torch\n",
    "from torch.utils.data import *\n",
    "import lightgbm as lgb\n",
    "from sklearn.metrics import cohen_kappa_score, roc_auc_score, roc_curve\n",
    "from sklearn.metrics import confusion_matrix\n",
    "import seaborn as sn\n",
    "import pandas as pd\n",
    "import matplotlib.pyplot as plt\n",
    "import pickle\n",
    "from scipy.special import expit\n",
    "# device = torch.device(\"cuda:4\" if torch.cuda.is_available() else \"cpu\") \n",
    "# print(device)"
   ]
  },
  {
   "cell_type": "code",
   "execution_count": 16,
   "metadata": {},
   "outputs": [
    {
     "data": {
      "text/html": [
       "<div>\n",
       "<style scoped>\n",
       "    .dataframe tbody tr th:only-of-type {\n",
       "        vertical-align: middle;\n",
       "    }\n",
       "\n",
       "    .dataframe tbody tr th {\n",
       "        vertical-align: top;\n",
       "    }\n",
       "\n",
       "    .dataframe thead th {\n",
       "        text-align: right;\n",
       "    }\n",
       "</style>\n",
       "<table border=\"1\" class=\"dataframe\">\n",
       "  <thead>\n",
       "    <tr style=\"text-align: right;\">\n",
       "      <th></th>\n",
       "      <th>Unnamed: 0</th>\n",
       "      <th>Unnamed: 0.1</th>\n",
       "      <th>data_provider</th>\n",
       "      <th>isup_grade</th>\n",
       "      <th>gleason_score</th>\n",
       "      <th>tile_number</th>\n",
       "      <th>split</th>\n",
       "      <th>tile_pixel</th>\n",
       "      <th>tile_blueratio</th>\n",
       "    </tr>\n",
       "    <tr>\n",
       "      <th>image_id</th>\n",
       "      <th></th>\n",
       "      <th></th>\n",
       "      <th></th>\n",
       "      <th></th>\n",
       "      <th></th>\n",
       "      <th></th>\n",
       "      <th></th>\n",
       "      <th></th>\n",
       "      <th></th>\n",
       "    </tr>\n",
       "  </thead>\n",
       "  <tbody>\n",
       "    <tr>\n",
       "      <th>9716b5d2e13a28be3dc836134153720c</th>\n",
       "      <td>0</td>\n",
       "      <td>0</td>\n",
       "      <td>radboud</td>\n",
       "      <td>4</td>\n",
       "      <td>4+4</td>\n",
       "      <td>7</td>\n",
       "      <td>1.0</td>\n",
       "      <td>121,109,111,86,81,79,77,</td>\n",
       "      <td>48,40,46,33,32,33,28,</td>\n",
       "    </tr>\n",
       "    <tr>\n",
       "      <th>0954f0bb123cf3be8b00c9c989dcf3d6</th>\n",
       "      <td>1</td>\n",
       "      <td>1</td>\n",
       "      <td>karolinska</td>\n",
       "      <td>0</td>\n",
       "      <td>0+0</td>\n",
       "      <td>43</td>\n",
       "      <td>1.0</td>\n",
       "      <td>152,141,135,134,127,128,128,123,126,122,117,11...</td>\n",
       "      <td>47,41,43,40,45,44,39,43,45,43,48,42,40,33,41,3...</td>\n",
       "    </tr>\n",
       "    <tr>\n",
       "      <th>d861180850ca54282b38c782734a7dc7</th>\n",
       "      <td>2</td>\n",
       "      <td>2</td>\n",
       "      <td>karolinska</td>\n",
       "      <td>0</td>\n",
       "      <td>0+0</td>\n",
       "      <td>39</td>\n",
       "      <td>0.0</td>\n",
       "      <td>89,82,72,67,70,69,69,60,61,69,68,69,58,57,60,6...</td>\n",
       "      <td>32,30,29,29,25,27,26,26,26,25,25,25,26,25,26,2...</td>\n",
       "    </tr>\n",
       "    <tr>\n",
       "      <th>459154b1334d073cfef8af95362a7051</th>\n",
       "      <td>3</td>\n",
       "      <td>3</td>\n",
       "      <td>karolinska</td>\n",
       "      <td>0</td>\n",
       "      <td>0+0</td>\n",
       "      <td>34</td>\n",
       "      <td>1.0</td>\n",
       "      <td>112,103,102,99,92,89,97,90,94,88,83,83,82,79,7...</td>\n",
       "      <td>42,34,40,33,37,31,38,31,33,33,29,30,33,31,30,2...</td>\n",
       "    </tr>\n",
       "    <tr>\n",
       "      <th>27489a7f1972687cccb1258116ff7f10</th>\n",
       "      <td>4</td>\n",
       "      <td>4</td>\n",
       "      <td>karolinska</td>\n",
       "      <td>0</td>\n",
       "      <td>0+0</td>\n",
       "      <td>24</td>\n",
       "      <td>0.0</td>\n",
       "      <td>105,101,101,92,87,85,84,89,86,83,81,77,73,80,7...</td>\n",
       "      <td>34,35,37,35,32,31,32,29,31,29,31,28,28,29,27,2...</td>\n",
       "    </tr>\n",
       "  </tbody>\n",
       "</table>\n",
       "</div>"
      ],
      "text/plain": [
       "                                  Unnamed: 0  Unnamed: 0.1 data_provider  \\\n",
       "image_id                                                                   \n",
       "9716b5d2e13a28be3dc836134153720c           0             0       radboud   \n",
       "0954f0bb123cf3be8b00c9c989dcf3d6           1             1    karolinska   \n",
       "d861180850ca54282b38c782734a7dc7           2             2    karolinska   \n",
       "459154b1334d073cfef8af95362a7051           3             3    karolinska   \n",
       "27489a7f1972687cccb1258116ff7f10           4             4    karolinska   \n",
       "\n",
       "                                  isup_grade gleason_score  tile_number  \\\n",
       "image_id                                                                  \n",
       "9716b5d2e13a28be3dc836134153720c           4           4+4            7   \n",
       "0954f0bb123cf3be8b00c9c989dcf3d6           0           0+0           43   \n",
       "d861180850ca54282b38c782734a7dc7           0           0+0           39   \n",
       "459154b1334d073cfef8af95362a7051           0           0+0           34   \n",
       "27489a7f1972687cccb1258116ff7f10           0           0+0           24   \n",
       "\n",
       "                                  split  \\\n",
       "image_id                                  \n",
       "9716b5d2e13a28be3dc836134153720c    1.0   \n",
       "0954f0bb123cf3be8b00c9c989dcf3d6    1.0   \n",
       "d861180850ca54282b38c782734a7dc7    0.0   \n",
       "459154b1334d073cfef8af95362a7051    1.0   \n",
       "27489a7f1972687cccb1258116ff7f10    0.0   \n",
       "\n",
       "                                                                         tile_pixel  \\\n",
       "image_id                                                                              \n",
       "9716b5d2e13a28be3dc836134153720c                           121,109,111,86,81,79,77,   \n",
       "0954f0bb123cf3be8b00c9c989dcf3d6  152,141,135,134,127,128,128,123,126,122,117,11...   \n",
       "d861180850ca54282b38c782734a7dc7  89,82,72,67,70,69,69,60,61,69,68,69,58,57,60,6...   \n",
       "459154b1334d073cfef8af95362a7051  112,103,102,99,92,89,97,90,94,88,83,83,82,79,7...   \n",
       "27489a7f1972687cccb1258116ff7f10  105,101,101,92,87,85,84,89,86,83,81,77,73,80,7...   \n",
       "\n",
       "                                                                     tile_blueratio  \n",
       "image_id                                                                             \n",
       "9716b5d2e13a28be3dc836134153720c                              48,40,46,33,32,33,28,  \n",
       "0954f0bb123cf3be8b00c9c989dcf3d6  47,41,43,40,45,44,39,43,45,43,48,42,40,33,41,3...  \n",
       "d861180850ca54282b38c782734a7dc7  32,30,29,29,25,27,26,26,26,25,25,25,26,25,26,2...  \n",
       "459154b1334d073cfef8af95362a7051  42,34,40,33,37,31,38,31,33,33,29,30,33,31,30,2...  \n",
       "27489a7f1972687cccb1258116ff7f10  34,35,37,35,32,31,32,29,31,29,31,28,28,29,27,2...  "
      ]
     },
     "execution_count": 16,
     "metadata": {},
     "output_type": "execute_result"
    }
   ],
   "source": [
    "csv_file = \"./csv_pkl_files/4_fold_whole_train_wo_sus.csv\"\n",
    "df = pd.read_csv(csv_file, index_col = False)\n",
    "df = df.set_index(\"image_id\")\n",
    "df.head()"
   ]
  },
  {
   "cell_type": "code",
   "execution_count": 17,
   "metadata": {},
   "outputs": [],
   "source": [
    "df['split'] = np.random.permutation(df['split'])"
   ]
  },
  {
   "cell_type": "code",
   "execution_count": 18,
   "metadata": {},
   "outputs": [],
   "source": [
    "with open('./csv_pkl_files/extracted_image_features.pkl', 'rb') as handle:\n",
    "    image_features = pickle.load(handle)"
   ]
  },
  {
   "cell_type": "code",
   "execution_count": 19,
   "metadata": {},
   "outputs": [],
   "source": [
    "fold = 3\n",
    "df_train = df.loc[df[\"split\"] != 0]\n",
    "df_test = df.loc[df[\"split\"] == 0]\n",
    "train_features, train_label = [],[]\n",
    "valid_features, valid_label = [],[]\n",
    "for i in df_train.index:\n",
    "    train_features.append(image_features[i])\n",
    "    train_label.append(df.loc[i, \"isup_grade\"])\n",
    "for i in df_test.index:\n",
    "    valid_features.append(image_features[i])\n",
    "    valid_label.append(df.loc[i, \"isup_grade\"])\n",
    "    \n",
    "train_features, valid_features = np.concatenate(train_features,0), np.concatenate(valid_features,0)\n",
    "# train_features, valid_features = np.asarray(train_features), np.asarray(valid_features)\n",
    "train_label, valid_label = np.asarray(train_label), np.asarray(valid_label)"
   ]
  },
  {
   "cell_type": "code",
   "execution_count": 20,
   "metadata": {},
   "outputs": [],
   "source": [
    "params = {\n",
    "    'application': 'regression',\n",
    "    'boosting': 'gbdt',\n",
    "    'metric': 'rmse',\n",
    "    'num_leaves': 102,\n",
    "    'learning_rate': 0.02,\n",
    "    'bagging_fraction': 0.9951448659512921,\n",
    "    'bagging_freq': 3,\n",
    "    'feature_fraction': 0.6867901263802068,\n",
    "    'verbosity': -1,\n",
    "    'early_stop': 100,\n",
    "    'verbose_eval': 1000,\n",
    "    'num_rounds': 10000,\n",
    "    'raw_seed': 1234,\n",
    "    'max_bin': 127,\n",
    "    'min_child_samples': 38,\n",
    "    'lambda_l1': 0.42651295024341174,\n",
    "    'lambda_l2': 0.15395842517107572,\n",
    "    'max_depth': 14,\n",
    "    'min_split_gain': 0.023658591149106636\n",
    "}"
   ]
  },
  {
   "cell_type": "code",
   "execution_count": 21,
   "metadata": {},
   "outputs": [],
   "source": [
    "def QWK(preds, dtrain):\n",
    "    labels = dtrain.get_label()\n",
    "    preds = np.rint(preds)\n",
    "    score = cohen_kappa_score(preds, labels, weights='quadratic')\n",
    "    return (\"QWK\", score, True)"
   ]
  },
  {
   "cell_type": "code",
   "execution_count": 24,
   "metadata": {},
   "outputs": [
    {
     "name": "stdout",
     "output_type": "stream",
     "text": [
      "Training until validation scores don't improve for 100 rounds\n",
      "[1000]\ttraining's rmse: 0.113858\ttraining's QWK: 0.998624\n",
      "[2000]\ttraining's rmse: 0.113858\ttraining's QWK: 0.998624\n",
      "[3000]\ttraining's rmse: 0.113858\ttraining's QWK: 0.998624\n",
      "[4000]\ttraining's rmse: 0.113858\ttraining's QWK: 0.998624\n",
      "[5000]\ttraining's rmse: 0.113858\ttraining's QWK: 0.998624\n",
      "[6000]\ttraining's rmse: 0.113858\ttraining's QWK: 0.998624\n",
      "[7000]\ttraining's rmse: 0.113858\ttraining's QWK: 0.998624\n",
      "[8000]\ttraining's rmse: 0.113858\ttraining's QWK: 0.998624\n",
      "[9000]\ttraining's rmse: 0.113858\ttraining's QWK: 0.998624\n",
      "[10000]\ttraining's rmse: 0.113858\ttraining's QWK: 0.998624\n",
      "Did not meet early stopping. Best iteration is:\n",
      "[1024]\ttraining's rmse: 0.113858\ttraining's QWK: 0.998624\n"
     ]
    }
   ],
   "source": [
    "dtrain = lgb.Dataset(train_features, train_label)\n",
    "dvalid = lgb.Dataset(valid_features, valid_label)\n",
    "\n",
    "num_rounds = params['num_rounds']\n",
    "verbose_eval = params['verbose_eval']\n",
    "early_stop = params['early_stop']\n",
    "\n",
    "model = lgb.train(params,\n",
    "                  train_set=dtrain,\n",
    "#                   valid_sets=(dtrain, dvalid),\n",
    "                  valid_sets = dtrain,\n",
    "                  num_boost_round=num_rounds,\n",
    "                  verbose_eval=verbose_eval,\n",
    "                  early_stopping_rounds=early_stop,\n",
    "                  feval = QWK)"
   ]
  },
  {
   "cell_type": "code",
   "execution_count": 25,
   "metadata": {},
   "outputs": [],
   "source": [
    "def fix_distribution(y_train, pred):\n",
    "    \"\"\"\n",
    "    Convert predictions to labels such that the labels have \n",
    "    the same distribution as in the y_train array.\n",
    "    \"\"\"\n",
    "    base = pd.Series([0, 0, 0, 0, 0, 0], index=np.arange(0, 6))\n",
    "    thresholds = (base + pd.Series(y_train).value_counts()).fillna(0).cumsum()\n",
    "    thresholds = thresholds / len(y_train) * len(pred)\n",
    "    \n",
    "    pred_ranks = pd.Series(pred).rank()\n",
    "    ranked_scores = np.zeros(len(pred))\n",
    "\n",
    "    for j, threshold in list(enumerate(thresholds))[::-1]:\n",
    "        ranked_scores[pred_ranks <= threshold] = j\n",
    "    return ranked_scores"
   ]
  },
  {
   "cell_type": "code",
   "execution_count": 28,
   "metadata": {},
   "outputs": [],
   "source": [
    "preds = model.predict(valid_features)\n",
    "preds_e = fix_distribution(train_label, preds)"
   ]
  },
  {
   "cell_type": "code",
   "execution_count": 29,
   "metadata": {},
   "outputs": [
    {
     "name": "stdout",
     "output_type": "stream",
     "text": [
      "0.9565674264214278\n"
     ]
    }
   ],
   "source": [
    "kappa = cohen_kappa_score(valid_label, preds_e, weights='quadratic')\n",
    "print(kappa)"
   ]
  },
  {
   "cell_type": "code",
   "execution_count": 365,
   "metadata": {},
   "outputs": [
    {
     "data": {
      "text/plain": [
       "<lightgbm.basic.Booster at 0x7fde49fe8518>"
      ]
     },
     "execution_count": 365,
     "metadata": {},
     "output_type": "execute_result"
    }
   ],
   "source": [
    "model.save_model(f\"./csv_pkl_files/lgb_{fold}.txt\")"
   ]
  },
  {
   "cell_type": "code",
   "execution_count": 7,
   "metadata": {},
   "outputs": [],
   "source": [
    "model = lgb.Booster(model_file=f\"./csv_pkl_files/lgb_{fold}.txt\")"
   ]
  },
  {
   "cell_type": "code",
   "execution_count": 10,
   "metadata": {},
   "outputs": [],
   "source": [
    "preds = model.predict(valid_features)\n",
    "preds_e = fix_distribution(train_label, preds)"
   ]
  },
  {
   "cell_type": "code",
   "execution_count": 11,
   "metadata": {},
   "outputs": [
    {
     "name": "stdout",
     "output_type": "stream",
     "text": [
      "0.9831477942453927\n"
     ]
    }
   ],
   "source": [
    "kappa = cohen_kappa_score(valid_label, preds_e, weights='quadratic')\n",
    "print(kappa)"
   ]
  },
  {
   "cell_type": "code",
   "execution_count": 13,
   "metadata": {},
   "outputs": [
    {
     "data": {
      "text/plain": [
       "(array([4, 0, 5, ..., 0, 5, 1]), array([4., 0., 5., ..., 0., 5., 1.]))"
      ]
     },
     "execution_count": 13,
     "metadata": {},
     "output_type": "execute_result"
    }
   ],
   "source": [
    "valid_label, preds_e"
   ]
  }
 ],
 "metadata": {
  "kernelspec": {
   "display_name": "Python 3",
   "language": "python",
   "name": "python3"
  },
  "language_info": {
   "codemirror_mode": {
    "name": "ipython",
    "version": 3
   },
   "file_extension": ".py",
   "mimetype": "text/x-python",
   "name": "python",
   "nbconvert_exporter": "python",
   "pygments_lexer": "ipython3",
   "version": "3.6.8"
  }
 },
 "nbformat": 4,
 "nbformat_minor": 4
}
