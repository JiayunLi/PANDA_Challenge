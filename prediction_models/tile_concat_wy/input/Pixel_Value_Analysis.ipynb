{
 "cells": [
  {
   "cell_type": "code",
   "execution_count": 60,
   "metadata": {},
   "outputs": [],
   "source": [
    "import numpy as np \n",
    "import pandas as pd \n",
    "import os\n",
    "import matplotlib.pyplot as plt\n",
    "import seaborn as sns\n",
    "from PIL import Image\n",
    "from tqdm import tqdm_notebook as tqdm\n",
    "import pickle as pkl"
   ]
  },
  {
   "cell_type": "code",
   "execution_count": 5,
   "metadata": {},
   "outputs": [],
   "source": [
    "csv_file = \"./csv_pkl_files/4_fold_whole_train_wo_sus.csv\"\n",
    "df = pd.read_csv(csv_file)"
   ]
  },
  {
   "cell_type": "code",
   "execution_count": 160,
   "metadata": {},
   "outputs": [
    {
     "name": "stderr",
     "output_type": "stream",
     "text": [
      "/opt/conda/lib/python3.6/site-packages/ipykernel_launcher.py:8: TqdmDeprecationWarning: This function will be removed in tqdm==5.0.0\n",
      "Please use `tqdm.notebook.tqdm` instead of `tqdm.tqdm_notebook`\n",
      "  \n"
     ]
    },
    {
     "data": {
      "application/vnd.jupyter.widget-view+json": {
       "model_id": "99c7463c02314a66a16d7f905760b4f1",
       "version_major": 2,
       "version_minor": 0
      },
      "text/plain": [
       "HBox(children=(FloatProgress(value=0.0, max=10054.0), HTML(value='')))"
      ]
     },
     "metadata": {},
     "output_type": "display_data"
    },
    {
     "name": "stdout",
     "output_type": "stream",
     "text": [
      "\n"
     ]
    }
   ],
   "source": [
    "img_dir = \"./panda-36x256x256-tiles-data-opt/train_norm/\"\n",
    "mask_dir = \"./panda-36x256x256-tiles-data-opt/masks\"\n",
    "# mask_label_dict = {\"radboud\":{}, \"karolinska\":{}}\n",
    "# pix_intensity_dict = {\"radboud\":{\"0\":(0,0),\"1\":(0,0), \"2\":(0,0),\"3\":(0,0), \"4\":(0,0), \"5\":(0,0)}, \n",
    "#                        \"karolinska\":{\"0\":(0,0), \"1\":(0,0), \"2\":(0,0)}}\n",
    "\n",
    "mean_pix = []\n",
    "for i in tqdm(range(len(df))):\n",
    "    img_id, tile_number, provider = df.loc[i, \"image_id\"], df.loc[i, \"tile_number\"], df.loc[i, \"data_provider\"]\n",
    "    mask_label_dict[provider][img_id] = []\n",
    "#     s = \"\"\n",
    "    for j in range(tile_number):\n",
    "        try:\n",
    "            image = Image.open(os.path.join(img_dir, f\"{img_id}_{j}.png\")).convert(\"RGB\")\n",
    "#             mask = Image.open(os.path.join(mask_dir, f\"{img_id}_{j}.png\")).convert(\"RGB\")\n",
    "        except:\n",
    "            continue\n",
    "        image = np.asarray(image)\n",
    "#         s += str(255 - np.mean(image).astype(\"int\")) + \",\"\n",
    "#         mask = np.asarray(mask)[:,:,0]\n",
    "#         mask_label_dict[provider][img_id].append(np.max(mask))\n",
    "#         pix_intensity_dict[provider][str(np.max(mask))] = (pix_intensity_dict[provider][str(np.max(mask))][0] + np.mean(image),\n",
    "#                                                            pix_intensity_dict[provider][str(np.max(mask))][1] + 1)\n",
    "\n",
    "        image = image / 255.0\n",
    "        mean_pix.append(np.mean(image, axis = (0, 1)))\n",
    "#         break\n",
    "#     if i == 5:\n",
    "#         break\n",
    "#     df.loc[i, \"tile_pixel\"] = s\n",
    "#     break\n",
    "#     if i == 10:\n",
    "#         break"
   ]
  },
  {
   "cell_type": "code",
   "execution_count": 161,
   "metadata": {},
   "outputs": [],
   "source": [
    "mean_pix = np.asarray(mean_pix)"
   ]
  },
  {
   "cell_type": "code",
   "execution_count": 166,
   "metadata": {},
   "outputs": [],
   "source": [
    "c_mean = np.mean(mean_pix, axis = 0)\n",
    "c_var = np.std(mean_pix, axis = 0)"
   ]
  },
  {
   "cell_type": "code",
   "execution_count": 172,
   "metadata": {},
   "outputs": [],
   "source": [
    "img = (np.zeros((10,10,3)) - c_mean)/c_var"
   ]
  },
  {
   "cell_type": "code",
   "execution_count": 173,
   "metadata": {},
   "outputs": [
    {
     "data": {
      "text/plain": [
       "array([[[-11.34591513,  -4.26391002,  -8.97536726],\n",
       "        [-11.34591513,  -4.26391002,  -8.97536726],\n",
       "        [-11.34591513,  -4.26391002,  -8.97536726],\n",
       "        [-11.34591513,  -4.26391002,  -8.97536726],\n",
       "        [-11.34591513,  -4.26391002,  -8.97536726],\n",
       "        [-11.34591513,  -4.26391002,  -8.97536726],\n",
       "        [-11.34591513,  -4.26391002,  -8.97536726],\n",
       "        [-11.34591513,  -4.26391002,  -8.97536726],\n",
       "        [-11.34591513,  -4.26391002,  -8.97536726],\n",
       "        [-11.34591513,  -4.26391002,  -8.97536726]],\n",
       "\n",
       "       [[-11.34591513,  -4.26391002,  -8.97536726],\n",
       "        [-11.34591513,  -4.26391002,  -8.97536726],\n",
       "        [-11.34591513,  -4.26391002,  -8.97536726],\n",
       "        [-11.34591513,  -4.26391002,  -8.97536726],\n",
       "        [-11.34591513,  -4.26391002,  -8.97536726],\n",
       "        [-11.34591513,  -4.26391002,  -8.97536726],\n",
       "        [-11.34591513,  -4.26391002,  -8.97536726],\n",
       "        [-11.34591513,  -4.26391002,  -8.97536726],\n",
       "        [-11.34591513,  -4.26391002,  -8.97536726],\n",
       "        [-11.34591513,  -4.26391002,  -8.97536726]],\n",
       "\n",
       "       [[-11.34591513,  -4.26391002,  -8.97536726],\n",
       "        [-11.34591513,  -4.26391002,  -8.97536726],\n",
       "        [-11.34591513,  -4.26391002,  -8.97536726],\n",
       "        [-11.34591513,  -4.26391002,  -8.97536726],\n",
       "        [-11.34591513,  -4.26391002,  -8.97536726],\n",
       "        [-11.34591513,  -4.26391002,  -8.97536726],\n",
       "        [-11.34591513,  -4.26391002,  -8.97536726],\n",
       "        [-11.34591513,  -4.26391002,  -8.97536726],\n",
       "        [-11.34591513,  -4.26391002,  -8.97536726],\n",
       "        [-11.34591513,  -4.26391002,  -8.97536726]],\n",
       "\n",
       "       [[-11.34591513,  -4.26391002,  -8.97536726],\n",
       "        [-11.34591513,  -4.26391002,  -8.97536726],\n",
       "        [-11.34591513,  -4.26391002,  -8.97536726],\n",
       "        [-11.34591513,  -4.26391002,  -8.97536726],\n",
       "        [-11.34591513,  -4.26391002,  -8.97536726],\n",
       "        [-11.34591513,  -4.26391002,  -8.97536726],\n",
       "        [-11.34591513,  -4.26391002,  -8.97536726],\n",
       "        [-11.34591513,  -4.26391002,  -8.97536726],\n",
       "        [-11.34591513,  -4.26391002,  -8.97536726],\n",
       "        [-11.34591513,  -4.26391002,  -8.97536726]],\n",
       "\n",
       "       [[-11.34591513,  -4.26391002,  -8.97536726],\n",
       "        [-11.34591513,  -4.26391002,  -8.97536726],\n",
       "        [-11.34591513,  -4.26391002,  -8.97536726],\n",
       "        [-11.34591513,  -4.26391002,  -8.97536726],\n",
       "        [-11.34591513,  -4.26391002,  -8.97536726],\n",
       "        [-11.34591513,  -4.26391002,  -8.97536726],\n",
       "        [-11.34591513,  -4.26391002,  -8.97536726],\n",
       "        [-11.34591513,  -4.26391002,  -8.97536726],\n",
       "        [-11.34591513,  -4.26391002,  -8.97536726],\n",
       "        [-11.34591513,  -4.26391002,  -8.97536726]],\n",
       "\n",
       "       [[-11.34591513,  -4.26391002,  -8.97536726],\n",
       "        [-11.34591513,  -4.26391002,  -8.97536726],\n",
       "        [-11.34591513,  -4.26391002,  -8.97536726],\n",
       "        [-11.34591513,  -4.26391002,  -8.97536726],\n",
       "        [-11.34591513,  -4.26391002,  -8.97536726],\n",
       "        [-11.34591513,  -4.26391002,  -8.97536726],\n",
       "        [-11.34591513,  -4.26391002,  -8.97536726],\n",
       "        [-11.34591513,  -4.26391002,  -8.97536726],\n",
       "        [-11.34591513,  -4.26391002,  -8.97536726],\n",
       "        [-11.34591513,  -4.26391002,  -8.97536726]],\n",
       "\n",
       "       [[-11.34591513,  -4.26391002,  -8.97536726],\n",
       "        [-11.34591513,  -4.26391002,  -8.97536726],\n",
       "        [-11.34591513,  -4.26391002,  -8.97536726],\n",
       "        [-11.34591513,  -4.26391002,  -8.97536726],\n",
       "        [-11.34591513,  -4.26391002,  -8.97536726],\n",
       "        [-11.34591513,  -4.26391002,  -8.97536726],\n",
       "        [-11.34591513,  -4.26391002,  -8.97536726],\n",
       "        [-11.34591513,  -4.26391002,  -8.97536726],\n",
       "        [-11.34591513,  -4.26391002,  -8.97536726],\n",
       "        [-11.34591513,  -4.26391002,  -8.97536726]],\n",
       "\n",
       "       [[-11.34591513,  -4.26391002,  -8.97536726],\n",
       "        [-11.34591513,  -4.26391002,  -8.97536726],\n",
       "        [-11.34591513,  -4.26391002,  -8.97536726],\n",
       "        [-11.34591513,  -4.26391002,  -8.97536726],\n",
       "        [-11.34591513,  -4.26391002,  -8.97536726],\n",
       "        [-11.34591513,  -4.26391002,  -8.97536726],\n",
       "        [-11.34591513,  -4.26391002,  -8.97536726],\n",
       "        [-11.34591513,  -4.26391002,  -8.97536726],\n",
       "        [-11.34591513,  -4.26391002,  -8.97536726],\n",
       "        [-11.34591513,  -4.26391002,  -8.97536726]],\n",
       "\n",
       "       [[-11.34591513,  -4.26391002,  -8.97536726],\n",
       "        [-11.34591513,  -4.26391002,  -8.97536726],\n",
       "        [-11.34591513,  -4.26391002,  -8.97536726],\n",
       "        [-11.34591513,  -4.26391002,  -8.97536726],\n",
       "        [-11.34591513,  -4.26391002,  -8.97536726],\n",
       "        [-11.34591513,  -4.26391002,  -8.97536726],\n",
       "        [-11.34591513,  -4.26391002,  -8.97536726],\n",
       "        [-11.34591513,  -4.26391002,  -8.97536726],\n",
       "        [-11.34591513,  -4.26391002,  -8.97536726],\n",
       "        [-11.34591513,  -4.26391002,  -8.97536726]],\n",
       "\n",
       "       [[-11.34591513,  -4.26391002,  -8.97536726],\n",
       "        [-11.34591513,  -4.26391002,  -8.97536726],\n",
       "        [-11.34591513,  -4.26391002,  -8.97536726],\n",
       "        [-11.34591513,  -4.26391002,  -8.97536726],\n",
       "        [-11.34591513,  -4.26391002,  -8.97536726],\n",
       "        [-11.34591513,  -4.26391002,  -8.97536726],\n",
       "        [-11.34591513,  -4.26391002,  -8.97536726],\n",
       "        [-11.34591513,  -4.26391002,  -8.97536726],\n",
       "        [-11.34591513,  -4.26391002,  -8.97536726],\n",
       "        [-11.34591513,  -4.26391002,  -8.97536726]]])"
      ]
     },
     "execution_count": 173,
     "metadata": {},
     "output_type": "execute_result"
    }
   ],
   "source": [
    "img"
   ]
  },
  {
   "cell_type": "code",
   "execution_count": 167,
   "metadata": {},
   "outputs": [
    {
     "data": {
      "text/plain": [
       "(array([0.79667089, 0.59347025, 0.75775308]),\n",
       " array([0.07021654, 0.13918451, 0.08442586]))"
      ]
     },
     "execution_count": 167,
     "metadata": {},
     "output_type": "execute_result"
    }
   ],
   "source": [
    "c_mean, c_var"
   ]
  },
  {
   "cell_type": "code",
   "execution_count": 143,
   "metadata": {},
   "outputs": [
    {
     "data": {
      "text/html": [
       "<div>\n",
       "<style scoped>\n",
       "    .dataframe tbody tr th:only-of-type {\n",
       "        vertical-align: middle;\n",
       "    }\n",
       "\n",
       "    .dataframe tbody tr th {\n",
       "        vertical-align: top;\n",
       "    }\n",
       "\n",
       "    .dataframe thead th {\n",
       "        text-align: right;\n",
       "    }\n",
       "</style>\n",
       "<table border=\"1\" class=\"dataframe\">\n",
       "  <thead>\n",
       "    <tr style=\"text-align: right;\">\n",
       "      <th></th>\n",
       "      <th>image_id</th>\n",
       "      <th>data_provider</th>\n",
       "      <th>isup_grade</th>\n",
       "      <th>gleason_score</th>\n",
       "      <th>tile_number</th>\n",
       "      <th>split</th>\n",
       "      <th>tile_pixel</th>\n",
       "    </tr>\n",
       "  </thead>\n",
       "  <tbody>\n",
       "    <tr>\n",
       "      <th>0</th>\n",
       "      <td>9716b5d2e13a28be3dc836134153720c</td>\n",
       "      <td>radboud</td>\n",
       "      <td>4</td>\n",
       "      <td>4+4</td>\n",
       "      <td>7</td>\n",
       "      <td>1.0</td>\n",
       "      <td>121,109,111,86,81,79,77,</td>\n",
       "    </tr>\n",
       "    <tr>\n",
       "      <th>1</th>\n",
       "      <td>0954f0bb123cf3be8b00c9c989dcf3d6</td>\n",
       "      <td>karolinska</td>\n",
       "      <td>0</td>\n",
       "      <td>0+0</td>\n",
       "      <td>43</td>\n",
       "      <td>1.0</td>\n",
       "      <td>152,141,135,134,127,128,128,123,126,122,117,11...</td>\n",
       "    </tr>\n",
       "    <tr>\n",
       "      <th>2</th>\n",
       "      <td>d861180850ca54282b38c782734a7dc7</td>\n",
       "      <td>karolinska</td>\n",
       "      <td>0</td>\n",
       "      <td>0+0</td>\n",
       "      <td>39</td>\n",
       "      <td>0.0</td>\n",
       "      <td>89,82,72,67,70,69,69,60,61,69,68,69,58,57,60,6...</td>\n",
       "    </tr>\n",
       "    <tr>\n",
       "      <th>3</th>\n",
       "      <td>459154b1334d073cfef8af95362a7051</td>\n",
       "      <td>karolinska</td>\n",
       "      <td>0</td>\n",
       "      <td>0+0</td>\n",
       "      <td>34</td>\n",
       "      <td>1.0</td>\n",
       "      <td>112,103,102,99,92,89,97,90,94,88,83,83,82,79,7...</td>\n",
       "    </tr>\n",
       "    <tr>\n",
       "      <th>4</th>\n",
       "      <td>27489a7f1972687cccb1258116ff7f10</td>\n",
       "      <td>karolinska</td>\n",
       "      <td>0</td>\n",
       "      <td>0+0</td>\n",
       "      <td>24</td>\n",
       "      <td>0.0</td>\n",
       "      <td>105,101,101,92,87,85,84,89,86,83,81,77,73,80,7...</td>\n",
       "    </tr>\n",
       "    <tr>\n",
       "      <th>5</th>\n",
       "      <td>fb5fd7ab15e699998a30b36fe169431b</td>\n",
       "      <td>radboud</td>\n",
       "      <td>3</td>\n",
       "      <td>4+3</td>\n",
       "      <td>18</td>\n",
       "      <td>1.0</td>\n",
       "      <td>112,115,116,99,116,101,105,108,85,106,103,97,9...</td>\n",
       "    </tr>\n",
       "    <tr>\n",
       "      <th>6</th>\n",
       "      <td>06f714d78f6f5c545cd149cf71c7c1c1</td>\n",
       "      <td>karolinska</td>\n",
       "      <td>0</td>\n",
       "      <td>0+0</td>\n",
       "      <td>68</td>\n",
       "      <td>2.0</td>\n",
       "      <td>73,67,69,67,67,61,60,64,66,62,65,63,59,54,66,6...</td>\n",
       "    </tr>\n",
       "    <tr>\n",
       "      <th>7</th>\n",
       "      <td>f40c17b3402d3937434e08f419ebb3d9</td>\n",
       "      <td>radboud</td>\n",
       "      <td>4</td>\n",
       "      <td>3+5</td>\n",
       "      <td>32</td>\n",
       "      <td>3.0</td>\n",
       "      <td>73,81,71,70,58,51,53,72,61,66,63,71,62,57,64,5...</td>\n",
       "    </tr>\n",
       "    <tr>\n",
       "      <th>8</th>\n",
       "      <td>746cfe9ab71459d51eb0fbdb72348ae8</td>\n",
       "      <td>radboud</td>\n",
       "      <td>5</td>\n",
       "      <td>5+4</td>\n",
       "      <td>20</td>\n",
       "      <td>3.0</td>\n",
       "      <td>129,112,104,99,97,86,86,91,90,77,88,76,75,74,5...</td>\n",
       "    </tr>\n",
       "    <tr>\n",
       "      <th>9</th>\n",
       "      <td>2f64fb8c55543d67a8831f1b1a7a89c2</td>\n",
       "      <td>karolinska</td>\n",
       "      <td>4</td>\n",
       "      <td>4+4</td>\n",
       "      <td>43</td>\n",
       "      <td>2.0</td>\n",
       "      <td>74,75,72,64,69,71,63,59,69,66,57,65,59,59,56,6...</td>\n",
       "    </tr>\n",
       "    <tr>\n",
       "      <th>10</th>\n",
       "      <td>1ad3541a3fe674e74dba9b3507eea0d7</td>\n",
       "      <td>radboud</td>\n",
       "      <td>1</td>\n",
       "      <td>3+3</td>\n",
       "      <td>23</td>\n",
       "      <td>3.0</td>\n",
       "      <td>108,90,103,108,95,98,79,94,83,70,72,82,90,76,8...</td>\n",
       "    </tr>\n",
       "    <tr>\n",
       "      <th>11</th>\n",
       "      <td>875a9828eae84e015c5ed0e2fdd76b8e</td>\n",
       "      <td>karolinska</td>\n",
       "      <td>0</td>\n",
       "      <td>0+0</td>\n",
       "      <td>18</td>\n",
       "      <td>1.0</td>\n",
       "      <td>91,82,78,85,84,86,82,81,75,72,61,59,71,49,57,5...</td>\n",
       "    </tr>\n",
       "    <tr>\n",
       "      <th>12</th>\n",
       "      <td>27fc326a541217b0ddf54ba29ffef99b</td>\n",
       "      <td>karolinska</td>\n",
       "      <td>0</td>\n",
       "      <td>0+0</td>\n",
       "      <td>35</td>\n",
       "      <td>2.0</td>\n",
       "      <td>105,103,102,101,102,100,98,88,89,86,86,86,83,7...</td>\n",
       "    </tr>\n",
       "    <tr>\n",
       "      <th>13</th>\n",
       "      <td>3eee912c7daba1d6c5c6968ef71b5570</td>\n",
       "      <td>radboud</td>\n",
       "      <td>1</td>\n",
       "      <td>3+3</td>\n",
       "      <td>8</td>\n",
       "      <td>2.0</td>\n",
       "      <td>85,93,65,57,58,76,53,53,</td>\n",
       "    </tr>\n",
       "    <tr>\n",
       "      <th>14</th>\n",
       "      <td>2afc7c9cd96699ecb7d88a8a6f387628</td>\n",
       "      <td>radboud</td>\n",
       "      <td>0</td>\n",
       "      <td>negative</td>\n",
       "      <td>16</td>\n",
       "      <td>2.0</td>\n",
       "      <td>81,85,64,66,49,37,67,49,59,47,60,51,56,42,53,32,</td>\n",
       "    </tr>\n",
       "    <tr>\n",
       "      <th>15</th>\n",
       "      <td>9be6b9a4057903ccf884e75c8f430c7f</td>\n",
       "      <td>karolinska</td>\n",
       "      <td>1</td>\n",
       "      <td>3+3</td>\n",
       "      <td>24</td>\n",
       "      <td>2.0</td>\n",
       "      <td>100,97,96,95,96,94,94,95,89,88,86,85,85,83,87,...</td>\n",
       "    </tr>\n",
       "    <tr>\n",
       "      <th>16</th>\n",
       "      <td>5baaefc5eba0fef699e4fd80040e482b</td>\n",
       "      <td>karolinska</td>\n",
       "      <td>0</td>\n",
       "      <td>0+0</td>\n",
       "      <td>8</td>\n",
       "      <td>3.0</td>\n",
       "      <td>79,75,77,56,38,33,24,20,</td>\n",
       "    </tr>\n",
       "    <tr>\n",
       "      <th>17</th>\n",
       "      <td>bf9725f0dc71d2ac533b21d7dff4b796</td>\n",
       "      <td>radboud</td>\n",
       "      <td>1</td>\n",
       "      <td>3+3</td>\n",
       "      <td>28</td>\n",
       "      <td>1.0</td>\n",
       "      <td>125,120,124,117,108,102,109,100,99,85,93,105,9...</td>\n",
       "    </tr>\n",
       "    <tr>\n",
       "      <th>18</th>\n",
       "      <td>0e347f2fd5526d221233e35dacb2f79c</td>\n",
       "      <td>karolinska</td>\n",
       "      <td>1</td>\n",
       "      <td>3+3</td>\n",
       "      <td>37</td>\n",
       "      <td>1.0</td>\n",
       "      <td>103,103,101,101,101,98,93,89,89,84,83,89,81,81...</td>\n",
       "    </tr>\n",
       "    <tr>\n",
       "      <th>19</th>\n",
       "      <td>6553fc05481b944143ac4db2446e98b9</td>\n",
       "      <td>karolinska</td>\n",
       "      <td>1</td>\n",
       "      <td>3+3</td>\n",
       "      <td>24</td>\n",
       "      <td>3.0</td>\n",
       "      <td>118,120,110,115,114,113,113,112,110,110,109,10...</td>\n",
       "    </tr>\n",
       "  </tbody>\n",
       "</table>\n",
       "</div>"
      ],
      "text/plain": [
       "                            image_id data_provider  isup_grade gleason_score  \\\n",
       "0   9716b5d2e13a28be3dc836134153720c       radboud           4           4+4   \n",
       "1   0954f0bb123cf3be8b00c9c989dcf3d6    karolinska           0           0+0   \n",
       "2   d861180850ca54282b38c782734a7dc7    karolinska           0           0+0   \n",
       "3   459154b1334d073cfef8af95362a7051    karolinska           0           0+0   \n",
       "4   27489a7f1972687cccb1258116ff7f10    karolinska           0           0+0   \n",
       "5   fb5fd7ab15e699998a30b36fe169431b       radboud           3           4+3   \n",
       "6   06f714d78f6f5c545cd149cf71c7c1c1    karolinska           0           0+0   \n",
       "7   f40c17b3402d3937434e08f419ebb3d9       radboud           4           3+5   \n",
       "8   746cfe9ab71459d51eb0fbdb72348ae8       radboud           5           5+4   \n",
       "9   2f64fb8c55543d67a8831f1b1a7a89c2    karolinska           4           4+4   \n",
       "10  1ad3541a3fe674e74dba9b3507eea0d7       radboud           1           3+3   \n",
       "11  875a9828eae84e015c5ed0e2fdd76b8e    karolinska           0           0+0   \n",
       "12  27fc326a541217b0ddf54ba29ffef99b    karolinska           0           0+0   \n",
       "13  3eee912c7daba1d6c5c6968ef71b5570       radboud           1           3+3   \n",
       "14  2afc7c9cd96699ecb7d88a8a6f387628       radboud           0      negative   \n",
       "15  9be6b9a4057903ccf884e75c8f430c7f    karolinska           1           3+3   \n",
       "16  5baaefc5eba0fef699e4fd80040e482b    karolinska           0           0+0   \n",
       "17  bf9725f0dc71d2ac533b21d7dff4b796       radboud           1           3+3   \n",
       "18  0e347f2fd5526d221233e35dacb2f79c    karolinska           1           3+3   \n",
       "19  6553fc05481b944143ac4db2446e98b9    karolinska           1           3+3   \n",
       "\n",
       "    tile_number  split                                         tile_pixel  \n",
       "0             7    1.0                           121,109,111,86,81,79,77,  \n",
       "1            43    1.0  152,141,135,134,127,128,128,123,126,122,117,11...  \n",
       "2            39    0.0  89,82,72,67,70,69,69,60,61,69,68,69,58,57,60,6...  \n",
       "3            34    1.0  112,103,102,99,92,89,97,90,94,88,83,83,82,79,7...  \n",
       "4            24    0.0  105,101,101,92,87,85,84,89,86,83,81,77,73,80,7...  \n",
       "5            18    1.0  112,115,116,99,116,101,105,108,85,106,103,97,9...  \n",
       "6            68    2.0  73,67,69,67,67,61,60,64,66,62,65,63,59,54,66,6...  \n",
       "7            32    3.0  73,81,71,70,58,51,53,72,61,66,63,71,62,57,64,5...  \n",
       "8            20    3.0  129,112,104,99,97,86,86,91,90,77,88,76,75,74,5...  \n",
       "9            43    2.0  74,75,72,64,69,71,63,59,69,66,57,65,59,59,56,6...  \n",
       "10           23    3.0  108,90,103,108,95,98,79,94,83,70,72,82,90,76,8...  \n",
       "11           18    1.0  91,82,78,85,84,86,82,81,75,72,61,59,71,49,57,5...  \n",
       "12           35    2.0  105,103,102,101,102,100,98,88,89,86,86,86,83,7...  \n",
       "13            8    2.0                           85,93,65,57,58,76,53,53,  \n",
       "14           16    2.0   81,85,64,66,49,37,67,49,59,47,60,51,56,42,53,32,  \n",
       "15           24    2.0  100,97,96,95,96,94,94,95,89,88,86,85,85,83,87,...  \n",
       "16            8    3.0                           79,75,77,56,38,33,24,20,  \n",
       "17           28    1.0  125,120,124,117,108,102,109,100,99,85,93,105,9...  \n",
       "18           37    1.0  103,103,101,101,101,98,93,89,89,84,83,89,81,81...  \n",
       "19           24    3.0  118,120,110,115,114,113,113,112,110,110,109,10...  "
      ]
     },
     "execution_count": 143,
     "metadata": {},
     "output_type": "execute_result"
    }
   ],
   "source": [
    "df.head(20)"
   ]
  },
  {
   "cell_type": "code",
   "execution_count": 131,
   "metadata": {},
   "outputs": [],
   "source": [
    "df.to_csv(csv_file)"
   ]
  },
  {
   "cell_type": "code",
   "execution_count": 139,
   "metadata": {},
   "outputs": [
    {
     "data": {
      "text/plain": [
       "array([121, 109, 111,  86,  81,  79,  77])"
      ]
     },
     "execution_count": 139,
     "metadata": {},
     "output_type": "execute_result"
    }
   ],
   "source": [
    "s = str(df.loc[0, \"tile_pixel\"])\n",
    "s = np.asarray(s.split(\",\")[:-1]).astype(int)\n",
    "s"
   ]
  },
  {
   "cell_type": "code",
   "execution_count": 142,
   "metadata": {},
   "outputs": [
    {
     "data": {
      "text/plain": [
       "array([0, 2])"
      ]
     },
     "execution_count": 142,
     "metadata": {},
     "output_type": "execute_result"
    }
   ],
   "source": [
    "np.argsort(s)[::-1][:2]"
   ]
  },
  {
   "cell_type": "code",
   "execution_count": 94,
   "metadata": {},
   "outputs": [],
   "source": [
    "informed_tiles = {\"radboud\":[], \"karolinska\":[]}\n",
    "for prv in mask_label_dict:\n",
    "    for img_name in mask_label_dict[prv]:\n",
    "        if prv == \"radboud\":\n",
    "            th = 2\n",
    "        else:\n",
    "            th = 1\n",
    "        isup_grade = df.loc[df.image_id == img_name, \"isup_grade\"]\n",
    "        if int(isup_grade) > 0:\n",
    "            informed_tiles[prv].append(np.sum(np.asarray(mask_label_dict[prv][img_name]) > th))"
   ]
  },
  {
   "cell_type": "code",
   "execution_count": 101,
   "metadata": {},
   "outputs": [
    {
     "data": {
      "text/plain": [
       "Text(0.5, 1.0, 'informed_cancerous_tile_number_radboud')"
      ]
     },
     "execution_count": 101,
     "metadata": {},
     "output_type": "execute_result"
    },
    {
     "data": {
      "image/png": "[encoded data removed]",
      "text/plain": [
       "<Figure size 432x288 with 1 Axes>"
      ]
     },
     "metadata": {
      "needs_background": "light"
     },
     "output_type": "display_data"
    }
   ],
   "source": [
    "plt.hist(informed_tiles[\"radboud\"], bins = 25)\n",
    "plt.title(\"informed_cancerous_tile_number_radboud\")"
   ]
  },
  {
   "cell_type": "code",
   "execution_count": 102,
   "metadata": {},
   "outputs": [
    {
     "data": {
      "text/plain": [
       "Text(0.5, 1.0, 'informed_cancerous_tile_number_karolinska')"
      ]
     },
     "execution_count": 102,
     "metadata": {},
     "output_type": "execute_result"
    },
    {
     "data": {
      "image/png": "[encoded data removed]",
      "text/plain": [
       "<Figure size 432x288 with 1 Axes>"
      ]
     },
     "metadata": {
      "needs_background": "light"
     },
     "output_type": "display_data"
    }
   ],
   "source": [
    "plt.hist(informed_tiles[\"karolinska\"], bins=50)\n",
    "plt.title(\"informed_cancerous_tile_number_karolinska\")"
   ]
  },
  {
   "cell_type": "code",
   "execution_count": 100,
   "metadata": {},
   "outputs": [
    {
     "data": {
      "text/plain": [
       "['[1', ' 2', ' 3', ' 45]']"
      ]
     },
     "execution_count": 100,
     "metadata": {},
     "output_type": "execute_result"
    }
   ],
   "source": [
    "s = str([1,2,3,45])\n",
    "s.split(',')"
   ]
  },
  {
   "cell_type": "code",
   "execution_count": 65,
   "metadata": {},
   "outputs": [],
   "source": [
    "pix_intensity_dict_p = {\"radboud\":{\"0\":0,\"1\":0, \"2\":0,\"3\":0, \"4\":0, \"5\":0}, \n",
    "                       \"karolinska\":{\"0\":0, \"1\":0, \"2\":0}}\n",
    "for prv in pix_intensity_dict:\n",
    "    for grade in pix_intensity_dict[prv]:\n",
    "        pix_intensity_dict_p[prv][grade] = pix_intensity_dict[prv][grade][0] / pix_intensity_dict[prv][grade][1]"
   ]
  },
  {
   "cell_type": "code",
   "execution_count": 66,
   "metadata": {},
   "outputs": [
    {
     "data": {
      "text/plain": [
       "{'radboud': {'0': 187.33152627575288,\n",
       "  '1': 193.41127956249926,\n",
       "  '2': 185.0654008100413,\n",
       "  '3': 177.28456576847304,\n",
       "  '4': 179.65991338666808,\n",
       "  '5': 184.3245805288042},\n",
       " 'karolinska': {'0': 196.10129972540753,\n",
       "  '1': 182.0271881161454,\n",
       "  '2': 178.18201151902815}}"
      ]
     },
     "execution_count": 66,
     "metadata": {},
     "output_type": "execute_result"
    }
   ],
   "source": [
    "pix_intensity_dict_p"
   ]
  },
  {
   "cell_type": "code",
   "execution_count": 68,
   "metadata": {},
   "outputs": [
    {
     "data": {
      "text/plain": [
       "Text(0.5, 1.0, 'radboud mean pix v.s isup grade after norm')"
      ]
     },
     "execution_count": 68,
     "metadata": {},
     "output_type": "execute_result"
    },
    {
     "data": {
      "image/png": "[encoded data removed]",
      "text/plain": [
       "<Figure size 432x288 with 1 Axes>"
      ]
     },
     "metadata": {
      "needs_background": "light"
     },
     "output_type": "display_data"
    }
   ],
   "source": [
    "provider = 'radboud'\n",
    "x = list(pix_intensity_dict_p[provider].keys())\n",
    "data = list(pix_intensity_dict_p[provider].values())\n",
    "plt.bar(x, data, width=0.6)\n",
    "plt.ylim(min(data), max(data))\n",
    "plt.title(f\"{provider} mean pix v.s isup grade after norm\")"
   ]
  },
  {
   "cell_type": "code",
   "execution_count": 61,
   "metadata": {},
   "outputs": [],
   "source": [
    "with open('./csv_pkl_files/opt_patch_mask_label.pkl', 'wb') as handle:\n",
    "    pkl.dump(mask_label_dict, handle, protocol=pkl.HIGHEST_PROTOCOL)"
   ]
  }
 ],
 "metadata": {
  "kernelspec": {
   "display_name": "Python 3",
   "language": "python",
   "name": "python3"
  },
  "language_info": {
   "codemirror_mode": {
    "name": "ipython",
    "version": 3
   },
   "file_extension": ".py",
   "mimetype": "text/x-python",
   "name": "python",
   "nbconvert_exporter": "python",
   "pygments_lexer": "ipython3",
   "version": "3.6.8"
  }
 },
 "nbformat": 4,
 "nbformat_minor": 4
}
