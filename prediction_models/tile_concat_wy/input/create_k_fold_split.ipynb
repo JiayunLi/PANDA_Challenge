{
 "cells": [
  {
   "cell_type": "code",
   "execution_count": 1,
   "metadata": {},
   "outputs": [],
   "source": [
    "%reload_ext autoreload\n",
    "%autoreload 2\n",
    "%matplotlib inline\n",
    "import os\n",
    "os.environ[\"CUDA_DEVICE_ORDER\"]=\"PCI_BUS_ID\"\n",
    "os.environ[\"CUDA_VISIBLE_DEVICES\"]=\"0\"  # specify which GPU(s) to be used"
   ]
  },
  {
   "cell_type": "code",
   "execution_count": 2,
   "metadata": {},
   "outputs": [],
   "source": [
    "import torch\n",
    "import pandas as pd\n",
    "import numpy as np\n",
    "from sklearn.model_selection import StratifiedKFold"
   ]
  },
  {
   "cell_type": "markdown",
   "metadata": {},
   "source": [
    "### Define training folders and files"
   ]
  },
  {
   "cell_type": "code",
   "execution_count": 3,
   "metadata": {},
   "outputs": [],
   "source": [
    "LABELS = './prostate-cancer-grade-assessment/train.csv'\n",
    "TRAIN = './panda-16x128x128-tiles-data/train/'"
   ]
  },
  {
   "cell_type": "markdown",
   "metadata": {},
   "source": [
    "### Define K-fold and random seed"
   ]
  },
  {
   "cell_type": "code",
   "execution_count": 4,
   "metadata": {},
   "outputs": [],
   "source": [
    "nfolds = 4\n",
    "SEED = 2020"
   ]
  },
  {
   "cell_type": "markdown",
   "metadata": {},
   "source": [
    "### Assign folder to each case"
   ]
  },
  {
   "cell_type": "code",
   "execution_count": 5,
   "metadata": {},
   "outputs": [
    {
     "data": {
      "text/html": [
       "<div>\n",
       "<style scoped>\n",
       "    .dataframe tbody tr th:only-of-type {\n",
       "        vertical-align: middle;\n",
       "    }\n",
       "\n",
       "    .dataframe tbody tr th {\n",
       "        vertical-align: top;\n",
       "    }\n",
       "\n",
       "    .dataframe thead th {\n",
       "        text-align: right;\n",
       "    }\n",
       "</style>\n",
       "<table border=\"1\" class=\"dataframe\">\n",
       "  <thead>\n",
       "    <tr style=\"text-align: right;\">\n",
       "      <th></th>\n",
       "      <th>image_id</th>\n",
       "      <th>data_provider</th>\n",
       "      <th>isup_grade</th>\n",
       "      <th>gleason_score</th>\n",
       "    </tr>\n",
       "  </thead>\n",
       "  <tbody>\n",
       "    <tr>\n",
       "      <th>0</th>\n",
       "      <td>0018ae58b01bdadc8e347995b69f99aa</td>\n",
       "      <td>radboud</td>\n",
       "      <td>4</td>\n",
       "      <td>4+4</td>\n",
       "    </tr>\n",
       "    <tr>\n",
       "      <th>1</th>\n",
       "      <td>004dd32d9cd167d9cc31c13b704498af</td>\n",
       "      <td>radboud</td>\n",
       "      <td>1</td>\n",
       "      <td>3+3</td>\n",
       "    </tr>\n",
       "    <tr>\n",
       "      <th>2</th>\n",
       "      <td>0068d4c7529e34fd4c9da863ce01a161</td>\n",
       "      <td>radboud</td>\n",
       "      <td>3</td>\n",
       "      <td>4+3</td>\n",
       "    </tr>\n",
       "    <tr>\n",
       "      <th>3</th>\n",
       "      <td>006f6aa35a78965c92fffd1fbd53a058</td>\n",
       "      <td>radboud</td>\n",
       "      <td>3</td>\n",
       "      <td>4+3</td>\n",
       "    </tr>\n",
       "    <tr>\n",
       "      <th>4</th>\n",
       "      <td>007433133235efc27a39f11df6940829</td>\n",
       "      <td>radboud</td>\n",
       "      <td>0</td>\n",
       "      <td>negative</td>\n",
       "    </tr>\n",
       "  </tbody>\n",
       "</table>\n",
       "</div>"
      ],
      "text/plain": [
       "                           image_id data_provider  isup_grade gleason_score\n",
       "0  0018ae58b01bdadc8e347995b69f99aa       radboud           4           4+4\n",
       "1  004dd32d9cd167d9cc31c13b704498af       radboud           1           3+3\n",
       "2  0068d4c7529e34fd4c9da863ce01a161       radboud           3           4+3\n",
       "3  006f6aa35a78965c92fffd1fbd53a058       radboud           3           4+3\n",
       "4  007433133235efc27a39f11df6940829       radboud           0      negative"
      ]
     },
     "execution_count": 5,
     "metadata": {},
     "output_type": "execute_result"
    }
   ],
   "source": [
    "center = 'radboud' ## choose from karolinska and radboud\n",
    "df = pd.read_csv(LABELS).set_index('image_id') ## read in \"train.csv\" and set 'image_id' as index column\n",
    "files = sorted(set([p[:32] for p in os.listdir(TRAIN)])) ## extract image id from the img patch folder\n",
    "df = df.loc[files]\n",
    "df = df.loc[df['data_provider'] == center]\n",
    "df = df.reset_index() ## remove 'image_id' that without masks\n",
    "df.head()"
   ]
  },
  {
   "cell_type": "code",
   "execution_count": 6,
   "metadata": {},
   "outputs": [
    {
     "data": {
      "text/html": [
       "<div>\n",
       "<style scoped>\n",
       "    .dataframe tbody tr th:only-of-type {\n",
       "        vertical-align: middle;\n",
       "    }\n",
       "\n",
       "    .dataframe tbody tr th {\n",
       "        vertical-align: top;\n",
       "    }\n",
       "\n",
       "    .dataframe thead th {\n",
       "        text-align: right;\n",
       "    }\n",
       "</style>\n",
       "<table border=\"1\" class=\"dataframe\">\n",
       "  <thead>\n",
       "    <tr style=\"text-align: right;\">\n",
       "      <th></th>\n",
       "      <th>data_provider</th>\n",
       "      <th>isup_grade</th>\n",
       "      <th>gleason_score</th>\n",
       "      <th>split</th>\n",
       "    </tr>\n",
       "    <tr>\n",
       "      <th>image_id</th>\n",
       "      <th></th>\n",
       "      <th></th>\n",
       "      <th></th>\n",
       "      <th></th>\n",
       "    </tr>\n",
       "  </thead>\n",
       "  <tbody>\n",
       "    <tr>\n",
       "      <th>0018ae58b01bdadc8e347995b69f99aa</th>\n",
       "      <td>radboud</td>\n",
       "      <td>4</td>\n",
       "      <td>4+4</td>\n",
       "      <td>0</td>\n",
       "    </tr>\n",
       "    <tr>\n",
       "      <th>004dd32d9cd167d9cc31c13b704498af</th>\n",
       "      <td>radboud</td>\n",
       "      <td>1</td>\n",
       "      <td>3+3</td>\n",
       "      <td>1</td>\n",
       "    </tr>\n",
       "    <tr>\n",
       "      <th>0068d4c7529e34fd4c9da863ce01a161</th>\n",
       "      <td>radboud</td>\n",
       "      <td>3</td>\n",
       "      <td>4+3</td>\n",
       "      <td>2</td>\n",
       "    </tr>\n",
       "    <tr>\n",
       "      <th>006f6aa35a78965c92fffd1fbd53a058</th>\n",
       "      <td>radboud</td>\n",
       "      <td>3</td>\n",
       "      <td>4+3</td>\n",
       "      <td>0</td>\n",
       "    </tr>\n",
       "    <tr>\n",
       "      <th>007433133235efc27a39f11df6940829</th>\n",
       "      <td>radboud</td>\n",
       "      <td>0</td>\n",
       "      <td>negative</td>\n",
       "      <td>3</td>\n",
       "    </tr>\n",
       "    <tr>\n",
       "      <th>0076bcb66e46fb485f5ba432b9a1fe8a</th>\n",
       "      <td>radboud</td>\n",
       "      <td>3</td>\n",
       "      <td>4+3</td>\n",
       "      <td>1</td>\n",
       "    </tr>\n",
       "    <tr>\n",
       "      <th>008069b542b0439ed69b194674051964</th>\n",
       "      <td>radboud</td>\n",
       "      <td>4</td>\n",
       "      <td>4+4</td>\n",
       "      <td>1</td>\n",
       "    </tr>\n",
       "    <tr>\n",
       "      <th>00928370e2dfeb8a507667ef1d4efcbb</th>\n",
       "      <td>radboud</td>\n",
       "      <td>5</td>\n",
       "      <td>4+5</td>\n",
       "      <td>3</td>\n",
       "    </tr>\n",
       "    <tr>\n",
       "      <th>00951a7fad040bf7e90f32e81fc0746f</th>\n",
       "      <td>radboud</td>\n",
       "      <td>1</td>\n",
       "      <td>3+3</td>\n",
       "      <td>2</td>\n",
       "    </tr>\n",
       "    <tr>\n",
       "      <th>00a26aaa82c959624d90dfb69fcf259c</th>\n",
       "      <td>radboud</td>\n",
       "      <td>4</td>\n",
       "      <td>4+4</td>\n",
       "      <td>2</td>\n",
       "    </tr>\n",
       "  </tbody>\n",
       "</table>\n",
       "</div>"
      ],
      "text/plain": [
       "                                 data_provider  isup_grade gleason_score  \\\n",
       "image_id                                                                   \n",
       "0018ae58b01bdadc8e347995b69f99aa       radboud           4           4+4   \n",
       "004dd32d9cd167d9cc31c13b704498af       radboud           1           3+3   \n",
       "0068d4c7529e34fd4c9da863ce01a161       radboud           3           4+3   \n",
       "006f6aa35a78965c92fffd1fbd53a058       radboud           3           4+3   \n",
       "007433133235efc27a39f11df6940829       radboud           0      negative   \n",
       "0076bcb66e46fb485f5ba432b9a1fe8a       radboud           3           4+3   \n",
       "008069b542b0439ed69b194674051964       radboud           4           4+4   \n",
       "00928370e2dfeb8a507667ef1d4efcbb       radboud           5           4+5   \n",
       "00951a7fad040bf7e90f32e81fc0746f       radboud           1           3+3   \n",
       "00a26aaa82c959624d90dfb69fcf259c       radboud           4           4+4   \n",
       "\n",
       "                                  split  \n",
       "image_id                                 \n",
       "0018ae58b01bdadc8e347995b69f99aa      0  \n",
       "004dd32d9cd167d9cc31c13b704498af      1  \n",
       "0068d4c7529e34fd4c9da863ce01a161      2  \n",
       "006f6aa35a78965c92fffd1fbd53a058      0  \n",
       "007433133235efc27a39f11df6940829      3  \n",
       "0076bcb66e46fb485f5ba432b9a1fe8a      1  \n",
       "008069b542b0439ed69b194674051964      1  \n",
       "00928370e2dfeb8a507667ef1d4efcbb      3  \n",
       "00951a7fad040bf7e90f32e81fc0746f      2  \n",
       "00a26aaa82c959624d90dfb69fcf259c      2  "
      ]
     },
     "execution_count": 6,
     "metadata": {},
     "output_type": "execute_result"
    }
   ],
   "source": [
    "## stratified KFold class that can preserve the sample percentatage in each fold. \n",
    "splits = StratifiedKFold(n_splits=nfolds, random_state=SEED, shuffle=True) \n",
    "splits = list(splits.split(df,df.isup_grade)) ## list[(fold1_train_idx, fold1_test_idx), (fold2_train_idx, fold2_test_idx), ...]\n",
    "\n",
    "## mark each sample to the fold, in which the sample serve as a test case\n",
    "folds_splits = np.zeros(len(df)).astype(np.int) ## [0, 0, ...] with the number of cases\n",
    "for i in range(nfolds): \n",
    "    folds_splits[splits[i][1]] = i\n",
    "\n",
    "df['split'] = folds_splits ## add the K fold assignment column\n",
    "df = df.set_index('image_id')\n",
    "df.head(10)"
   ]
  },
  {
   "cell_type": "markdown",
   "metadata": {},
   "source": [
    "### Save df to file"
   ]
  },
  {
   "cell_type": "code",
   "execution_count": 7,
   "metadata": {},
   "outputs": [],
   "source": [
    "df.to_csv('./panda-32x256x256-tiles-data/{}_{}_fold_train.csv'.format(center,nfolds))"
   ]
  },
  {
   "cell_type": "markdown",
   "metadata": {},
   "source": [
    "## Read the file back to test index"
   ]
  },
  {
   "cell_type": "code",
   "execution_count": 8,
   "metadata": {},
   "outputs": [],
   "source": [
    "TRAINFOLD = './panda-32x256x256-tiles-data/{}_{}_fold_train.csv'.format(center, nfolds)"
   ]
  },
  {
   "cell_type": "code",
   "execution_count": 9,
   "metadata": {},
   "outputs": [
    {
     "data": {
      "text/html": [
       "<div>\n",
       "<style scoped>\n",
       "    .dataframe tbody tr th:only-of-type {\n",
       "        vertical-align: middle;\n",
       "    }\n",
       "\n",
       "    .dataframe tbody tr th {\n",
       "        vertical-align: top;\n",
       "    }\n",
       "\n",
       "    .dataframe thead th {\n",
       "        text-align: right;\n",
       "    }\n",
       "</style>\n",
       "<table border=\"1\" class=\"dataframe\">\n",
       "  <thead>\n",
       "    <tr style=\"text-align: right;\">\n",
       "      <th></th>\n",
       "      <th>image_id</th>\n",
       "      <th>data_provider</th>\n",
       "      <th>isup_grade</th>\n",
       "      <th>gleason_score</th>\n",
       "      <th>split</th>\n",
       "    </tr>\n",
       "  </thead>\n",
       "  <tbody>\n",
       "    <tr>\n",
       "      <th>0</th>\n",
       "      <td>0018ae58b01bdadc8e347995b69f99aa</td>\n",
       "      <td>radboud</td>\n",
       "      <td>4</td>\n",
       "      <td>4+4</td>\n",
       "      <td>0</td>\n",
       "    </tr>\n",
       "    <tr>\n",
       "      <th>1</th>\n",
       "      <td>004dd32d9cd167d9cc31c13b704498af</td>\n",
       "      <td>radboud</td>\n",
       "      <td>1</td>\n",
       "      <td>3+3</td>\n",
       "      <td>1</td>\n",
       "    </tr>\n",
       "    <tr>\n",
       "      <th>2</th>\n",
       "      <td>0068d4c7529e34fd4c9da863ce01a161</td>\n",
       "      <td>radboud</td>\n",
       "      <td>3</td>\n",
       "      <td>4+3</td>\n",
       "      <td>2</td>\n",
       "    </tr>\n",
       "    <tr>\n",
       "      <th>3</th>\n",
       "      <td>006f6aa35a78965c92fffd1fbd53a058</td>\n",
       "      <td>radboud</td>\n",
       "      <td>3</td>\n",
       "      <td>4+3</td>\n",
       "      <td>0</td>\n",
       "    </tr>\n",
       "    <tr>\n",
       "      <th>4</th>\n",
       "      <td>007433133235efc27a39f11df6940829</td>\n",
       "      <td>radboud</td>\n",
       "      <td>0</td>\n",
       "      <td>negative</td>\n",
       "      <td>3</td>\n",
       "    </tr>\n",
       "    <tr>\n",
       "      <th>5</th>\n",
       "      <td>0076bcb66e46fb485f5ba432b9a1fe8a</td>\n",
       "      <td>radboud</td>\n",
       "      <td>3</td>\n",
       "      <td>4+3</td>\n",
       "      <td>1</td>\n",
       "    </tr>\n",
       "    <tr>\n",
       "      <th>6</th>\n",
       "      <td>008069b542b0439ed69b194674051964</td>\n",
       "      <td>radboud</td>\n",
       "      <td>4</td>\n",
       "      <td>4+4</td>\n",
       "      <td>1</td>\n",
       "    </tr>\n",
       "    <tr>\n",
       "      <th>7</th>\n",
       "      <td>00928370e2dfeb8a507667ef1d4efcbb</td>\n",
       "      <td>radboud</td>\n",
       "      <td>5</td>\n",
       "      <td>4+5</td>\n",
       "      <td>3</td>\n",
       "    </tr>\n",
       "    <tr>\n",
       "      <th>8</th>\n",
       "      <td>00951a7fad040bf7e90f32e81fc0746f</td>\n",
       "      <td>radboud</td>\n",
       "      <td>1</td>\n",
       "      <td>3+3</td>\n",
       "      <td>2</td>\n",
       "    </tr>\n",
       "    <tr>\n",
       "      <th>9</th>\n",
       "      <td>00a26aaa82c959624d90dfb69fcf259c</td>\n",
       "      <td>radboud</td>\n",
       "      <td>4</td>\n",
       "      <td>4+4</td>\n",
       "      <td>2</td>\n",
       "    </tr>\n",
       "  </tbody>\n",
       "</table>\n",
       "</div>"
      ],
      "text/plain": [
       "                           image_id data_provider  isup_grade gleason_score  \\\n",
       "0  0018ae58b01bdadc8e347995b69f99aa       radboud           4           4+4   \n",
       "1  004dd32d9cd167d9cc31c13b704498af       radboud           1           3+3   \n",
       "2  0068d4c7529e34fd4c9da863ce01a161       radboud           3           4+3   \n",
       "3  006f6aa35a78965c92fffd1fbd53a058       radboud           3           4+3   \n",
       "4  007433133235efc27a39f11df6940829       radboud           0      negative   \n",
       "5  0076bcb66e46fb485f5ba432b9a1fe8a       radboud           3           4+3   \n",
       "6  008069b542b0439ed69b194674051964       radboud           4           4+4   \n",
       "7  00928370e2dfeb8a507667ef1d4efcbb       radboud           5           4+5   \n",
       "8  00951a7fad040bf7e90f32e81fc0746f       radboud           1           3+3   \n",
       "9  00a26aaa82c959624d90dfb69fcf259c       radboud           4           4+4   \n",
       "\n",
       "   split  \n",
       "0      0  \n",
       "1      1  \n",
       "2      2  \n",
       "3      0  \n",
       "4      3  \n",
       "5      1  \n",
       "6      1  \n",
       "7      3  \n",
       "8      2  \n",
       "9      2  "
      ]
     },
     "execution_count": 9,
     "metadata": {},
     "output_type": "execute_result"
    }
   ],
   "source": [
    "df = pd.read_csv(TRAINFOLD) ## read in \"train.csv\" and set 'image_id' as index column\n",
    "df.head(10)"
   ]
  },
  {
   "cell_type": "code",
   "execution_count": 10,
   "metadata": {},
   "outputs": [
    {
     "name": "stdout",
     "output_type": "stream",
     "text": [
      "[1, 5, 6, 12, 14, 16, 25, 31, 32, 38]\n"
     ]
    }
   ],
   "source": [
    "val_inx = df.index[df['split'] == 1].tolist()\n",
    "print(val_inx[:10])"
   ]
  },
  {
   "cell_type": "code",
   "execution_count": 11,
   "metadata": {},
   "outputs": [
    {
     "name": "stdout",
     "output_type": "stream",
     "text": [
      "[0, 2, 3, 4, 7, 8, 9, 10, 11, 13]\n"
     ]
    }
   ],
   "source": [
    "train_inx = list(set([x for x in range(len(df))]) - set(val_inx))\n",
    "print(train_inx[:10])"
   ]
  },
  {
   "cell_type": "code",
   "execution_count": 12,
   "metadata": {},
   "outputs": [
    {
     "data": {
      "text/plain": [
       "(3795, 1265)"
      ]
     },
     "execution_count": 12,
     "metadata": {},
     "output_type": "execute_result"
    }
   ],
   "source": [
    "len(train_inx), len(val_inx)"
   ]
  },
  {
   "cell_type": "code",
   "execution_count": 13,
   "metadata": {},
   "outputs": [
    {
     "data": {
      "text/plain": [
       "('004dd32d9cd167d9cc31c13b704498af', 1)"
      ]
     },
     "execution_count": 13,
     "metadata": {},
     "output_type": "execute_result"
    }
   ],
   "source": [
    "df.loc[val_inx[0], 'image_id'], df.loc[val_inx[0], 'isup_grade']"
   ]
  }
 ],
 "metadata": {
  "kernelspec": {
   "display_name": "Python 3",
   "language": "python",
   "name": "python3"
  },
  "language_info": {
   "codemirror_mode": {
    "name": "ipython",
    "version": 3
   },
   "file_extension": ".py",
   "mimetype": "text/x-python",
   "name": "python",
   "nbconvert_exporter": "python",
   "pygments_lexer": "ipython3",
   "version": "3.6.8"
  }
 },
 "nbformat": 4,
 "nbformat_minor": 4
}
