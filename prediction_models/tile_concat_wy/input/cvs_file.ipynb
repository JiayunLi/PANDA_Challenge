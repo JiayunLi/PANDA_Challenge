{
 "cells": [
  {
   "cell_type": "code",
   "execution_count": 1,
   "metadata": {},
   "outputs": [],
   "source": [
    "import pandas as pd"
   ]
  },
  {
   "cell_type": "code",
   "execution_count": 18,
   "metadata": {},
   "outputs": [],
   "source": [
    "csv_file = \"./csv_pkl_files/4_fold_whole_train_wo_sus.csv\"\n",
    "df = pd.read_csv(csv_file)\n",
    "df = df.set_index(\"image_id\")\n",
    "df = df.drop(columns=['Unnamed: 0'])"
   ]
  },
  {
   "cell_type": "code",
   "execution_count": 19,
   "metadata": {},
   "outputs": [
    {
     "data": {
      "text/html": [
       "<div>\n",
       "<style scoped>\n",
       "    .dataframe tbody tr th:only-of-type {\n",
       "        vertical-align: middle;\n",
       "    }\n",
       "\n",
       "    .dataframe tbody tr th {\n",
       "        vertical-align: top;\n",
       "    }\n",
       "\n",
       "    .dataframe thead th {\n",
       "        text-align: right;\n",
       "    }\n",
       "</style>\n",
       "<table border=\"1\" class=\"dataframe\">\n",
       "  <thead>\n",
       "    <tr style=\"text-align: right;\">\n",
       "      <th></th>\n",
       "      <th>data_provider</th>\n",
       "      <th>isup_grade</th>\n",
       "      <th>gleason_score</th>\n",
       "      <th>tile_number</th>\n",
       "      <th>split</th>\n",
       "      <th>tile_pixel</th>\n",
       "    </tr>\n",
       "    <tr>\n",
       "      <th>image_id</th>\n",
       "      <th></th>\n",
       "      <th></th>\n",
       "      <th></th>\n",
       "      <th></th>\n",
       "      <th></th>\n",
       "      <th></th>\n",
       "    </tr>\n",
       "  </thead>\n",
       "  <tbody>\n",
       "    <tr>\n",
       "      <th>9716b5d2e13a28be3dc836134153720c</th>\n",
       "      <td>radboud</td>\n",
       "      <td>4</td>\n",
       "      <td>4+4</td>\n",
       "      <td>7</td>\n",
       "      <td>1.0</td>\n",
       "      <td>121,109,111,86,81,79,77,</td>\n",
       "    </tr>\n",
       "    <tr>\n",
       "      <th>0954f0bb123cf3be8b00c9c989dcf3d6</th>\n",
       "      <td>karolinska</td>\n",
       "      <td>0</td>\n",
       "      <td>0+0</td>\n",
       "      <td>43</td>\n",
       "      <td>1.0</td>\n",
       "      <td>152,141,135,134,127,128,128,123,126,122,117,11...</td>\n",
       "    </tr>\n",
       "    <tr>\n",
       "      <th>d861180850ca54282b38c782734a7dc7</th>\n",
       "      <td>karolinska</td>\n",
       "      <td>0</td>\n",
       "      <td>0+0</td>\n",
       "      <td>39</td>\n",
       "      <td>0.0</td>\n",
       "      <td>89,82,72,67,70,69,69,60,61,69,68,69,58,57,60,6...</td>\n",
       "    </tr>\n",
       "    <tr>\n",
       "      <th>459154b1334d073cfef8af95362a7051</th>\n",
       "      <td>karolinska</td>\n",
       "      <td>0</td>\n",
       "      <td>0+0</td>\n",
       "      <td>34</td>\n",
       "      <td>1.0</td>\n",
       "      <td>112,103,102,99,92,89,97,90,94,88,83,83,82,79,7...</td>\n",
       "    </tr>\n",
       "    <tr>\n",
       "      <th>27489a7f1972687cccb1258116ff7f10</th>\n",
       "      <td>karolinska</td>\n",
       "      <td>0</td>\n",
       "      <td>0+0</td>\n",
       "      <td>24</td>\n",
       "      <td>0.0</td>\n",
       "      <td>105,101,101,92,87,85,84,89,86,83,81,77,73,80,7...</td>\n",
       "    </tr>\n",
       "  </tbody>\n",
       "</table>\n",
       "</div>"
      ],
      "text/plain": [
       "                                 data_provider  isup_grade gleason_score  \\\n",
       "image_id                                                                   \n",
       "9716b5d2e13a28be3dc836134153720c       radboud           4           4+4   \n",
       "0954f0bb123cf3be8b00c9c989dcf3d6    karolinska           0           0+0   \n",
       "d861180850ca54282b38c782734a7dc7    karolinska           0           0+0   \n",
       "459154b1334d073cfef8af95362a7051    karolinska           0           0+0   \n",
       "27489a7f1972687cccb1258116ff7f10    karolinska           0           0+0   \n",
       "\n",
       "                                  tile_number  split  \\\n",
       "image_id                                               \n",
       "9716b5d2e13a28be3dc836134153720c            7    1.0   \n",
       "0954f0bb123cf3be8b00c9c989dcf3d6           43    1.0   \n",
       "d861180850ca54282b38c782734a7dc7           39    0.0   \n",
       "459154b1334d073cfef8af95362a7051           34    1.0   \n",
       "27489a7f1972687cccb1258116ff7f10           24    0.0   \n",
       "\n",
       "                                                                         tile_pixel  \n",
       "image_id                                                                             \n",
       "9716b5d2e13a28be3dc836134153720c                           121,109,111,86,81,79,77,  \n",
       "0954f0bb123cf3be8b00c9c989dcf3d6  152,141,135,134,127,128,128,123,126,122,117,11...  \n",
       "d861180850ca54282b38c782734a7dc7  89,82,72,67,70,69,69,60,61,69,68,69,58,57,60,6...  \n",
       "459154b1334d073cfef8af95362a7051  112,103,102,99,92,89,97,90,94,88,83,83,82,79,7...  \n",
       "27489a7f1972687cccb1258116ff7f10  105,101,101,92,87,85,84,89,86,83,81,77,73,80,7...  "
      ]
     },
     "execution_count": 19,
     "metadata": {},
     "output_type": "execute_result"
    }
   ],
   "source": [
    "df.head()"
   ]
  },
  {
   "cell_type": "code",
   "execution_count": 21,
   "metadata": {},
   "outputs": [],
   "source": [
    "df_k = df.loc[df[\"data_provider\"] == \"karolinska\"]\n",
    "df_k.head()\n",
    "df_k.to_csv(\"./csv_pkl_files/karolinska_4_fold_train_wo_sus.csv\")"
   ]
  },
  {
   "cell_type": "code",
   "execution_count": 22,
   "metadata": {},
   "outputs": [],
   "source": [
    "df_r = df.loc[df[\"data_provider\"] == \"radboud\"]\n",
    "df_r.head()\n",
    "df_r.to_csv(\"./csv_pkl_files/radboud_4_fold_train_wo_sus.csv\")"
   ]
  }
 ],
 "metadata": {
  "kernelspec": {
   "display_name": "Python 3",
   "language": "python",
   "name": "python3"
  },
  "language_info": {
   "codemirror_mode": {
    "name": "ipython",
    "version": 3
   },
   "file_extension": ".py",
   "mimetype": "text/x-python",
   "name": "python",
   "nbconvert_exporter": "python",
   "pygments_lexer": "ipython3",
   "version": "3.6.8"
  }
 },
 "nbformat": 4,
 "nbformat_minor": 4
}
