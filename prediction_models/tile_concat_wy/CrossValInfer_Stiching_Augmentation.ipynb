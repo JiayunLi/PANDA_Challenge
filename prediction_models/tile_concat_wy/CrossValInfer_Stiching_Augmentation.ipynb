{
 "cells": [
  {
   "cell_type": "code",
   "execution_count": 1,
   "metadata": {},
   "outputs": [],
   "source": [
    "%reload_ext autoreload\n",
    "%autoreload 2\n",
    "## sys package\n",
    "import os, sys\n",
    "os.environ[\"CUDA_DEVICE_ORDER\"]=\"PCI_BUS_ID\"\n",
    "os.environ[\"CUDA_VISIBLE_DEVICES\"]=\"2\"  # specify which GPU(s) to be used\n",
    "sys.path.append(\"./prediction_models/input/prostate-cancer-grade-assessment/\")\n",
    "## warning off\n",
    "import warnings\n",
    "warnings.filterwarnings(\"ignore\")\n",
    "\n",
    "## general package\n",
    "import random\n",
    "from tqdm import tqdm_notebook as tqdm\n",
    "import numpy as np\n",
    "import pandas as pd\n",
    "import torch\n",
    "from torch.utils.data import *\n",
    "from sklearn.metrics import cohen_kappa_score, roc_auc_score, roc_curve\n",
    "from sklearn.metrics import confusion_matrix\n",
    "import seaborn as sn\n",
    "import pandas as pd\n",
    "import matplotlib.pyplot as plt\n",
    "import pickle\n",
    "# device = torch.device(\"cuda:4\" if torch.cuda.is_available() else \"cpu\") \n",
    "# print(device)\n",
    "\n",
    "## customized package\n",
    "from input.inputPipeline_stiching import PandaPatchDataset, crossValDataloader, data_transform\n",
    "from model.resnext_ssl_stiching import Model_Infer as Model"
   ]
  },
  {
   "cell_type": "code",
   "execution_count": 2,
   "metadata": {},
   "outputs": [],
   "source": [
    "data_dir = './input/panda-36x256x256-tiles-data/train'\n",
    "csv_file = './input/panda-36x256x256-tiles-data/4_fold_whole_train.csv'\n",
    "# SAMPLE = './input/prostate-cancer-grade-assessment/sample_submission.csv'"
   ]
  },
  {
   "cell_type": "code",
   "execution_count": 3,
   "metadata": {},
   "outputs": [],
   "source": [
    "models = []\n",
    "weights = [f'./train/weights/Resnext50_medreso_36patch_adam_cosine_bin/Resnext50_medreso_36patch_adam_cosine_bin_{i}_best.pth.tar' for i in [0,1,2,3]]\n",
    "for path in weights:\n",
    "    pretrained_dict = torch.load(path)\n",
    "    model = Model(n = 5)\n",
    "    model_dict = model.state_dict()\n",
    "    pretrained_dict = {k: v for k, v in pretrained_dict.items() if k in model_dict}\n",
    "    model_dict.update(pretrained_dict)\n",
    "    model.load_state_dict(pretrained_dict)\n",
    "    model.eval()\n",
    "    model.cuda()\n",
    "    models.append(model)\n",
    "\n",
    "del pretrained_dict"
   ]
  },
  {
   "cell_type": "code",
   "execution_count": 4,
   "metadata": {},
   "outputs": [],
   "source": [
    "sz = 256\n",
    "bs = 1\n",
    "folds = 4\n",
    "tsfm = data_transform()\n",
    "tsfm = None\n",
    "dataset = PandaPatchDataset(csv_file, data_dir, sz, transform=tsfm, N = 36, rand = False)\n",
    "crossValData = crossValDataloader(csv_file, dataset, bs)"
   ]
  },
  {
   "cell_type": "code",
   "execution_count": 5,
   "metadata": {},
   "outputs": [
    {
     "data": {
      "application/vnd.jupyter.widget-view+json": {
       "model_id": "76afa5448fb04867946320b1ee2a646b",
       "version_major": 2,
       "version_minor": 0
      },
      "text/plain": [
       "HBox(children=(FloatProgress(value=0.0, max=2654.0), HTML(value='')))"
      ]
     },
     "metadata": {},
     "output_type": "display_data"
    },
    {
     "name": "stdout",
     "output_type": "stream",
     "text": [
      "\n"
     ]
    },
    {
     "data": {
      "application/vnd.jupyter.widget-view+json": {
       "model_id": "4660ade697b7494cbec663f65025dad6",
       "version_major": 2,
       "version_minor": 0
      },
      "text/plain": [
       "HBox(children=(FloatProgress(value=0.0, max=2654.0), HTML(value='')))"
      ]
     },
     "metadata": {},
     "output_type": "display_data"
    },
    {
     "name": "stdout",
     "output_type": "stream",
     "text": [
      "\n"
     ]
    }
   ],
   "source": [
    "names = [] ## record image names and predictions\n",
    "preds, preds_r, preds_k = [], [], []\n",
    "grades, grades_r, grades_k = [], [], []\n",
    "probs, probs_r, probs_k = [], [], []\n",
    "for fold in [0,3]:\n",
    "    ## Model inference\n",
    "    _, dataloader0 = crossValData(fold)\n",
    "    model = models[fold]\n",
    "    with torch.no_grad():\n",
    "        for idx, data in enumerate(tqdm(dataloader0)):\n",
    "            img, name, provider, grade = data['img'], data['name'], data['datacenter'], data['isup_grade']\n",
    "            img = img.cuda()\n",
    "            logits = model(img)['out']\n",
    "            preds.append(logits.sigmoid().sum(1).round().cpu())\n",
    "            probs.append(logits.sigmoid().cpu())\n",
    "            names.append(name)\n",
    "            grades.append(grade.sum(1).cpu())\n",
    "            if provider[0] == \"radboud\":\n",
    "                preds_r.append(logits.sigmoid().sum(1).round().cpu())\n",
    "                grades_r.append(grade.sum(1).cpu())\n",
    "                probs_r.append(logits.sigmoid())\n",
    "            else:\n",
    "                preds_k.append(logits.sigmoid().sum(1).round().cpu())\n",
    "                grades_k.append(grade.sum(1).cpu())\n",
    "                probs_k.append(logits.sigmoid())\n",
    "#             if idx >= 50:\n",
    "#                 break"
   ]
  },
  {
   "cell_type": "code",
   "execution_count": 6,
   "metadata": {},
   "outputs": [],
   "source": [
    "probs_ = torch.cat(probs, 0).numpy()\n",
    "grades_ = torch.cat(grades, 0).numpy().astype(int)\n",
    "probs_r_ = torch.cat(probs_r, 0).cpu().numpy()\n",
    "grades_r_ = torch.cat(grades_r, 0).cpu().numpy().astype(int)"
   ]
  },
  {
   "cell_type": "code",
   "execution_count": 7,
   "metadata": {},
   "outputs": [],
   "source": [
    "probs_ = probs_r_\n",
    "grades_ = grades_r_"
   ]
  },
  {
   "cell_type": "code",
   "execution_count": 34,
   "metadata": {},
   "outputs": [
    {
     "name": "stdout",
     "output_type": "stream",
     "text": [
      "best thrshold 0.8855946063995361, with index 110.\n",
      "best thrshold 1.662549376487732, with index 126.\n",
      "best thrshold 2.5941038131713867, with index 120.\n",
      "best thrshold 3.3877930641174316, with index 189.\n",
      "best thrshold 4.209769248962402, with index 130.\n"
     ]
    },
    {
     "data": {
      "image/png": "[encoded data removed]",
      "text/plain": [
       "<Figure size 432x288 with 1 Axes>"
      ]
     },
     "metadata": {
      "needs_background": "light"
     },
     "output_type": "display_data"
    },
    {
     "data": {
      "image/png": "[encoded data removed]",
      "text/plain": [
       "<Figure size 432x288 with 1 Axes>"
      ]
     },
     "metadata": {
      "needs_background": "light"
     },
     "output_type": "display_data"
    },
    {
     "data": {
      "image/png": "[encoded data removed]",
      "text/plain": [
       "<Figure size 432x288 with 1 Axes>"
      ]
     },
     "metadata": {
      "needs_background": "light"
     },
     "output_type": "display_data"
    },
    {
     "data": {
      "image/png": "[encoded data removed]",
      "text/plain": [
       "<Figure size 432x288 with 1 Axes>"
      ]
     },
     "metadata": {
      "needs_background": "light"
     },
     "output_type": "display_data"
    },
    {
     "data": {
      "image/png": "[encoded data removed]",
      "text/plain": [
       "<Figure size 432x288 with 1 Axes>"
      ]
     },
     "metadata": {
      "needs_background": "light"
     },
     "output_type": "display_data"
    }
   ],
   "source": [
    "for i in [1,2,3,4,5]:\n",
    "    idx_tmp_0 = np.where(grades_ == i - 1)\n",
    "    idx_tmp_1 = np.where(grades_ == i)\n",
    "    grades_tmp = list(grades_[idx_tmp_0]) + list(grades_[idx_tmp_1])\n",
    "    grades_tmp = (np.asarray(grades_tmp) >= i).astype(int)\n",
    "    probs_tmp = list(probs_[idx_tmp_0]) + list(probs_[idx_tmp_1])\n",
    "    probs_tmp = np.array(probs_tmp)\n",
    "    probs_tmp = probs_tmp.sum(1)\n",
    "    # grades_tmp = (grades_ >= i).astype(int)\n",
    "    fpr, tpr, thresholds = roc_curve(grades_tmp, probs_tmp)\n",
    "    plt.figure()\n",
    "    plt.plot(fpr, tpr, color='darkorange',\n",
    "         lw=2)\n",
    "    distance = (0 - fpr) ** 2 + (1 - tpr) ** 2\n",
    "    indx = np.argmin(distance)\n",
    "    th_optimal = thresholds[indx]\n",
    "    print(f\"best thrshold {th_optimal}, with index {indx}.\")"
   ]
  },
  {
   "cell_type": "code",
   "execution_count": 24,
   "metadata": {},
   "outputs": [],
   "source": [
    "def cal_kappa(th_opt):\n",
    "    preds_wth_opt = []\n",
    "    probs_aaa = []\n",
    "    for i in range(len(probs_)):\n",
    "        probs_tmp = probs_[i].sum()\n",
    "        for j in range(6):\n",
    "            if probs_tmp > th_opt[j] and probs_tmp <= th_opt[j + 1]:\n",
    "                preds_wth_opt.append(j)\n",
    "\n",
    "    kappa = cohen_kappa_score(grades_, preds_wth_opt, weights='quadratic')  \n",
    "    return kappa"
   ]
  },
  {
   "cell_type": "code",
   "execution_count": 25,
   "metadata": {},
   "outputs": [],
   "source": [
    "th_opt = np.asarray([-0.1, 0.37, 1.24, 2.24, 3.39, 4.21, 5.1])\n",
    "best_th = 0\n",
    "best_kappa = 0\n",
    "for i in [1,2,3,4,5]:\n",
    "    sweept = np.linspace(th_opt[i-1], th_opt[i+1], num=100)\n",
    "    for k in range(len(sweept)):\n",
    "        th_opt_tmp = []\n",
    "        for j in range(len(th_opt)):\n",
    "            if j != i:\n",
    "                th_opt_tmp.append(th_opt[j])\n",
    "            else:\n",
    "                th_opt_tmp.append(sweept[k])\n",
    "        kappa = cal_kappa(th_opt_tmp)\n",
    "        if kappa >= best_kappa:\n",
    "            best_kappa = kappa\n",
    "            best_th = th_opt_tmp\n",
    "            th_opt[i] = sweept[k]"
   ]
  },
  {
   "cell_type": "code",
   "execution_count": 26,
   "metadata": {},
   "outputs": [
    {
     "data": {
      "text/plain": [
       "(0.9043199077067408,\n",
       " array([-0.1     ,  0.373737,  1.467103,  2.24    ,  3.03596 ,  4.391138,  5.1     ]))"
      ]
     },
     "execution_count": 26,
     "metadata": {},
     "output_type": "execute_result"
    }
   ],
   "source": [
    "best_kappa, th_opt"
   ]
  },
  {
   "cell_type": "code",
   "execution_count": 31,
   "metadata": {},
   "outputs": [
    {
     "name": "stdout",
     "output_type": "stream",
     "text": [
      "0.8977416147718518\n"
     ]
    }
   ],
   "source": [
    "th_opt = [0., 0.8855946063995361, 1.662549376487732, 2.5941038131713867, 3.3877930641174316, 4.209769248962402, 5.]\n",
    "kappa = cal_kappa(th_opt)\n",
    "print(kappa)"
   ]
  },
  {
   "cell_type": "code",
   "execution_count": 9,
   "metadata": {},
   "outputs": [],
   "source": [
    "names = np.concatenate(names)\n",
    "grades = torch.cat(grades, 0).numpy().astype(int)\n",
    "predictions = torch.cat(preds, 0).numpy().astype(int)\n",
    "grades_r = torch.cat(grades_r, 0).numpy().astype(int)\n",
    "predictions_r = torch.cat(preds_r, 0).numpy().astype(int)\n",
    "grades_k = torch.cat(grades_k, 0).numpy().astype(int)\n",
    "predictions_k = torch.cat(preds_k, 0).numpy().astype(int)"
   ]
  },
  {
   "cell_type": "code",
   "execution_count": 10,
   "metadata": {},
   "outputs": [
    {
     "name": "stdout",
     "output_type": "stream",
     "text": [
      "The average kappa score is 0.8888678919458545, radboud is 0.857867070600963, karolinska is 0.8959679383436251.\n"
     ]
    }
   ],
   "source": [
    "kappa = cohen_kappa_score(grades, predictions, weights='quadratic')\n",
    "kappa_r = cohen_kappa_score(grades_r, predictions_r, weights='quadratic')\n",
    "kappa_k = cohen_kappa_score(grades_k, predictions_k, weights='quadratic')\n",
    "cm = confusion_matrix(grades, predictions)\n",
    "ncm = cm / cm.astype(np.float).sum(axis=1)\n",
    "print(\"The average kappa score is {}, radboud is {}, karolinska is {}.\".format(kappa, kappa_r, kappa_k))"
   ]
  },
  {
   "cell_type": "markdown",
   "metadata": {},
   "source": [
    "### Record a confusion dict with file name"
   ]
  },
  {
   "cell_type": "code",
   "execution_count": 14,
   "metadata": {},
   "outputs": [],
   "source": [
    "# val_preds_p, val_label_p = predictions, grades"
   ]
  },
  {
   "cell_type": "code",
   "execution_count": 30,
   "metadata": {},
   "outputs": [],
   "source": [
    "val_preds_p, val_label_p = torch.cat(preds_k,0).cpu().numpy(), grades_k"
   ]
  },
  {
   "cell_type": "code",
   "execution_count": 31,
   "metadata": {},
   "outputs": [],
   "source": [
    "cfm_name = {}\n",
    "for i in range(6):\n",
    "    for j in range(6):\n",
    "        if i == j:\n",
    "            continue\n",
    "        cfm_name[\"{}_{}\".format(i, j)] = [] ## label i, preds, j\n",
    "for idx in range(len(val_preds_p)):\n",
    "    label = val_label_p[idx]\n",
    "    preds = val_preds_p[idx]\n",
    "    if label != preds:\n",
    "        cfm_name[\"{}_{}\".format(int(label), int(preds))].append(names[idx])"
   ]
  },
  {
   "cell_type": "code",
   "execution_count": null,
   "metadata": {},
   "outputs": [],
   "source": [
    "f = open(\"Resnext50_medreso_36patch_adam_cosine_bin_0_cfm_name.pkl\",\"wb\")\n",
    "pickle.dump(cfm_name,f)\n",
    "f.close()"
   ]
  },
  {
   "cell_type": "code",
   "execution_count": 32,
   "metadata": {},
   "outputs": [
    {
     "data": {
      "image/png": "[encoded data removed]",
      "text/plain": [
       "<Figure size 432x288 with 2 Axes>"
      ]
     },
     "metadata": {},
     "output_type": "display_data"
    }
   ],
   "source": [
    "cm = confusion_matrix(val_label_p, val_preds_p)\n",
    "ncm = cm / cm.astype(np.float).sum(axis=1)\n",
    "df_cm = pd.DataFrame(ncm, range(6), range(6))\n",
    "sn.set(font_scale=1.4) # for label size\n",
    "sn.heatmap(df_cm, annot=True, annot_kws={\"size\": 10}) # font size\n",
    "plt.show()"
   ]
  }
 ],
 "metadata": {
  "kernelspec": {
   "display_name": "Python 3",
   "language": "python",
   "name": "python3"
  },
  "language_info": {
   "codemirror_mode": {
    "name": "ipython",
    "version": 3
   },
   "file_extension": ".py",
   "mimetype": "text/x-python",
   "name": "python",
   "nbconvert_exporter": "python",
   "pygments_lexer": "ipython3",
   "version": "3.6.8"
  }
 },
 "nbformat": 4,
 "nbformat_minor": 4
}
