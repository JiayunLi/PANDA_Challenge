{
 "cells": [
  {
   "cell_type": "code",
   "execution_count": 14,
   "metadata": {},
   "outputs": [],
   "source": [
    "%reload_ext autoreload\n",
    "%autoreload 2\n",
    "## sys package\n",
    "import os, sys\n",
    "os.environ[\"CUDA_DEVICE_ORDER\"]=\"PCI_BUS_ID\"\n",
    "os.environ[\"CUDA_VISIBLE_DEVICES\"]=\"3\"  # specify which GPU(s) to be used\n",
    "sys.path.append(\"./input/prostate-cancer-grade-assessment/\")\n",
    "sys.path.append(\"./input\")\n",
    "## warning off\n",
    "import warnings\n",
    "warnings.filterwarnings(\"ignore\")\n",
    "\n",
    "## general package\n",
    "import random\n",
    "from tqdm import tqdm_notebook as tqdm\n",
    "import numpy as np\n",
    "import pandas as pd\n",
    "import torch\n",
    "from torch.utils.data import *\n",
    "from sklearn.metrics import cohen_kappa_score\n",
    "from sklearn.metrics import confusion_matrix\n",
    "import seaborn as sn\n",
    "import pandas as pd\n",
    "import matplotlib.pyplot as plt\n",
    "# device = torch.device(\"cuda:4\" if torch.cuda.is_available() else \"cpu\") \n",
    "# print(device)\n",
    "\n",
    "## customized package\n",
    "# from input.inputPipeline_spine_infer import *\n",
    "from input.inputPipeline_spine_infer_dataspecific import *\n",
    "from input.inputPipeline_stiching import crossValDataloader, PandaPatchDataset\n",
    "from model.resnext_ssl_stiching import Model_Infer as Model"
   ]
  },
  {
   "cell_type": "code",
   "execution_count": 15,
   "metadata": {},
   "outputs": [],
   "source": [
    "data_dir = './input/prostate-cancer-grade-assessment/train_images'\n",
    "data_dir_sub = './input/panda-36x256x256-tiles-data-spine/train'\n",
    "# csv_file = './input/panda-36x256x256-tiles-data-spine/4_fold_whole_train.csv'\n",
    "csv_file = './input/panda-36x256x256-tiles-data-spine/radboud_4_fold_train.csv'\n",
    "# SAMPLE = './input/prostate-cancer-grade-assessment/sample_submission.csv'"
   ]
  },
  {
   "cell_type": "code",
   "execution_count": 28,
   "metadata": {},
   "outputs": [],
   "source": [
    "models = []\n",
    "# weights = [f'./train/weights/Resnext50_36patch_adam_cos_spine_rad/Resnext50_36patch_adam_cos_spine_rad_{i}_best.pth.tar' for i in [3]]\n",
    "weights = [f'./train/weights/Resnext50_36patch_adam_cos_spine_loc_pre_rad/Resnext50_36patch_adam_cos_spine_loc_pre_rad_{i}_best.pth.tar' for i in [0]]\n",
    "\n",
    "for path in weights:\n",
    "    pretrained_dict = torch.load(path)\n",
    "    model = Model(n = 5)\n",
    "    model_dict = model.state_dict()\n",
    "    pretrained_dict = {k: v for k, v in pretrained_dict.items() if k in model_dict}\n",
    "    model_dict.update(pretrained_dict)\n",
    "    model.load_state_dict(pretrained_dict)\n",
    "    model.eval()\n",
    "    model.cuda()\n",
    "    models.append(model)\n",
    "\n",
    "del pretrained_dict"
   ]
  },
  {
   "cell_type": "code",
   "execution_count": 29,
   "metadata": {},
   "outputs": [],
   "source": [
    "sz = 256\n",
    "bs = 1\n",
    "folds = 4\n",
    "tsfm = None\n",
    "dataset = PandaPatchDatasetInfer(csv_file, data_dir, sz, transform=tsfm, N = 36, rand = False)\n",
    "# dataset = PandaPatchDataset(csv_file, data_dir_sub, sz, transform=tsfm, N = 36, rand = False)\n",
    "crossValData = crossValDataloader(csv_file, dataset, bs)"
   ]
  },
  {
   "cell_type": "code",
   "execution_count": 30,
   "metadata": {},
   "outputs": [
    {
     "data": {
      "application/vnd.jupyter.widget-view+json": {
       "model_id": "11926e1da0e1409fbde0833297391fcd",
       "version_major": 2,
       "version_minor": 0
      },
      "text/plain": [
       "HBox(children=(FloatProgress(value=0.0, description='valIter', max=1267.0, style=ProgressStyle(description_wid…"
      ]
     },
     "metadata": {},
     "output_type": "display_data"
    },
    {
     "name": "stdout",
     "output_type": "stream",
     "text": [
      "\n"
     ]
    }
   ],
   "source": [
    "names, val_preds = [], []\n",
    "# for fold in range(folds):\n",
    "for fold in [0]:\n",
    "    _, valloader = crossValData(fold)\n",
    "#     model = models[fold]\n",
    "    model = models[fold]\n",
    "    model.eval()\n",
    "    with torch.no_grad():\n",
    "        for i, data in enumerate(tqdm(valloader, desc='valIter'), start=0):\n",
    "#             if i > 7:\n",
    "#                 break\n",
    "            # get the inputs; data is a list of [inputs, labels]\n",
    "            img, name, provider = data['img'], data['name'], data['datacenter']\n",
    "            outputs = model(img.cuda())\n",
    "            outputs = outputs['out']\n",
    "            val_preds.append(outputs.sigmoid().sum(1).round().cpu())\n",
    "            names.append(name)"
   ]
  },
  {
   "cell_type": "code",
   "execution_count": 31,
   "metadata": {},
   "outputs": [],
   "source": [
    "names = np.concatenate(names)\n",
    "predictions = list(torch.cat(val_preds, 0).numpy().astype(int))"
   ]
  },
  {
   "cell_type": "code",
   "execution_count": 32,
   "metadata": {},
   "outputs": [],
   "source": [
    "df = pd.read_csv(csv_file)\n",
    "grades = df.loc[df['split'] == 0, 'isup_grade'].tolist()\n",
    "# grades[:len(predictions)]"
   ]
  },
  {
   "cell_type": "code",
   "execution_count": 33,
   "metadata": {},
   "outputs": [
    {
     "name": "stdout",
     "output_type": "stream",
     "text": [
      "The average kappa score is 0.866652640496836.\n"
     ]
    }
   ],
   "source": [
    "kappa = cohen_kappa_score(grades[:len(predictions)], predictions, weights='quadratic')\n",
    "print(\"The average kappa score is {}.\".format(kappa))"
   ]
  },
  {
   "cell_type": "code",
   "execution_count": null,
   "metadata": {},
   "outputs": [],
   "source": [
    "df_cm = pd.DataFrame(ncm, range(6), range(6))\n",
    "sn.set(font_scale=1.4) # for label size\n",
    "sn.heatmap(df_cm, annot=True, annot_kws={\"size\": 16}) # font size\n",
    "plt.show()"
   ]
  }
 ],
 "metadata": {
  "kernelspec": {
   "display_name": "Python 3",
   "language": "python",
   "name": "python3"
  },
  "language_info": {
   "codemirror_mode": {
    "name": "ipython",
    "version": 3
   },
   "file_extension": ".py",
   "mimetype": "text/x-python",
   "name": "python",
   "nbconvert_exporter": "python",
   "pygments_lexer": "ipython3",
   "version": "3.6.8"
  }
 },
 "nbformat": 4,
 "nbformat_minor": 4
}
