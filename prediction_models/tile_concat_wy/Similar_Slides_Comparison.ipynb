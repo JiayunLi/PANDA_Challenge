{
 "cells": [
  {
   "cell_type": "code",
   "execution_count": 12,
   "metadata": {},
   "outputs": [],
   "source": [
    "import pickle as pkl\n",
    "import os, sys\n",
    "import pandas as pd\n",
    "import numpy as np\n",
    "import matplotlib.pyplot as plt\n",
    "import skimage.io"
   ]
  },
  {
   "cell_type": "code",
   "execution_count": 3,
   "metadata": {},
   "outputs": [],
   "source": [
    "pkl_file = \"./input/csv_pkl_files/similar_slide_dict.pkl\"\n",
    "csv_file = \"./input/csv_pkl_files/4_fold_whole_train.csv\""
   ]
  },
  {
   "cell_type": "code",
   "execution_count": 9,
   "metadata": {},
   "outputs": [
    {
     "data": {
      "text/html": [
       "<div>\n",
       "<style scoped>\n",
       "    .dataframe tbody tr th:only-of-type {\n",
       "        vertical-align: middle;\n",
       "    }\n",
       "\n",
       "    .dataframe tbody tr th {\n",
       "        vertical-align: top;\n",
       "    }\n",
       "\n",
       "    .dataframe thead th {\n",
       "        text-align: right;\n",
       "    }\n",
       "</style>\n",
       "<table border=\"1\" class=\"dataframe\">\n",
       "  <thead>\n",
       "    <tr style=\"text-align: right;\">\n",
       "      <th></th>\n",
       "      <th>data_provider</th>\n",
       "      <th>isup_grade</th>\n",
       "      <th>gleason_score</th>\n",
       "      <th>tile_number</th>\n",
       "      <th>split</th>\n",
       "    </tr>\n",
       "    <tr>\n",
       "      <th>image_id</th>\n",
       "      <th></th>\n",
       "      <th></th>\n",
       "      <th></th>\n",
       "      <th></th>\n",
       "      <th></th>\n",
       "    </tr>\n",
       "  </thead>\n",
       "  <tbody>\n",
       "    <tr>\n",
       "      <th>9716b5d2e13a28be3dc836134153720c</th>\n",
       "      <td>radboud</td>\n",
       "      <td>4</td>\n",
       "      <td>4+4</td>\n",
       "      <td>7</td>\n",
       "      <td>1.0</td>\n",
       "    </tr>\n",
       "    <tr>\n",
       "      <th>0954f0bb123cf3be8b00c9c989dcf3d6</th>\n",
       "      <td>karolinska</td>\n",
       "      <td>0</td>\n",
       "      <td>0+0</td>\n",
       "      <td>43</td>\n",
       "      <td>1.0</td>\n",
       "    </tr>\n",
       "    <tr>\n",
       "      <th>d861180850ca54282b38c782734a7dc7</th>\n",
       "      <td>karolinska</td>\n",
       "      <td>0</td>\n",
       "      <td>0+0</td>\n",
       "      <td>39</td>\n",
       "      <td>0.0</td>\n",
       "    </tr>\n",
       "    <tr>\n",
       "      <th>459154b1334d073cfef8af95362a7051</th>\n",
       "      <td>karolinska</td>\n",
       "      <td>0</td>\n",
       "      <td>0+0</td>\n",
       "      <td>34</td>\n",
       "      <td>1.0</td>\n",
       "    </tr>\n",
       "    <tr>\n",
       "      <th>27489a7f1972687cccb1258116ff7f10</th>\n",
       "      <td>karolinska</td>\n",
       "      <td>0</td>\n",
       "      <td>0+0</td>\n",
       "      <td>24</td>\n",
       "      <td>0.0</td>\n",
       "    </tr>\n",
       "  </tbody>\n",
       "</table>\n",
       "</div>"
      ],
      "text/plain": [
       "                                 data_provider  isup_grade gleason_score  \\\n",
       "image_id                                                                   \n",
       "9716b5d2e13a28be3dc836134153720c       radboud           4           4+4   \n",
       "0954f0bb123cf3be8b00c9c989dcf3d6    karolinska           0           0+0   \n",
       "d861180850ca54282b38c782734a7dc7    karolinska           0           0+0   \n",
       "459154b1334d073cfef8af95362a7051    karolinska           0           0+0   \n",
       "27489a7f1972687cccb1258116ff7f10    karolinska           0           0+0   \n",
       "\n",
       "                                  tile_number  split  \n",
       "image_id                                              \n",
       "9716b5d2e13a28be3dc836134153720c            7    1.0  \n",
       "0954f0bb123cf3be8b00c9c989dcf3d6           43    1.0  \n",
       "d861180850ca54282b38c782734a7dc7           39    0.0  \n",
       "459154b1334d073cfef8af95362a7051           34    1.0  \n",
       "27489a7f1972687cccb1258116ff7f10           24    0.0  "
      ]
     },
     "execution_count": 9,
     "metadata": {},
     "output_type": "execute_result"
    }
   ],
   "source": [
    "with open(pkl_file, 'rb') as f:\n",
    "    similar_slide = pkl.load(f)\n",
    "df = pd.read_csv(csv_file)\n",
    "df = df.set_index(\"image_id\")\n",
    "df.head()"
   ]
  },
  {
   "cell_type": "code",
   "execution_count": 10,
   "metadata": {},
   "outputs": [],
   "source": [
    "def read_img(image_id):\n",
    "    img_dir = \"./input/prostate-cancer-grade-assessment/train_images/\"\n",
    "    biopsy = skimage.io.MultiImage(os.path.join(img_dir, image_id + '.tiff'))\n",
    "    return biopsy[0]"
   ]
  },
  {
   "cell_type": "code",
   "execution_count": 18,
   "metadata": {},
   "outputs": [],
   "source": [
    "for key in similar_slide:\n",
    "    try:\n",
    "        os.mkdir(f\"./input/wrongPreds/similar_slide/{key}/\")\n",
    "    except:\n",
    "        pass\n",
    "    im = read_img(key)\n",
    "    gls = df.loc[key, \"gleason_score\"]\n",
    "    isup = df.loc[key, \"isup_grade\"]\n",
    "    data_provider = df.loc[key, \"data_provider\"]\n",
    "    skimage.io.imsave(f\"./input/wrongPreds/similar_slide/{key}/{isup}_{gls}_{data_provider}_{key}.png\", im)\n",
    "    for name in similar_slide[key]:\n",
    "        im = read_img(name)\n",
    "        gls = df.loc[key, \"gleason_score\"]\n",
    "        isup = df.loc[key, \"isup_grade\"]\n",
    "        data_provider = df.loc[key, \"data_provider\"]\n",
    "        skimage.io.imsave(f\"./input/wrongPreds/similar_slide/{key}/{isup}_{gls}_{data_provider}_{name}.png\", im)"
   ]
  }
 ],
 "metadata": {
  "kernelspec": {
   "display_name": "Python 3",
   "language": "python",
   "name": "python3"
  },
  "language_info": {
   "codemirror_mode": {
    "name": "ipython",
    "version": 3
   },
   "file_extension": ".py",
   "mimetype": "text/x-python",
   "name": "python",
   "nbconvert_exporter": "python",
   "pygments_lexer": "ipython3",
   "version": "3.6.8"
  }
 },
 "nbformat": 4,
 "nbformat_minor": 4
}
