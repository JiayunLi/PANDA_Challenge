{
 "cells": [
  {
   "cell_type": "code",
   "execution_count": 4,
   "metadata": {},
   "outputs": [
    {
     "ename": "ModuleNotFoundError",
     "evalue": "No module named 'spine'",
     "output_type": "error",
     "traceback": [
      "\u001b[0;31m---------------------------------------------------------------------------\u001b[0m",
      "\u001b[0;31mModuleNotFoundError\u001b[0m                       Traceback (most recent call last)",
      "\u001b[0;32m<ipython-input-4-8bcae19a0d9a>\u001b[0m in \u001b[0;36m<module>\u001b[0;34m\u001b[0m\n\u001b[1;32m     19\u001b[0m \u001b[0;34m\u001b[0m\u001b[0m\n\u001b[1;32m     20\u001b[0m \u001b[0;31m## customized package\u001b[0m\u001b[0;34m\u001b[0m\u001b[0;34m\u001b[0m\u001b[0;34m\u001b[0m\u001b[0m\n\u001b[0;32m---> 21\u001b[0;31m \u001b[0;32mfrom\u001b[0m \u001b[0minput\u001b[0m\u001b[0;34m.\u001b[0m\u001b[0minputPipeline_spine_infer\u001b[0m \u001b[0;32mimport\u001b[0m \u001b[0mPandaPatchDatasetInfer\u001b[0m\u001b[0;34m\u001b[0m\u001b[0;34m\u001b[0m\u001b[0m\n\u001b[0m\u001b[1;32m     22\u001b[0m \u001b[0;32mfrom\u001b[0m \u001b[0mmodel\u001b[0m\u001b[0;34m.\u001b[0m\u001b[0mresnext_ssl\u001b[0m \u001b[0;32mimport\u001b[0m \u001b[0;34m*\u001b[0m\u001b[0;34m\u001b[0m\u001b[0;34m\u001b[0m\u001b[0m\n",
      "\u001b[0;32m/PANDA_Challenge/prediction_models/tile_concat_wy/input/inputPipeline_spine_infer.py\u001b[0m in \u001b[0;36m<module>\u001b[0;34m\u001b[0m\n\u001b[1;32m     13\u001b[0m \u001b[0;32mimport\u001b[0m \u001b[0mskimage\u001b[0m\u001b[0;34m.\u001b[0m\u001b[0mio\u001b[0m\u001b[0;34m\u001b[0m\u001b[0;34m\u001b[0m\u001b[0m\n\u001b[1;32m     14\u001b[0m \u001b[0;32mimport\u001b[0m \u001b[0mcv2\u001b[0m\u001b[0;34m\u001b[0m\u001b[0;34m\u001b[0m\u001b[0m\n\u001b[0;32m---> 15\u001b[0;31m \u001b[0;32mfrom\u001b[0m \u001b[0mspine\u001b[0m \u001b[0;32mimport\u001b[0m \u001b[0mspine\u001b[0m\u001b[0;34m,\u001b[0m \u001b[0mtile\u001b[0m\u001b[0;34m,\u001b[0m \u001b[0mtile_rect\u001b[0m\u001b[0;34m,\u001b[0m \u001b[0mtile_img\u001b[0m\u001b[0;34m,\u001b[0m \u001b[0mtile_rect_img\u001b[0m\u001b[0;34m\u001b[0m\u001b[0;34m\u001b[0m\u001b[0m\n\u001b[0m\u001b[1;32m     16\u001b[0m \u001b[0;34m\u001b[0m\u001b[0m\n\u001b[1;32m     17\u001b[0m \u001b[0;32mclass\u001b[0m \u001b[0mPandaPatchDatasetInfer\u001b[0m\u001b[0;34m(\u001b[0m\u001b[0mDataset\u001b[0m\u001b[0;34m)\u001b[0m\u001b[0;34m:\u001b[0m\u001b[0;34m\u001b[0m\u001b[0;34m\u001b[0m\u001b[0m\n",
      "\u001b[0;31mModuleNotFoundError\u001b[0m: No module named 'spine'"
     ]
    }
   ],
   "source": [
    "%reload_ext autoreload\n",
    "%autoreload 2\n",
    "## sys package\n",
    "import os, sys\n",
    "os.environ[\"CUDA_DEVICE_ORDER\"]=\"PCI_BUS_ID\"\n",
    "os.environ[\"CUDA_VISIBLE_DEVICES\"]=\"2\"  # specify which GPU(s) to be used\n",
    "sys.path.append(\"./prediction_models/input/prostate-cancer-grade-assessment/\")\n",
    "sys.path.append(\"./prediction_models/tile_concat_wy/input/\")\n",
    "## warning off\n",
    "import warnings\n",
    "warnings.filterwarnings(\"ignore\")\n",
    "\n",
    "## general package\n",
    "import random\n",
    "from tqdm import tqdm_notebook as tqdm\n",
    "import numpy as np\n",
    "import pandas as pd\n",
    "from torch.utils.data import *\n",
    "\n",
    "## customized package\n",
    "from input.inputPipeline_spine_infer import PandaPatchDatasetInfer\n",
    "from model.resnext_ssl import *"
   ]
  },
  {
   "cell_type": "markdown",
   "metadata": {},
   "source": [
    "### Define test folder"
   ]
  },
  {
   "cell_type": "code",
   "execution_count": 2,
   "metadata": {},
   "outputs": [],
   "source": [
    "DATA = './input/prostate-cancer-grade-assessment/test_images'\n",
    "TEST = './input/prostate-cancer-grade-assessment/test.csv'\n",
    "SAMPLE = './input/prostate-cancer-grade-assessment/sample_submission.csv'"
   ]
  },
  {
   "cell_type": "markdown",
   "metadata": {},
   "source": [
    "### Define Dataset, Dataloader Specs"
   ]
  },
  {
   "cell_type": "code",
   "execution_count": 4,
   "metadata": {},
   "outputs": [],
   "source": [
    "mean = torch.tensor([0.90949707, 0.8188697, 0.87795304])\n",
    "std = torch.tensor([0.36357649, 0.49984502, 0.40477625])\n",
    "tsfm = transforms.Compose(\n",
    "        [transforms.ToTensor(),\n",
    "         transforms.Normalize(mean=mean,\n",
    "                              std=std)])"
   ]
  },
  {
   "cell_type": "markdown",
   "metadata": {},
   "source": [
    "### Define Model"
   ]
  },
  {
   "cell_type": "code",
   "execution_count": 5,
   "metadata": {},
   "outputs": [
    {
     "name": "stderr",
     "output_type": "stream",
     "text": [
      "Using cache found in /home/docker-user/.cache/torch/hub/facebookresearch_semi-supervised-ImageNet1K-models_master\n",
      "Using cache found in /home/docker-user/.cache/torch/hub/facebookresearch_semi-supervised-ImageNet1K-models_master\n",
      "Using cache found in /home/docker-user/.cache/torch/hub/facebookresearch_semi-supervised-ImageNet1K-models_master\n",
      "Using cache found in /home/docker-user/.cache/torch/hub/facebookresearch_semi-supervised-ImageNet1K-models_master\n"
     ]
    }
   ],
   "source": [
    "models = []\n",
    "weights = [f'./train/weights/Resnext50_30epoch/Resnext50_30epoch_{i}_best.pth.tar' for i in range(4)]\n",
    "for path in weights:\n",
    "    state_dict = torch.load(path,map_location=torch.device('cpu'))\n",
    "    model = Model()\n",
    "    model.load_state_dict(state_dict['state_dict'])\n",
    "    model.float()\n",
    "    model.eval()\n",
    "    model.cuda()\n",
    "    models.append(model)\n",
    "\n",
    "del state_dict"
   ]
  },
  {
   "cell_type": "markdown",
   "metadata": {},
   "source": [
    "### Inference"
   ]
  },
  {
   "cell_type": "code",
   "execution_count": 31,
   "metadata": {},
   "outputs": [
    {
     "data": {
      "text/html": [
       "<div>\n",
       "<style scoped>\n",
       "    .dataframe tbody tr th:only-of-type {\n",
       "        vertical-align: middle;\n",
       "    }\n",
       "\n",
       "    .dataframe tbody tr th {\n",
       "        vertical-align: top;\n",
       "    }\n",
       "\n",
       "    .dataframe thead th {\n",
       "        text-align: right;\n",
       "    }\n",
       "</style>\n",
       "<table border=\"1\" class=\"dataframe\">\n",
       "  <thead>\n",
       "    <tr style=\"text-align: right;\">\n",
       "      <th></th>\n",
       "      <th>image_id</th>\n",
       "      <th>isup_grade</th>\n",
       "    </tr>\n",
       "  </thead>\n",
       "  <tbody>\n",
       "    <tr>\n",
       "      <th>0</th>\n",
       "      <td>0005f7aaab2800f6170c399693a96917</td>\n",
       "      <td>0</td>\n",
       "    </tr>\n",
       "    <tr>\n",
       "      <th>1</th>\n",
       "      <td>000920ad0b612851f8e01bcc880d9b3d</td>\n",
       "      <td>0</td>\n",
       "    </tr>\n",
       "    <tr>\n",
       "      <th>2</th>\n",
       "      <td>0018ae58b01bdadc8e347995b69f99aa</td>\n",
       "      <td>4</td>\n",
       "    </tr>\n",
       "  </tbody>\n",
       "</table>\n",
       "</div>"
      ],
      "text/plain": [
       "                           image_id  isup_grade\n",
       "0  0005f7aaab2800f6170c399693a96917           0\n",
       "1  000920ad0b612851f8e01bcc880d9b3d           0\n",
       "2  0018ae58b01bdadc8e347995b69f99aa           4"
      ]
     },
     "execution_count": 31,
     "metadata": {},
     "output_type": "execute_result"
    }
   ],
   "source": [
    "sub_df = pd.read_csv(SAMPLE)\n",
    "## if there are data in \"test_images\", (only happens when you submit your notebook, do inference)\n",
    "if os.path.exists(DATA):\n",
    "    sz = 128\n",
    "    bs = 2\n",
    "    dataset = PandaPatchDatasetInfer(TEST, DATA, transform=tsfm)\n",
    "    dataloader = DataLoader(dataset, batch_size=bs,\n",
    "                            shuffle=False, num_workers=0, collate_fn=dataloader_collte_fn_infer)\n",
    "    names,preds = [],[] ## record image names and predictions\n",
    "    ## Model inference\n",
    "    with torch.no_grad():\n",
    "        for idx, data in enumerate(dataloader):\n",
    "            img, name = data\n",
    "            img = img.float().cuda()\n",
    "            bs,N,C,h,w = img.shape\n",
    "            ## dihedral TTA\n",
    "            img = torch.stack([img,img.flip(-1),img.flip(-2),img.flip(-1,-2),\n",
    "                  img.transpose(-1,-2),img.transpose(-1,-2).flip(-1),\n",
    "                  img.transpose(-1,-2).flip(-2),img.transpose(-1,-2).flip(-1,-2)],1)\n",
    "            img = img.view(-1, N, C, h, w)\n",
    "            p = [model(img) for model in models] # [4, bs * 8, 6]\n",
    "            p = torch.stack(p,1) # [bs * 8, 4, 6]\n",
    "            p = p.view(bs,8*len(models),-1) # [bs, 8(augmentation) * 4 (model), 6]\n",
    "            p = p.mean(1).argmax(-1).cpu() #[bs]\n",
    "            names.append(name)\n",
    "            preds.append(p)\n",
    "        names = np.concatenate(names)\n",
    "        preds = torch.cat(preds).numpy()\n",
    "        sub_df = pd.DataFrame({'image_id': names, 'isup_grade': preds})\n",
    "\n",
    "sub_df.to_csv('submission.csv', index=False)\n",
    "sub_df.head()"
   ]
  }
 ],
 "metadata": {
  "kernelspec": {
   "display_name": "Python 3",
   "language": "python",
   "name": "python3"
  },
  "language_info": {
   "codemirror_mode": {
    "name": "ipython",
    "version": 3
   },
   "file_extension": ".py",
   "mimetype": "text/x-python",
   "name": "python",
   "nbconvert_exporter": "python",
   "pygments_lexer": "ipython3",
   "version": "3.6.8"
  }
 },
 "nbformat": 4,
 "nbformat_minor": 4
}
