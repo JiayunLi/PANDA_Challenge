{
 "cells": [
  {
   "cell_type": "markdown",
   "metadata": {},
   "source": [
    "## This notebook use input.tile_extraction to extract patches from images"
   ]
  },
  {
   "cell_type": "code",
   "execution_count": 6,
   "metadata": {},
   "outputs": [],
   "source": [
    "from input.tile_extraction import write_2_zip\n",
    "import os"
   ]
  },
  {
   "cell_type": "markdown",
   "metadata": {},
   "source": [
    "### Define Your Input"
   ]
  },
  {
   "cell_type": "code",
   "execution_count": 8,
   "metadata": {},
   "outputs": [
    {
     "name": "stdout",
     "output_type": "stream",
     "text": [
      "3\n"
     ]
    }
   ],
   "source": [
    "TRAIN = './input/prostate-cancer-grade-assessment/train_images/'  ## train image folder\n",
    "MASKS = './input/prostate-cancer-grade-assessment/train_label_masks/'  ## train mask folder\n",
    "OUT_TRAIN = './input/panda-16x128x128-tiles-data/train.zip'  ## output image folder\n",
    "OUT_MASKS = './input/panda-16x128x128-tiles-data/masks.zip'  ## ouput label folder\n",
    "sz = 128 ## image patch size\n",
    "N = 16 ## how many patches selected from each slide\n",
    "names = [name[:-10] for name in os.listdir(MASKS)]\n",
    "print(len(names))  ## only images that have masks"
   ]
  },
  {
   "cell_type": "markdown",
   "metadata": {},
   "source": [
    "### Process Image"
   ]
  },
  {
   "cell_type": "code",
   "execution_count": 9,
   "metadata": {},
   "outputs": [
    {
     "name": "stderr",
     "output_type": "stream",
     "text": [
      "100%|██████████| 3/3 [00:00<00:00, 25.56it/s]"
     ]
    },
    {
     "name": "stdout",
     "output_type": "stream",
     "text": [
      "mean: [0.92866528 0.85359173 0.90406068] , std: [0.32735802 0.47457601 0.3707984 ]\n"
     ]
    },
    {
     "name": "stderr",
     "output_type": "stream",
     "text": [
      "\n"
     ]
    }
   ],
   "source": [
    "Source_Folder = [TRAIN, MASKS]\n",
    "Des_File = [OUT_TRAIN, OUT_MASKS]\n",
    "mean, std = write_2_zip(Source_Folder, Des_File, names, sz, N)"
   ]
  },
  {
   "cell_type": "markdown",
   "metadata": {},
   "source": [
    "### End Note\n",
    "The generated patch imgs and masks are on dgx: */raid/wenyli/PANDA_Challenge/prediction_models/tile_concat_wy/input/panda-16x128x128-tiles-data* "
   ]
  }
 ],
 "metadata": {
  "kernelspec": {
   "display_name": "Python 3",
   "language": "python",
   "name": "python3"
  },
  "language_info": {
   "codemirror_mode": {
    "name": "ipython",
    "version": 3
   },
   "file_extension": ".py",
   "mimetype": "text/x-python",
   "name": "python",
   "nbconvert_exporter": "python",
   "pygments_lexer": "ipython3",
   "version": "3.6.10"
  }
 },
 "nbformat": 4,
 "nbformat_minor": 2
}
