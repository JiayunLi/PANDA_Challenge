{
 "cells": [
  {
   "cell_type": "code",
   "execution_count": 1,
   "metadata": {},
   "outputs": [],
   "source": [
    "%reload_ext autoreload\n",
    "%autoreload 2\n",
    "## sys package\n",
    "import os, sys\n",
    "os.environ[\"CUDA_DEVICE_ORDER\"]=\"PCI_BUS_ID\"\n",
    "os.environ[\"CUDA_VISIBLE_DEVICES\"]=\"5\"  # specify which GPU(s) to be used\n",
    "sys.path.append(\"./prediction_models/input/prostate-cancer-grade-assessment/\")\n",
    "## warning off\n",
    "import warnings\n",
    "warnings.filterwarnings(\"ignore\")\n",
    "\n",
    "## general package\n",
    "import random\n",
    "from tqdm import tqdm_notebook as tqdm\n",
    "import numpy as np\n",
    "import pandas as pd\n",
    "import torch\n",
    "from torch.utils.data import *\n",
    "from sklearn.metrics import cohen_kappa_score\n",
    "from sklearn.metrics import confusion_matrix\n",
    "import seaborn as sn\n",
    "import pandas as pd\n",
    "import matplotlib.pyplot as plt\n",
    "import pickle\n",
    "# device = torch.device(\"cuda:4\" if torch.cuda.is_available() else \"cpu\") \n",
    "# print(device)\n",
    "\n",
    "## customized package\n",
    "from input.inputPipeline_stiching import PandaPatchDataset, crossValDataloader, data_transform\n",
    "from model.resnext_ssl_stiching import Model_Infer as Model"
   ]
  },
  {
   "cell_type": "code",
   "execution_count": 5,
   "metadata": {},
   "outputs": [],
   "source": [
    "data_dir = './input/panda-36x256x256-tiles-data/train'\n",
    "csv_file = './input/panda-36x256x256-tiles-data/4_fold_whole_train.csv'\n",
    "# SAMPLE = './input/prostate-cancer-grade-assessment/sample_submission.csv'"
   ]
  },
  {
   "cell_type": "code",
   "execution_count": 3,
   "metadata": {},
   "outputs": [],
   "source": [
    "models = []\n",
    "weights = [f'./train/weights/Resnext50_medreso_36patch_adam_cosine_bin/Resnext50_medreso_36patch_adam_cosine_bin_{i}_best.pth.tar' for i in [0,1,2,3]]\n",
    "for path in weights:\n",
    "    pretrained_dict = torch.load(path)\n",
    "    model = Model(n = 5)\n",
    "    model_dict = model.state_dict()\n",
    "    pretrained_dict = {k: v for k, v in pretrained_dict.items() if k in model_dict}\n",
    "    model_dict.update(pretrained_dict)\n",
    "    model.load_state_dict(pretrained_dict)\n",
    "    model.eval()\n",
    "    model.cuda()\n",
    "    models.append(model)\n",
    "\n",
    "del pretrained_dict"
   ]
  },
  {
   "cell_type": "code",
   "execution_count": 6,
   "metadata": {},
   "outputs": [],
   "source": [
    "sz = 256\n",
    "bs = 1\n",
    "folds = 4\n",
    "tsfm = data_transform()\n",
    "tsfm = None\n",
    "dataset = PandaPatchDataset(csv_file, data_dir, sz, transform=tsfm, N = 36, rand = False)\n",
    "crossValData = crossValDataloader(csv_file, dataset, bs)"
   ]
  },
  {
   "cell_type": "code",
   "execution_count": 7,
   "metadata": {},
   "outputs": [
    {
     "data": {
      "application/vnd.jupyter.widget-view+json": {
       "model_id": "551ac6d5b6b04a569ca8019316967a57",
       "version_major": 2,
       "version_minor": 0
      },
      "text/plain": [
       "HBox(children=(FloatProgress(value=0.0, max=2654.0), HTML(value='')))"
      ]
     },
     "metadata": {},
     "output_type": "display_data"
    },
    {
     "name": "stdout",
     "output_type": "stream",
     "text": [
      "\n"
     ]
    },
    {
     "data": {
      "application/vnd.jupyter.widget-view+json": {
       "model_id": "0a5fc4abcc3a4c38816fd1ad5b47295d",
       "version_major": 2,
       "version_minor": 0
      },
      "text/plain": [
       "HBox(children=(FloatProgress(value=0.0, max=2654.0), HTML(value='')))"
      ]
     },
     "metadata": {},
     "output_type": "display_data"
    },
    {
     "name": "stdout",
     "output_type": "stream",
     "text": [
      "\n"
     ]
    },
    {
     "data": {
      "application/vnd.jupyter.widget-view+json": {
       "model_id": "3cc70d30c1414bc0bbc12da9ef361657",
       "version_major": 2,
       "version_minor": 0
      },
      "text/plain": [
       "HBox(children=(FloatProgress(value=0.0, max=2654.0), HTML(value='')))"
      ]
     },
     "metadata": {},
     "output_type": "display_data"
    },
    {
     "name": "stdout",
     "output_type": "stream",
     "text": [
      "\n"
     ]
    },
    {
     "data": {
      "application/vnd.jupyter.widget-view+json": {
       "model_id": "10325f9c0051431f9df3da79ff673286",
       "version_major": 2,
       "version_minor": 0
      },
      "text/plain": [
       "HBox(children=(FloatProgress(value=0.0, max=2654.0), HTML(value='')))"
      ]
     },
     "metadata": {},
     "output_type": "display_data"
    },
    {
     "name": "stdout",
     "output_type": "stream",
     "text": [
      "\n"
     ]
    }
   ],
   "source": [
    "names = [] ## record image names and predictions\n",
    "preds = []\n",
    "grades = []\n",
    "preds_r, preds_k = [],[]\n",
    "grades_r, grades_k = [],[]\n",
    "for fold in [0,3]:\n",
    "    ## Model inference\n",
    "    _, dataloader0 = crossValData(fold)\n",
    "    model = models[fold]\n",
    "    with torch.no_grad():\n",
    "        for idx, data in enumerate(tqdm(dataloader0)):\n",
    "            img, name, provider, grade = data['img'], data['name'], data['datacenter'], data['isup_grade']\n",
    "            img = img.cuda()\n",
    "            logits = model(img)['out']\n",
    "            preds.append(logits.sigmoid().sum(1).round().cpu())\n",
    "            names.append(name)\n",
    "            grades.append(grade.sum(1).cpu())\n",
    "            if provider[0] == \"radboud\":\n",
    "                preds_r.append(logits.sigmoid().sum(1).round().cpu())\n",
    "                grades_r.append(grade.sum(1).cpu())\n",
    "            else:\n",
    "                preds_k.append(logits.sigmoid().sum(1).round().cpu())\n",
    "                grades_k.append(grade.sum(1).cpu())\n",
    "#             if idx >= 50:\n",
    "#                 break"
   ]
  },
  {
   "cell_type": "code",
   "execution_count": 8,
   "metadata": {},
   "outputs": [],
   "source": [
    "names = np.concatenate(names)\n",
    "grades = torch.cat(grades, 0).numpy().astype(int)\n",
    "predictions = torch.cat(preds, 0).numpy().astype(int)\n",
    "grades_r = torch.cat(grades_r, 0).numpy().astype(int)\n",
    "predictions_r = torch.cat(preds_r, 0).numpy().astype(int)\n",
    "grades_k = torch.cat(grades_k, 0).numpy().astype(int)\n",
    "predictions_k = torch.cat(preds_k, 0).numpy().astype(int)"
   ]
  },
  {
   "cell_type": "code",
   "execution_count": 37,
   "metadata": {},
   "outputs": [
    {
     "name": "stdout",
     "output_type": "stream",
     "text": [
      "The average kappa score is 0.8797552576025853, radboud is 0.8447190920511448, karolinska is 0.8890494430141944.\n"
     ]
    }
   ],
   "source": [
    "kappa = cohen_kappa_score(grades, predictions, weights='quadratic')\n",
    "kappa_r = cohen_kappa_score(grades_r, predictions_r, weights='quadratic')\n",
    "kappa_k = cohen_kappa_score(grades_k, predictions_k, weights='quadratic')\n",
    "cm = confusion_matrix(grades_r, predictions_r)\n",
    "# ncm = cm / cm.astype(np.float).sum(axis=1)\n",
    "ncm = cm\n",
    "print(\"The average kappa score is {}, radboud is {}, karolinska is {}.\".format(kappa, kappa_r, kappa_k))"
   ]
  },
  {
   "cell_type": "markdown",
   "metadata": {},
   "source": [
    "### Record a confusion dict with file name"
   ]
  },
  {
   "cell_type": "code",
   "execution_count": 27,
   "metadata": {},
   "outputs": [],
   "source": [
    "val_preds_p, val_label_p = predictions_r, grades_r"
   ]
  },
  {
   "cell_type": "code",
   "execution_count": 28,
   "metadata": {},
   "outputs": [],
   "source": [
    "cfm_name = {}\n",
    "for i in range(6):\n",
    "    for j in range(6):\n",
    "        if i == j:\n",
    "            continue\n",
    "        cfm_name[\"{}_{}\".format(i, j)] = [] ## label i, preds, j\n",
    "for idx in range(len(val_label_p)):\n",
    "    label = val_label_p[idx]\n",
    "    preds = val_preds_p[idx]\n",
    "    if label != preds:\n",
    "        cfm_name[\"{}_{}\".format(int(label), int(preds))].append(\"pseudo_name\")"
   ]
  },
  {
   "cell_type": "code",
   "execution_count": 29,
   "metadata": {},
   "outputs": [],
   "source": [
    "f = open(\"Resnext50_medreso_36patch_adam_cosine_bin_0_cfm_name_karolinska.pkl\",\"wb\")\n",
    "pickle.dump(cfm_name,f)\n",
    "f.close()"
   ]
  },
  {
   "cell_type": "code",
   "execution_count": 38,
   "metadata": {},
   "outputs": [
    {
     "data": {
      "image/png": "[encoded data removed]",
      "text/plain": [
       "<Figure size 432x288 with 2 Axes>"
      ]
     },
     "metadata": {},
     "output_type": "display_data"
    }
   ],
   "source": [
    "df_cm = pd.DataFrame(ncm, range(6), range(6))\n",
    "sn.set(font_scale=1.4) # for label size\n",
    "sn.heatmap(df_cm, annot=True, annot_kws={\"size\": 10}) # font size\n",
    "plt.show()"
   ]
  }
 ],
 "metadata": {
  "kernelspec": {
   "display_name": "Python 3",
   "language": "python",
   "name": "python3"
  },
  "language_info": {
   "codemirror_mode": {
    "name": "ipython",
    "version": 3
   },
   "file_extension": ".py",
   "mimetype": "text/x-python",
   "name": "python",
   "nbconvert_exporter": "python",
   "pygments_lexer": "ipython3",
   "version": "3.6.8"
  }
 },
 "nbformat": 4,
 "nbformat_minor": 4
}
