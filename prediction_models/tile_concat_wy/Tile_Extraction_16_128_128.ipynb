{
 "cells": [
  {
   "cell_type": "code",
   "execution_count": 1,
   "metadata": {},
   "outputs": [],
   "source": [
    "import os\n",
    "import cv2\n",
    "import skimage.io\n",
    "from tqdm.notebook import tqdm\n",
    "import zipfile\n",
    "import numpy as np\n",
    "from ipywidgets import FloatProgress"
   ]
  },
  {
   "cell_type": "code",
   "execution_count": 2,
   "metadata": {},
   "outputs": [],
   "source": [
    "TRAIN = './input/prostate-cancer-grade-assessment/train_images/' ## train image folder\n",
    "MASKS = './input/prostate-cancer-grade-assessment/train_label_masks/' ## train mask folder\n",
    "OUT_TRAIN = './input/panda-16x128x128-tiles-data/train.zip' ## output image folder\n",
    "OUT_MASKS = './input/panda-16x128x128-tiles-data/masks.zip' ## ouput label folder"
   ]
  },
  {
   "cell_type": "code",
   "execution_count": 3,
   "metadata": {},
   "outputs": [],
   "source": [
    "def tile(img, mask, sz = 128, N = 16):\n",
    "    '''\n",
    "    img: (h,w,3)\n",
    "    mask: (h,w,3)\n",
    "    '''\n",
    "    result = []\n",
    "    shape = img.shape\n",
    "    ## calculate padding size so the dimesion is a multiple of sz\n",
    "    pad0,pad1 = (sz - shape[0]%sz)%sz, (sz - shape[1]%sz)%sz\n",
    "    ## pad image and msk\n",
    "    img = np.pad(img,[[pad0//2,pad0-pad0//2],[pad1//2,pad1-pad1//2],[0,0]], mode='constant',\n",
    "                constant_values=255) # img (h',w',3)\n",
    "    mask = np.pad(mask,[[pad0//2,pad0-pad0//2],[pad1//2,pad1-pad1//2],[0,0]], mode='constant',\n",
    "                constant_values=0) # mask (h',w',3)\n",
    "    \n",
    "    img = img.reshape(img.shape[0]//sz,sz,img.shape[1]//sz,sz,3) # img (h'/128, 128, w'/128, 128, 3)\n",
    "    img = img.transpose(0,2,1,3,4).reshape(-1,sz,sz,3) # img (h'*w'/(128**2), 128, 128, 3)\n",
    "    mask = mask.reshape(mask.shape[0]//sz,sz,mask.shape[1]//sz,sz,3) # mask (h'/128, 128, w'/128, 128, 3)\n",
    "    mask = mask.transpose(0,2,1,3,4).reshape(-1,sz,sz,3) # mask (h'*w'/(128**2), 128, 128, 3)\n",
    "    \n",
    "    ## if number of pathces cropped from the image is smaller than N, padding more patches with constant\n",
    "    if len(img) < N: \n",
    "        mask = np.pad(mask,[[0,N-len(img)],[0,0],[0,0],[0,0]],mode='constant', constant_values=0)\n",
    "        img = np.pad(img,[[0,N-len(img)],[0,0],[0,0],[0,0]],mode='constant', constant_values=255)\n",
    "    ## sort the patches by pixel value from smallest to largest\n",
    "    ## pick up the first N smallest patches, thoses are the patches that most likely contains tissues\n",
    "    ## as white space (255, 255, 255) contains the largest pixel value\n",
    "    idxs = np.argsort(img.reshape(img.shape[0],-1).sum(-1))[:N]\n",
    "    img = img[idxs]\n",
    "    mask = mask[idxs]\n",
    "    for i in range(len(img)):\n",
    "        result.append({'img':img[i], 'mask':mask[i], 'idx':i})\n",
    "    ## result: list [{'img': img[0], 'mask': mask[0], 'idx': 0},{'img': img[1], 'mask': mask[1], 'idx': 1},...]\n",
    "    return result"
   ]
  },
  {
   "cell_type": "code",
   "execution_count": 4,
   "metadata": {},
   "outputs": [
    {
     "name": "stdout",
     "output_type": "stream",
     "text": [
      "10516\n",
      "['b97714e3e07e57a9bfc005fc830a1723', 'bf3467b7d71484452bc834d55ecc88c0', '6b10e2f8cd5d3add0fd7f2f932e86fa5']\n"
     ]
    }
   ],
   "source": [
    "names = [name[:-10] for name in os.listdir(MASKS)]\n",
    "print(len(names)) ## only images that have masks \n",
    "## debug on desktop\n",
    "# names = ['0005f7aaab2800f6170c399693a96917',\n",
    "#         '000920ad0b612851f8e01bcc880d9b3d',\n",
    "#         '0018ae58b01bdadc8e347995b69f99aa']"
   ]
  },
  {
   "cell_type": "code",
   "execution_count": 32,
   "metadata": {},
   "outputs": [
    {
     "data": {
      "application/vnd.jupyter.widget-view+json": {
       "model_id": "3cc71a7fb3d94d0c95abdbc7271fa9a7",
       "version_major": 2,
       "version_minor": 0
      },
      "text/plain": [
       "HBox(children=(FloatProgress(value=0.0, max=10516.0), HTML(value='')))"
      ]
     },
     "metadata": {},
     "output_type": "display_data"
    },
    {
     "name": "stdout",
     "output_type": "stream",
     "text": [
      "\n"
     ]
    }
   ],
   "source": [
    "sz = 128\n",
    "N = 16\n",
    "## x_tot: [np.array(r_mean,g_mean,b_mean), np.array(r_mean,g_mean,b_mean),....]\n",
    "## x2_tot: [np.array(r^2_mean,g^2_mean,b_mean), np.array(r^2_mean,g^2_mean,b^2_mean),....]\n",
    "x_tot,x2_tot = [],[]\n",
    "with zipfile.ZipFile(OUT_TRAIN, 'w') as img_out,\\\n",
    " zipfile.ZipFile(OUT_MASKS, 'w') as mask_out:\n",
    "    for name in tqdm(names):\n",
    "        ## read the image and label with the lowest res by [-1]\n",
    "        img = skimage.io.MultiImage(os.path.join(TRAIN,name+'.tiff'))[-1] \n",
    "        mask = skimage.io.MultiImage(os.path.join(MASKS,name+'_mask.tiff'))[-1]\n",
    "        ## tile the img and mask to N patches with size (sz,sz,3)\n",
    "        tiles = tile(img,mask,sz,N)\n",
    "        for t in tiles:\n",
    "            img,mask,idx = t['img'],t['mask'],t['idx']\n",
    "            x_tot.append((img/255.0).reshape(-1,3).mean(0)) ## append channel mean\n",
    "            x2_tot.append(((img/255.0)**2).reshape(-1,3).mean(0)) \n",
    "            # if read with PIL RGB turns into BGR\n",
    "            img = cv2.imencode('.png',cv2.cvtColor(img, cv2.COLOR_RGB2BGR))[1]\n",
    "            img_out.writestr('{0:s}_{1:d}.png'.format(name, idx), img)\n",
    "            mask = cv2.imencode('.png',mask[:,:,0])[1]\n",
    "            mask_out.writestr('{0:s}_{1:d}.png'.format(name, idx), mask)"
   ]
  },
  {
   "cell_type": "code",
   "execution_count": 34,
   "metadata": {},
   "outputs": [
    {
     "name": "stdout",
     "output_type": "stream",
     "text": [
      "mean: [0.90949707 0.8188697  0.87795304] , std: [0.36357649 0.49984502 0.40477625]\n"
     ]
    }
   ],
   "source": [
    "#image stats\n",
    "# print(np.array(x_tot).shape) ## (168256, 3)\n",
    "img_avr =  np.array(x_tot).mean(0) ## (168256, 3)\n",
    "# print(np.array(x_tot).shape)\n",
    "img_std =  np.sqrt(np.array(x2_tot).mean(0) - img_avr**2) ## variance = sqrt(E(X^2) - E(X)^2)\n",
    "print('mean:',img_avr, ', std:', np.sqrt(img_std))"
   ]
  },
  {
   "cell_type": "markdown",
   "metadata": {},
   "source": [
    "### End Note\n",
    "The generated patch imgs and masks are on dgx: */raid/wenyli/PANDA_Challenge/prediction_models/tile_concat_wy/input/panda-16x128x128-tiles-data* "
   ]
  }
 ],
 "metadata": {
  "kernelspec": {
   "display_name": "Python 3",
   "language": "python",
   "name": "python3"
  },
  "language_info": {
   "codemirror_mode": {
    "name": "ipython",
    "version": 3
   },
   "file_extension": ".py",
   "mimetype": "text/x-python",
   "name": "python",
   "nbconvert_exporter": "python",
   "pygments_lexer": "ipython3",
   "version": "3.6.8"
  }
 },
 "nbformat": 4,
 "nbformat_minor": 2
}
