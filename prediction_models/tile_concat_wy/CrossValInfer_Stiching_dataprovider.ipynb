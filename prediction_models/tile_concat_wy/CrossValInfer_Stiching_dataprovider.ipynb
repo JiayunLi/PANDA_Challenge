{
 "cells": [
  {
   "cell_type": "code",
   "execution_count": 1,
   "metadata": {},
   "outputs": [],
   "source": [
    "%reload_ext autoreload\n",
    "%autoreload 2\n",
    "## sys package\n",
    "import os, sys\n",
    "os.environ[\"CUDA_DEVICE_ORDER\"]=\"PCI_BUS_ID\"\n",
    "os.environ[\"CUDA_VISIBLE_DEVICES\"]=\"0\"  # specify which GPU(s) to be used\n",
    "sys.path.append(\"./prediction_models/input/prostate-cancer-grade-assessment/\")\n",
    "## warning off\n",
    "import warnings\n",
    "warnings.filterwarnings(\"ignore\")\n",
    "\n",
    "## general package\n",
    "import random\n",
    "from tqdm import tqdm_notebook as tqdm\n",
    "import numpy as np\n",
    "import pandas as pd\n",
    "import torch\n",
    "from torch.utils.data import *\n",
    "from sklearn.metrics import cohen_kappa_score\n",
    "from sklearn.metrics import confusion_matrix\n",
    "import seaborn as sn\n",
    "import pandas as pd\n",
    "import matplotlib.pyplot as plt\n",
    "import pickle\n",
    "from torch.utils.data import dataloader\n",
    "# device = torch.device(\"cuda:4\" if torch.cuda.is_available() else \"cpu\") \n",
    "# print(device)\n",
    "\n",
    "## customized package\n",
    "from input.inputPipeline_stiching import PandaPatchDataset, crossValDataloader, data_transform\n",
    "from model.resnext_ssl_stiching import Model_Infer as Model"
   ]
  },
  {
   "cell_type": "code",
   "execution_count": 2,
   "metadata": {},
   "outputs": [],
   "source": [
    "data_dir = './input/panda-36x256x256-tiles-data-spine-loc/train'\n",
    "# csv_file = './input/panda-36x256x256-tiles-data-spine/4_fold_whole_train.csv'\n",
    "# SAMPLE = './input/prostate-cancer-grade-assessment/sample_submission.csv'"
   ]
  },
  {
   "cell_type": "code",
   "execution_count": 25,
   "metadata": {},
   "outputs": [],
   "source": [
    "models_r = []\n",
    "models_k = []\n",
    "weights_r = [f'./train/weights/Resnext50_36patch_overlook_cos_spine_loc_pre_rad/Resnext50_36patch_overlook_cos_spine_loc_pre_rad_{i}_best.pth.tar' for i in [0,3]]\n",
    "weights_k = [f'./train/weights/Resnext50_medreso_36patch_adam_cosine_bin/Resnext50_medreso_36patch_adam_cosine_bin_{i}_best.pth.tar' for i in [0,3]]\n",
    "for path in weights_r:\n",
    "    state_dict = torch.load(path)\n",
    "    model = Model()\n",
    "    model.load_state_dict(state_dict)\n",
    "    model.float()\n",
    "    model.eval()\n",
    "    model.cuda()\n",
    "    models_r.append(model)\n",
    "for path in weights_k:\n",
    "    state_dict = torch.load(path)\n",
    "    model = Model()\n",
    "    model.load_state_dict(state_dict)\n",
    "    model.float()\n",
    "    model.eval()\n",
    "    model.cuda()\n",
    "    models_k.append(model)\n",
    "\n",
    "del state_dict"
   ]
  },
  {
   "cell_type": "code",
   "execution_count": 19,
   "metadata": {},
   "outputs": [],
   "source": [
    "sz = 256\n",
    "bs = 1\n",
    "folds = 4\n",
    "tsfm = None"
   ]
  },
  {
   "cell_type": "code",
   "execution_count": 20,
   "metadata": {},
   "outputs": [
    {
     "data": {
      "application/vnd.jupyter.widget-view+json": {
       "model_id": "879f170ac855472788e016c55fe3c020",
       "version_major": 2,
       "version_minor": 0
      },
      "text/plain": [
       "HBox(children=(FloatProgress(value=0.0, max=1267.0), HTML(value='')))"
      ]
     },
     "metadata": {},
     "output_type": "display_data"
    },
    {
     "name": "stdout",
     "output_type": "stream",
     "text": [
      "\n"
     ]
    }
   ],
   "source": [
    "names = [] ## record image names and predictions\n",
    "preds = []\n",
    "grades = []\n",
    "\n",
    "# first do radboud\n",
    "csv_file = './input/panda-36x256x256-tiles-data-spine/radboud_4_fold_train.csv'\n",
    "dataset = PandaPatchDataset(csv_file, data_dir, sz, transform=tsfm, N = 36, rand = False)\n",
    "crossValData = crossValDataloader(csv_file, dataset, bs)\n",
    "\n",
    "for fold in [0]:\n",
    "    ## Model inference\n",
    "    with torch.no_grad():    \n",
    "        _, dataloader0 = crossValData(fold)\n",
    "        model = models_r[fold]\n",
    "        for idx, data in enumerate(tqdm(dataloader0)):\n",
    "            img, name, provider, grade = data['img'], data['name'], data['datacenter'], data['isup_grade']\n",
    "            img = img.cuda()\n",
    "            logits = model(img)['out']\n",
    "            preds.append(logits.sigmoid().sum(1).round().cpu().numpy().astype(int))\n",
    "            names.append(name)\n",
    "            grades.append(grade.sum(1).cpu().numpy().astype(int))\n",
    "#             if idx > 200:\n",
    "#                 break\n",
    "del dataset\n",
    "del crossValData\n",
    "del dataloader0\n",
    "\n",
    "# ## next do karolinska\n",
    "# csv_file = './input/panda-36x256x256-tiles-data-spine/karolinska_4_fold_train.csv'\n",
    "# dataset = PandaPatchDataset(csv_file, data_dir, sz, transform=tsfm, N = 36, rand = False)\n",
    "# crossValData = crossValDataloader(csv_file, dataset, bs)\n",
    "\n",
    "# for fold in [0,1,2,3]:\n",
    "#     ## Model inference\n",
    "#     with torch.no_grad():\n",
    "#         _, dataloader0 = crossValData(fold)\n",
    "#         model = models_k[fold]\n",
    "#         for idx, data in enumerate(tqdm(dataloader0)):\n",
    "#             img, name, provider, grade = data['img'], data['name'], data['datacenter'], data['isup_grade']\n",
    "#             img = img.cuda()\n",
    "#             logits = model(img)['out']\n",
    "#             preds.append(logits.sigmoid().sum(1).round().cpu().numpy().astype(int))\n",
    "#             names.append(name)\n",
    "#             grades.append(grade.sum(1).cpu().numpy().astype(int))\n",
    "# #             if idx > 200:\n",
    "# #                 break"
   ]
  },
  {
   "cell_type": "code",
   "execution_count": 21,
   "metadata": {},
   "outputs": [
    {
     "data": {
      "text/plain": [
       "(1267, 1267)"
      ]
     },
     "execution_count": 21,
     "metadata": {},
     "output_type": "execute_result"
    }
   ],
   "source": [
    "len(grades),len(preds)"
   ]
  },
  {
   "cell_type": "code",
   "execution_count": 22,
   "metadata": {},
   "outputs": [],
   "source": [
    "names = np.concatenate(names)\n",
    "grades = np.concatenate(grades)\n",
    "preds = np.concatenate(preds)"
   ]
  },
  {
   "cell_type": "code",
   "execution_count": 23,
   "metadata": {},
   "outputs": [
    {
     "name": "stdout",
     "output_type": "stream",
     "text": [
      "The average kappa score is 0.8655008358879217.\n"
     ]
    }
   ],
   "source": [
    "kappa = cohen_kappa_score(grades, preds, weights='quadratic')\n",
    "cm = confusion_matrix(grades, preds)\n",
    "ncm = cm / cm.astype(np.float).sum(axis=1)\n",
    "print(\"The average kappa score is {}.\".format(kappa))"
   ]
  },
  {
   "cell_type": "markdown",
   "metadata": {},
   "source": [
    "###  Whole Dataset only for reference"
   ]
  },
  {
   "cell_type": "code",
   "execution_count": 38,
   "metadata": {},
   "outputs": [],
   "source": [
    "# csv_file = './input/panda-36x256x256-tiles-data-spine/4_fold_train.csv'\n",
    "csv_file = './input/prostate-cancer-grade-assessment/train.csv'\n",
    "dataset = PandaPatchDataset(csv_file, data_dir, sz, transform=tsfm, N = 36, rand = False)\n",
    "dataloader = DataLoader(dataset, batch_size=bs,\n",
    "                        shuffle=False, num_workers=4)"
   ]
  },
  {
   "cell_type": "code",
   "execution_count": 39,
   "metadata": {},
   "outputs": [
    {
     "data": {
      "application/vnd.jupyter.widget-view+json": {
       "model_id": "a45092022c754e41a4dc5e0d5fe70c66",
       "version_major": 2,
       "version_minor": 0
      },
      "text/plain": [
       "HBox(children=(FloatProgress(value=0.0, max=10616.0), HTML(value='')))"
      ]
     },
     "metadata": {},
     "output_type": "display_data"
    },
    {
     "name": "stdout",
     "output_type": "stream",
     "text": [
      "\n"
     ]
    }
   ],
   "source": [
    "names = [] ## record image names and predictions\n",
    "preds = {}\n",
    "grades = []\n",
    "for i in range(1 * len(models_k)):\n",
    "    preds[f'{i}'] = []\n",
    "\n",
    "with torch.no_grad():\n",
    "    for idx, data in enumerate(tqdm(dataloader)):\n",
    "        img, name, provider, grade = data['img'], data['name'], data['datacenter'], data['isup_grade']\n",
    "        img = img.cuda()\n",
    "        if provider[0] == \"radboud\":\n",
    "            for i,model in enumerate(models_r):\n",
    "                logits = model(img)['out']\n",
    "                preds[f'{i}'].append(logits)\n",
    "            names.append(name)\n",
    "        else:\n",
    "            for i,model in enumerate(models_k):\n",
    "                logits = model(img)['out']\n",
    "                preds[f'{i}'].append(logits)\n",
    "            names.append(name)\n",
    "        grades.append(grade.sum(1).cpu().numpy().astype(int))\n",
    "        \n",
    "        if idx >= 100:\n",
    "            break\n",
    "        \n",
    "    names = np.concatenate(names)\n",
    "    grades = np.concatenate(grades)\n",
    "    predictions = 0\n",
    "    for i in range(1 * len(models_k)):\n",
    "        predictions += torch.cat(preds[f'{i}']).sigmoid().cpu()\n",
    "    predictions = predictions / (1 * len(models_k))\n",
    "    predictions = predictions.sum(1).round().numpy().astype(int)"
   ]
  },
  {
   "cell_type": "code",
   "execution_count": 40,
   "metadata": {},
   "outputs": [
    {
     "name": "stdout",
     "output_type": "stream",
     "text": [
      "The average kappa score is 0.9714361764069804.\n"
     ]
    }
   ],
   "source": [
    "kappa = cohen_kappa_score(grades, predictions, weights='quadratic')\n",
    "cm = confusion_matrix(grades, predictions)\n",
    "ncm = cm / cm.astype(np.float).sum(axis=1)\n",
    "print(\"The average kappa score is {}.\".format(kappa))"
   ]
  },
  {
   "cell_type": "code",
   "execution_count": 47,
   "metadata": {},
   "outputs": [
    {
     "data": {
      "text/plain": [
       "array([0, 0, 4, 4, 0, 0, 1, 2, 1, 0, 0, 1, 1, 3, 2, 3, 0, 2, 0, 4])"
      ]
     },
     "execution_count": 47,
     "metadata": {},
     "output_type": "execute_result"
    }
   ],
   "source": [
    "# grades[80:100] \n",
    "predictions[0:20]"
   ]
  },
  {
   "cell_type": "markdown",
   "metadata": {},
   "source": [
    "### Record a confusion dict with file name"
   ]
  },
  {
   "cell_type": "code",
   "execution_count": null,
   "metadata": {},
   "outputs": [],
   "source": [
    "val_preds_p, val_label_p = val_preds_p.cpu().numpy(), val_label_p.cpu().numpy()"
   ]
  },
  {
   "cell_type": "code",
   "execution_count": null,
   "metadata": {},
   "outputs": [],
   "source": [
    "cfm_name = {}\n",
    "for i in range(6):\n",
    "    for j in range(6):\n",
    "        if i == j:\n",
    "            continue\n",
    "        cfm_name[\"{}_{}\".format(i, j)] = [] ## label i, preds, j\n",
    "for idx in range(len(names)):\n",
    "    label = val_label_p[idx]\n",
    "    preds = val_preds_p[idx]\n",
    "    if label != preds:\n",
    "        cfm_name[\"{}_{}\".format(int(label), int(preds))].append(names[idx])"
   ]
  },
  {
   "cell_type": "code",
   "execution_count": null,
   "metadata": {},
   "outputs": [],
   "source": [
    "f = open(\"Resnext50_medreso_36patch_adam_cosine_bin_0_cfm_name.pkl\",\"wb\")\n",
    "pickle.dump(cfm_name,f)\n",
    "f.close()"
   ]
  },
  {
   "cell_type": "code",
   "execution_count": null,
   "metadata": {},
   "outputs": [],
   "source": [
    "df_cm = pd.DataFrame(ncm, range(6), range(6))\n",
    "sn.set(font_scale=1.4) # for label size\n",
    "sn.heatmap(df_cm, annot=True, annot_kws={\"size\": 16}) # font size\n",
    "plt.show()"
   ]
  }
 ],
 "metadata": {
  "kernelspec": {
   "display_name": "Python 3",
   "language": "python",
   "name": "python3"
  },
  "language_info": {
   "codemirror_mode": {
    "name": "ipython",
    "version": 3
   },
   "file_extension": ".py",
   "mimetype": "text/x-python",
   "name": "python",
   "nbconvert_exporter": "python",
   "pygments_lexer": "ipython3",
   "version": "3.6.8"
  }
 },
 "nbformat": 4,
 "nbformat_minor": 4
}
