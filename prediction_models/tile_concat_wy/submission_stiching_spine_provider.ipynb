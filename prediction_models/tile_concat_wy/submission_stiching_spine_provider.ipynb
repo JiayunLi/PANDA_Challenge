{
 "cells": [
  {
   "cell_type": "code",
   "execution_count": 1,
   "metadata": {},
   "outputs": [],
   "source": [
    "%reload_ext autoreload\n",
    "%autoreload 2\n",
    "## sys package\n",
    "import os, sys\n",
    "os.environ[\"CUDA_DEVICE_ORDER\"]=\"PCI_BUS_ID\"\n",
    "os.environ[\"CUDA_VISIBLE_DEVICES\"]=\"5\"  # specify which GPU(s) to be used\n",
    "sys.path.append(\"./prediction_models/input/prostate-cancer-grade-assessment/\")\n",
    "sys.path.append(\"./input/\")\n",
    "## warning off\n",
    "import warnings\n",
    "warnings.filterwarnings(\"ignore\")\n",
    "\n",
    "## general package\n",
    "import random\n",
    "from tqdm import tqdm_notebook as tqdm\n",
    "import numpy as np\n",
    "import pandas as pd\n",
    "from torch.utils.data import *\n",
    "from sklearn.metrics import cohen_kappa_score\n",
    "from sklearn.metrics import confusion_matrix\n",
    "\n",
    "## customized package\n",
    "from input.inputPipeline_spine_infer_dataspecific import PandaPatchDatasetInfer\n",
    "from model.resnext_ssl_stiching import Model_Infer as Model"
   ]
  },
  {
   "cell_type": "markdown",
   "metadata": {},
   "source": [
    "### Define test folder"
   ]
  },
  {
   "cell_type": "code",
   "execution_count": 5,
   "metadata": {},
   "outputs": [],
   "source": [
    "DATA = './input/prostate-cancer-grade-assessment/test_images'\n",
    "TEST = './input/prostate-cancer-grade-assessment/test.csv'\n",
    "TRAIN = './input/prostate-cancer-grade-assessment/train.csv'\n",
    "TRAIN_rad = './input/prostate-cancer-grade-assessment/train.csv'\n",
    "SAMPLE = './input/prostate-cancer-grade-assessment/sample_submission.csv'\n",
    "# is_test = os.path.exists(DATA)\n",
    "is_test = False"
   ]
  },
  {
   "cell_type": "markdown",
   "metadata": {},
   "source": [
    "### Define Model"
   ]
  },
  {
   "cell_type": "code",
   "execution_count": 33,
   "metadata": {},
   "outputs": [],
   "source": [
    "models_r = []\n",
    "models_k = []\n",
    "weights_r = [f'./train/weights/Resnext50_36patch_adam_cos_spine_rad/Resnext50_36patch_adam_cos_spine_rad_{i}_best.pth.tar' for i in [0,3]]\n",
    "weights_k = [f'./train/weights/Resnext50_medreso_36patch_adam_cosine_bin/Resnext50_medreso_36patch_adam_cosine_bin_{i}_best.pth.tar' for i in [2,3]]\n",
    "for path in weights_r:\n",
    "    state_dict = torch.load(path)\n",
    "    model = Model()\n",
    "    model.load_state_dict(state_dict)\n",
    "    model.float()\n",
    "    model.eval()\n",
    "    model.cuda()\n",
    "    models_r.append(model)\n",
    "for path in weights_k:\n",
    "    state_dict = torch.load(path)\n",
    "    model = Model()\n",
    "    model.load_state_dict(state_dict)\n",
    "    model.float()\n",
    "    model.eval()\n",
    "    model.cuda()\n",
    "    models_k.append(model)\n",
    "\n",
    "del state_dict"
   ]
  },
  {
   "cell_type": "markdown",
   "metadata": {},
   "source": [
    "### Inference"
   ]
  },
  {
   "cell_type": "code",
   "execution_count": 7,
   "metadata": {},
   "outputs": [],
   "source": [
    "tsfm = None\n",
    "sub_df = pd.read_csv(SAMPLE)\n",
    "## if there are data in \"test_images\", (only happens when you submit your notebook, do inference)\n",
    "\n",
    "sz = 256\n",
    "bs = 1\n",
    "\n",
    "if is_test:\n",
    "    dataset0 = PandaPatchDatasetInfer(TEST, DATA, sz, transform=tsfm, N = 36, rand = False)\n",
    "#     dataset1 = PandaPatchDatasetInfer(TEST, DATA, sz, transform=tsfm, N = 36, rand = False, mode = 2)\n",
    "else:\n",
    "    dataset0 = PandaPatchDatasetInfer(TRAIN, DATA_TRAIN, sz, transform=tsfm, N = 36, rand = False)\n",
    "#     dataset1 = PandaPatchDatasetInfer(TRAIN, DATA_TRAIN, sz, transform=tsfm, N = 36, rand = False, mode = 2)\n",
    "dataloader0 = DataLoader(dataset0, batch_size=bs,\n",
    "                        shuffle=False, num_workers=4)\n",
    "# dataloader1 = DataLoader(dataset1, batch_size=bs,\n",
    "#                         shuffle=False, num_workers=4)"
   ]
  },
  {
   "cell_type": "code",
   "execution_count": 35,
   "metadata": {},
   "outputs": [],
   "source": [
    "names = [] ## record image names and predictions\n",
    "preds = {}\n",
    "for i in range(1 * len(models_k)):\n",
    "    preds[f'{i}'] = []"
   ]
  },
  {
   "cell_type": "code",
   "execution_count": 36,
   "metadata": {},
   "outputs": [
    {
     "data": {
      "application/vnd.jupyter.widget-view+json": {
       "model_id": "dea3b7f7308b4619933bf0246f1a1811",
       "version_major": 2,
       "version_minor": 0
      },
      "text/plain": [
       "HBox(children=(FloatProgress(value=0.0, max=10616.0), HTML(value='')))"
      ]
     },
     "metadata": {},
     "output_type": "display_data"
    },
    {
     "name": "stdout",
     "output_type": "stream",
     "text": [
      "\n"
     ]
    },
    {
     "data": {
      "text/html": [
       "<div>\n",
       "<style scoped>\n",
       "    .dataframe tbody tr th:only-of-type {\n",
       "        vertical-align: middle;\n",
       "    }\n",
       "\n",
       "    .dataframe tbody tr th {\n",
       "        vertical-align: top;\n",
       "    }\n",
       "\n",
       "    .dataframe thead th {\n",
       "        text-align: right;\n",
       "    }\n",
       "</style>\n",
       "<table border=\"1\" class=\"dataframe\">\n",
       "  <thead>\n",
       "    <tr style=\"text-align: right;\">\n",
       "      <th></th>\n",
       "      <th>image_id</th>\n",
       "      <th>isup_grade</th>\n",
       "    </tr>\n",
       "  </thead>\n",
       "  <tbody>\n",
       "    <tr>\n",
       "      <th>0</th>\n",
       "      <td>0005f7aaab2800f6170c399693a96917</td>\n",
       "      <td>0</td>\n",
       "    </tr>\n",
       "    <tr>\n",
       "      <th>1</th>\n",
       "      <td>000920ad0b612851f8e01bcc880d9b3d</td>\n",
       "      <td>0</td>\n",
       "    </tr>\n",
       "    <tr>\n",
       "      <th>2</th>\n",
       "      <td>0018ae58b01bdadc8e347995b69f99aa</td>\n",
       "      <td>4</td>\n",
       "    </tr>\n",
       "    <tr>\n",
       "      <th>3</th>\n",
       "      <td>001c62abd11fa4b57bf7a6c603a11bb9</td>\n",
       "      <td>4</td>\n",
       "    </tr>\n",
       "    <tr>\n",
       "      <th>4</th>\n",
       "      <td>001d865e65ef5d2579c190a0e0350d8f</td>\n",
       "      <td>0</td>\n",
       "    </tr>\n",
       "    <tr>\n",
       "      <th>...</th>\n",
       "      <td>...</td>\n",
       "      <td>...</td>\n",
       "    </tr>\n",
       "    <tr>\n",
       "      <th>95</th>\n",
       "      <td>0277b937ddc8679ae69b3c54bfd714f1</td>\n",
       "      <td>5</td>\n",
       "    </tr>\n",
       "    <tr>\n",
       "      <th>96</th>\n",
       "      <td>027c4a5b5f9f1be80602ef51f2619bc2</td>\n",
       "      <td>1</td>\n",
       "    </tr>\n",
       "    <tr>\n",
       "      <th>97</th>\n",
       "      <td>02805e3e20ef629ffeeee1e68cf24ab0</td>\n",
       "      <td>4</td>\n",
       "    </tr>\n",
       "    <tr>\n",
       "      <th>98</th>\n",
       "      <td>028098c36eb49a8c6aa6e76e365dd055</td>\n",
       "      <td>0</td>\n",
       "    </tr>\n",
       "    <tr>\n",
       "      <th>99</th>\n",
       "      <td>0280f8b612771801229e2dde52371141</td>\n",
       "      <td>1</td>\n",
       "    </tr>\n",
       "  </tbody>\n",
       "</table>\n",
       "<p>100 rows × 2 columns</p>\n",
       "</div>"
      ],
      "text/plain": [
       "                            image_id  isup_grade\n",
       "0   0005f7aaab2800f6170c399693a96917           0\n",
       "1   000920ad0b612851f8e01bcc880d9b3d           0\n",
       "2   0018ae58b01bdadc8e347995b69f99aa           4\n",
       "3   001c62abd11fa4b57bf7a6c603a11bb9           4\n",
       "4   001d865e65ef5d2579c190a0e0350d8f           0\n",
       "..                               ...         ...\n",
       "95  0277b937ddc8679ae69b3c54bfd714f1           5\n",
       "96  027c4a5b5f9f1be80602ef51f2619bc2           1\n",
       "97  02805e3e20ef629ffeeee1e68cf24ab0           4\n",
       "98  028098c36eb49a8c6aa6e76e365dd055           0\n",
       "99  0280f8b612771801229e2dde52371141           1\n",
       "\n",
       "[100 rows x 2 columns]"
      ]
     },
     "execution_count": 36,
     "metadata": {},
     "output_type": "execute_result"
    }
   ],
   "source": [
    "## Model inference\n",
    "with torch.no_grad():\n",
    "    for idx, data in enumerate(tqdm(dataloader0)):\n",
    "        img, name, provider = data['img'], data['name'], data['datacenter']\n",
    "        img = img.cuda()\n",
    "        if provider[0] == \"radboud\":\n",
    "            for i,model in enumerate(models_r):\n",
    "                logits = model(img)['out']\n",
    "                preds[f'{i}'].append(logits)\n",
    "            names.append(name)\n",
    "        else:\n",
    "            for i,model in enumerate(models_k):\n",
    "                logits = model(img)['out']\n",
    "                preds[f'{i}'].append(logits)\n",
    "            names.append(name)        \n",
    "        \n",
    "        if not is_test:\n",
    "            if idx >= 400:\n",
    "                break\n",
    "      \n",
    "    names = np.concatenate(names)\n",
    "    predictions = 0\n",
    "    for i in range(1 * len(models_r)):\n",
    "        predictions += torch.cat(preds[f'{i}']).sigmoid().cpu()\n",
    "    predictions = predictions / (1 * len(models_r))\n",
    "    predictions = predictions.sum(1).round().numpy().astype(int)\n",
    "#     print(\"preds\", preds.shape)\n",
    "    sub_df = pd.DataFrame({'image_id': names, 'isup_grade': predictions})\n",
    "\n",
    "sub_df.to_csv('submission.csv', index=False)\n",
    "sub_df.head(100)"
   ]
  },
  {
   "cell_type": "code",
   "execution_count": 22,
   "metadata": {},
   "outputs": [],
   "source": [
    "import pandas as pd\n",
    "TRAIN = './input/prostate-cancer-grade-assessment/train.csv'\n",
    "df = pd.read_csv(TRAIN)"
   ]
  },
  {
   "cell_type": "code",
   "execution_count": 38,
   "metadata": {},
   "outputs": [
    {
     "name": "stdout",
     "output_type": "stream",
     "text": [
      "total wrong predictions 39, percent 0.09725685785536159\n"
     ]
    }
   ],
   "source": [
    "preds = sub_df.loc[:400,'isup_grade'].tolist()\n",
    "label = df.loc[:400,'isup_grade'].tolist()\n",
    "wrong = 0\n",
    "for (i,j) in zip(preds,label):\n",
    "    if i != j:\n",
    "        wrong += 1\n",
    "print(f'total wrong predictions {wrong}, percent {wrong / len(label)}')"
   ]
  },
  {
   "cell_type": "code",
   "execution_count": 31,
   "metadata": {},
   "outputs": [
    {
     "name": "stdout",
     "output_type": "stream",
     "text": [
      "The average kappa score is 0.9826394857162501.\n"
     ]
    }
   ],
   "source": [
    "kappa = cohen_kappa_score(label, preds, weights='quadratic')\n",
    "print(\"The average kappa score is {}.\".format(kappa))"
   ]
  }
 ],
 "metadata": {
  "kernelspec": {
   "display_name": "Python 3",
   "language": "python",
   "name": "python3"
  },
  "language_info": {
   "codemirror_mode": {
    "name": "ipython",
    "version": 3
   },
   "file_extension": ".py",
   "mimetype": "text/x-python",
   "name": "python",
   "nbconvert_exporter": "python",
   "pygments_lexer": "ipython3",
   "version": "3.6.8"
  }
 },
 "nbformat": 4,
 "nbformat_minor": 4
}
