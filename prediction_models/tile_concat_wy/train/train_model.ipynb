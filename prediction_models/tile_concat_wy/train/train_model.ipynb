{
 "cells": [
  {
   "cell_type": "code",
   "execution_count": 1,
   "metadata": {},
   "outputs": [],
   "source": [
    "## system package\n",
    "%reload_ext autoreload\n",
    "%autoreload 2\n",
    "%matplotlib inline\n",
    "import os, sys\n",
    "os.environ[\"CUDA_DEVICE_ORDER\"]=\"PCI_BUS_ID\"\n",
    "os.environ[\"CUDA_VISIBLE_DEVICES\"]=\"2\"  # specify which GPU(s) to be used\n",
    "sys.path.append('../')\n",
    "from pathlib import Path\n",
    "import warnings\n",
    "warnings.filterwarnings(\"ignore\")"
   ]
  },
  {
   "cell_type": "code",
   "execution_count": 2,
   "metadata": {},
   "outputs": [],
   "source": [
    "## general package\n",
    "import torch\n",
    "import torch.nn as nn\n",
    "from fastai.vision import *\n",
    "# from torch_lr_finder import LRFinder\n",
    "from tqdm.notebook import trange, tqdm\n",
    "from sklearn.metrics import cohen_kappa_score,confusion_matrix\n",
    "## custom package\n",
    "from input.inputPipeline import *\n",
    "from model.resnext_ssl import *"
   ]
  },
  {
   "cell_type": "markdown",
   "metadata": {},
   "source": [
    "### dataset and dataloader"
   ]
  },
  {
   "cell_type": "code",
   "execution_count": 3,
   "metadata": {},
   "outputs": [],
   "source": [
    "nfolds = 5\n",
    "bs = 32\n",
    "csv_file = '../input/panda-16x128x128-tiles-data/{}_fold_train.csv'.format(nfolds)\n",
    "image_dir = '../input/panda-16x128x128-tiles-data/train/'\n",
    "## image statistics\n",
    "# mean = torch.tensor([0.90949707, 0.8188697, 0.87795304])\n",
    "# std = torch.tensor([0.36357649, 0.49984502, 0.40477625])\n",
    "mean = torch.tensor([0.5, 0.5, 0.5])\n",
    "std = torch.tensor([0.5, 0.5, 0.5])\n",
    "## image transformation\n",
    "tsfm = data_transform(mean, std)\n",
    "## dataset, can fetch data by dataset[idx]\n",
    "dataset = PandaPatchDataset(csv_file, image_dir, transform=tsfm)\n",
    "## dataloader\n",
    "# dataloader = DataLoader(dataset, batch_size=bs,\n",
    "#                         shuffle=True, num_workers=4, collate_fn=dataloader_collte_fn)\n",
    "crossValData = crossValDataloader(csv_file, dataset, bs)"
   ]
  },
  {
   "cell_type": "markdown",
   "metadata": {},
   "source": [
    "### model"
   ]
  },
  {
   "cell_type": "code",
   "execution_count": 4,
   "metadata": {},
   "outputs": [
    {
     "name": "stderr",
     "output_type": "stream",
     "text": [
      "Using cache found in /home/docker-user/.cache/torch/hub/facebookresearch_semi-supervised-ImageNet1K-models_master\n"
     ]
    }
   ],
   "source": [
    "model = Model().cuda()"
   ]
  },
  {
   "cell_type": "markdown",
   "metadata": {},
   "source": [
    "### train"
   ]
  },
  {
   "cell_type": "code",
   "execution_count": 5,
   "metadata": {},
   "outputs": [],
   "source": [
    "criterion = nn.CrossEntropyLoss()\n",
    "# optimizer = optim.SGD(model.parameters(), lr=1e-7, momentum=0.9)\n",
    "optimizer = optim.Adam(model.parameters(), lr=1e-7, weight_decay=1e-2)"
   ]
  },
  {
   "cell_type": "markdown",
   "metadata": {},
   "source": [
    "#### Find best lr"
   ]
  },
  {
   "cell_type": "code",
   "execution_count": 6,
   "metadata": {},
   "outputs": [],
   "source": [
    "# lr_finder = LRFinder(model, optimizer, criterion, device=\"cuda\")\n",
    "# lr_finder.range_test(dataloader, end_lr=100, num_iter=100)"
   ]
  },
  {
   "cell_type": "code",
   "execution_count": 7,
   "metadata": {},
   "outputs": [],
   "source": [
    "# lr_finder.plot() # to inspect the loss-learning rate graph\n",
    "# lr_finder.reset() # to reset the model and optimizer to their initial state"
   ]
  },
  {
   "cell_type": "markdown",
   "metadata": {},
   "source": [
    "#### Simple training"
   ]
  },
  {
   "cell_type": "code",
   "execution_count": 8,
   "metadata": {},
   "outputs": [],
   "source": [
    "# for i, data in enumerate(dataloader, start = 0):\n",
    "#     # get the inputs; data is a list of [inputs, labels]\n",
    "#     inputs, labels = data\n",
    "\n",
    "#     # zero the parameter gradients\n",
    "#     optimizer.zero_grad()\n",
    "\n",
    "#     # forward + backward + optimize\n",
    "#     outputs = model(inputs.cuda())\n",
    "#     loss = criterion(outputs, labels.cuda())\n",
    "#     loss.backward()\n",
    "#     optimizer.step()\n",
    "\n",
    "#     if i % 10 == 0:\n",
    "#         print(loss.item())\n",
    "    \n",
    "#     if i == 50:\n",
    "#         break"
   ]
  },
  {
   "cell_type": "markdown",
   "metadata": {},
   "source": [
    "#### One cycle scheduler"
   ]
  },
  {
   "cell_type": "code",
   "execution_count": 9,
   "metadata": {},
   "outputs": [],
   "source": [
    "from onecyclelr import OneCycleLR"
   ]
  },
  {
   "cell_type": "code",
   "execution_count": 10,
   "metadata": {},
   "outputs": [],
   "source": [
    "epochs = 16\n",
    "# scheduler = OneCycleLR(optimizer, num_steps=epochs, lr_range=(1e-3, 1e-1))"
   ]
  },
  {
   "cell_type": "code",
   "execution_count": 11,
   "metadata": {},
   "outputs": [],
   "source": [
    "# for epoch in trange(epochs, desc='epoch'):\n",
    "#     for i, data in enumerate(tqdm(dataloader), start = 0):\n",
    "#         # get the inputs; data is a list of [inputs, labels]\n",
    "#         inputs, labels = data\n",
    "\n",
    "#         # zero the parameter gradients\n",
    "#         optimizer.zero_grad()\n",
    "\n",
    "#         # forward + backward + optimize\n",
    "#         outputs = model(inputs.cuda())\n",
    "#         loss = criterion(outputs, labels.cuda())\n",
    "#         loss.backward()\n",
    "#         optimizer.step()\n",
    "#     scheduler.step()\n",
    "#     print(\"current epoch {}, loss is {}\".format(epoch,loss.item()))"
   ]
  },
  {
   "cell_type": "markdown",
   "metadata": {},
   "source": [
    "#### Train with val in cross-val case"
   ]
  },
  {
   "cell_type": "code",
   "execution_count": null,
   "metadata": {},
   "outputs": [
    {
     "data": {
      "application/vnd.jupyter.widget-view+json": {
       "model_id": "76020f3340b4485888c94771d0096484",
       "version_major": 2,
       "version_minor": 0
      },
      "text/plain": [
       "HBox(children=(FloatProgress(value=0.0, description='fold', max=5.0, style=ProgressStyle(description_width='in…"
      ]
     },
     "metadata": {},
     "output_type": "display_data"
    },
    {
     "data": {
      "application/vnd.jupyter.widget-view+json": {
       "model_id": "8c2254d75dc3493ba12ec8b03e5d0fda",
       "version_major": 2,
       "version_minor": 0
      },
      "text/plain": [
       "HBox(children=(FloatProgress(value=0.0, description='epoch', max=16.0, style=ProgressStyle(description_width='…"
      ]
     },
     "metadata": {},
     "output_type": "display_data"
    },
    {
     "data": {
      "application/vnd.jupyter.widget-view+json": {
       "model_id": "50ea56d183a1412ba05335953a4fb067",
       "version_major": 2,
       "version_minor": 0
      },
      "text/plain": [
       "HBox(children=(FloatProgress(value=0.0, max=263.0), HTML(value='')))"
      ]
     },
     "metadata": {},
     "output_type": "display_data"
    },
    {
     "name": "stdout",
     "output_type": "stream",
     "text": [
      "\n"
     ]
    },
    {
     "data": {
      "application/vnd.jupyter.widget-view+json": {
       "model_id": "230a0ae67d9e4d21b9411c0f9a63b857",
       "version_major": 2,
       "version_minor": 0
      },
      "text/plain": [
       "HBox(children=(FloatProgress(value=0.0, max=66.0), HTML(value='')))"
      ]
     },
     "metadata": {},
     "output_type": "display_data"
    },
    {
     "name": "stdout",
     "output_type": "stream",
     "text": [
      "\n",
      "Epoch 0, train loss: 1.5324, val loss: 1.8544, kappa-score: 0.3038\n"
     ]
    },
    {
     "data": {
      "application/vnd.jupyter.widget-view+json": {
       "model_id": "708ad4cb25dc4ebd895ccc34691436c5",
       "version_major": 2,
       "version_minor": 0
      },
      "text/plain": [
       "HBox(children=(FloatProgress(value=0.0, max=263.0), HTML(value='')))"
      ]
     },
     "metadata": {},
     "output_type": "display_data"
    },
    {
     "name": "stdout",
     "output_type": "stream",
     "text": [
      "\n"
     ]
    },
    {
     "data": {
      "application/vnd.jupyter.widget-view+json": {
       "model_id": "1928b20093fa4022b41184bda892f3d1",
       "version_major": 2,
       "version_minor": 0
      },
      "text/plain": [
       "HBox(children=(FloatProgress(value=0.0, max=66.0), HTML(value='')))"
      ]
     },
     "metadata": {},
     "output_type": "display_data"
    },
    {
     "name": "stdout",
     "output_type": "stream",
     "text": [
      "\n",
      "Epoch 1, train loss: 1.3598, val loss: 1.3697, kappa-score: 0.5326\n"
     ]
    },
    {
     "data": {
      "application/vnd.jupyter.widget-view+json": {
       "model_id": "75e0131e8a584cdd951b8c2d86aa9731",
       "version_major": 2,
       "version_minor": 0
      },
      "text/plain": [
       "HBox(children=(FloatProgress(value=0.0, max=263.0), HTML(value='')))"
      ]
     },
     "metadata": {},
     "output_type": "display_data"
    },
    {
     "name": "stdout",
     "output_type": "stream",
     "text": [
      "\n"
     ]
    },
    {
     "data": {
      "application/vnd.jupyter.widget-view+json": {
       "model_id": "f8cd0095b7914230bb817b45da0e6240",
       "version_major": 2,
       "version_minor": 0
      },
      "text/plain": [
       "HBox(children=(FloatProgress(value=0.0, max=66.0), HTML(value='')))"
      ]
     },
     "metadata": {},
     "output_type": "display_data"
    },
    {
     "name": "stdout",
     "output_type": "stream",
     "text": [
      "\n",
      "Epoch 2, train loss: 1.3057, val loss: 1.3772, kappa-score: 0.5637\n"
     ]
    },
    {
     "data": {
      "application/vnd.jupyter.widget-view+json": {
       "model_id": "55f3a449be984072aeccc3d195d0a682",
       "version_major": 2,
       "version_minor": 0
      },
      "text/plain": [
       "HBox(children=(FloatProgress(value=0.0, max=263.0), HTML(value='')))"
      ]
     },
     "metadata": {},
     "output_type": "display_data"
    },
    {
     "name": "stdout",
     "output_type": "stream",
     "text": [
      "\n"
     ]
    },
    {
     "data": {
      "application/vnd.jupyter.widget-view+json": {
       "model_id": "fe37f96f4137457e9d3a3c73dd7f04d6",
       "version_major": 2,
       "version_minor": 0
      },
      "text/plain": [
       "HBox(children=(FloatProgress(value=0.0, max=66.0), HTML(value='')))"
      ]
     },
     "metadata": {},
     "output_type": "display_data"
    },
    {
     "name": "stdout",
     "output_type": "stream",
     "text": [
      "\n",
      "Epoch 3, train loss: 1.2878, val loss: 1.2724, kappa-score: 0.6123\n"
     ]
    },
    {
     "data": {
      "application/vnd.jupyter.widget-view+json": {
       "model_id": "2a280ee3ec6c44a3802f0655d7f2c592",
       "version_major": 2,
       "version_minor": 0
      },
      "text/plain": [
       "HBox(children=(FloatProgress(value=0.0, max=263.0), HTML(value='')))"
      ]
     },
     "metadata": {},
     "output_type": "display_data"
    },
    {
     "name": "stdout",
     "output_type": "stream",
     "text": [
      "\n"
     ]
    },
    {
     "data": {
      "application/vnd.jupyter.widget-view+json": {
       "model_id": "8757033356264b94b18896adf27180ae",
       "version_major": 2,
       "version_minor": 0
      },
      "text/plain": [
       "HBox(children=(FloatProgress(value=0.0, max=66.0), HTML(value='')))"
      ]
     },
     "metadata": {},
     "output_type": "display_data"
    },
    {
     "name": "stdout",
     "output_type": "stream",
     "text": [
      "\n",
      "Epoch 4, train loss: 1.2716, val loss: 1.2333, kappa-score: 0.6522\n"
     ]
    },
    {
     "data": {
      "application/vnd.jupyter.widget-view+json": {
       "model_id": "7925d207df11488ca45e565e6cd05695",
       "version_major": 2,
       "version_minor": 0
      },
      "text/plain": [
       "HBox(children=(FloatProgress(value=0.0, max=263.0), HTML(value='')))"
      ]
     },
     "metadata": {},
     "output_type": "display_data"
    },
    {
     "name": "stdout",
     "output_type": "stream",
     "text": [
      "\n"
     ]
    },
    {
     "data": {
      "application/vnd.jupyter.widget-view+json": {
       "model_id": "c6b63ddc8da64e13be6a31937eddf35c",
       "version_major": 2,
       "version_minor": 0
      },
      "text/plain": [
       "HBox(children=(FloatProgress(value=0.0, max=66.0), HTML(value='')))"
      ]
     },
     "metadata": {},
     "output_type": "display_data"
    },
    {
     "name": "stdout",
     "output_type": "stream",
     "text": [
      "\n",
      "Epoch 5, train loss: 1.2716, val loss: 1.3334, kappa-score: 0.6725\n"
     ]
    },
    {
     "data": {
      "application/vnd.jupyter.widget-view+json": {
       "model_id": "a3d6615bd16742918c1e004f5f95dfbe",
       "version_major": 2,
       "version_minor": 0
      },
      "text/plain": [
       "HBox(children=(FloatProgress(value=0.0, max=263.0), HTML(value='')))"
      ]
     },
     "metadata": {},
     "output_type": "display_data"
    },
    {
     "name": "stdout",
     "output_type": "stream",
     "text": [
      "\n"
     ]
    },
    {
     "data": {
      "application/vnd.jupyter.widget-view+json": {
       "model_id": "007fcf463c174d189b8ed9be6db327a7",
       "version_major": 2,
       "version_minor": 0
      },
      "text/plain": [
       "HBox(children=(FloatProgress(value=0.0, max=66.0), HTML(value='')))"
      ]
     },
     "metadata": {},
     "output_type": "display_data"
    },
    {
     "name": "stdout",
     "output_type": "stream",
     "text": [
      "\n",
      "Epoch 6, train loss: 1.2454, val loss: 1.2676, kappa-score: 0.6828\n"
     ]
    },
    {
     "data": {
      "application/vnd.jupyter.widget-view+json": {
       "model_id": "512b769da198408ead018f545608b113",
       "version_major": 2,
       "version_minor": 0
      },
      "text/plain": [
       "HBox(children=(FloatProgress(value=0.0, max=263.0), HTML(value='')))"
      ]
     },
     "metadata": {},
     "output_type": "display_data"
    }
   ],
   "source": [
    "epochs = 16\n",
    "optimizer = optim.Adam(model.parameters(), lr=1e-3, weight_decay=0)\n",
    "scheduler = OneCycleLR(optimizer, num_steps=epochs, lr_range=(1e-4, 1e-3))\n",
    "for fold in trange(nfolds, desc='fold'):\n",
    "    trainloader, valloader = crossValData(fold)\n",
    "    for epoch in trange(epochs, desc='epoch'):\n",
    "        ## train\n",
    "        model.train()\n",
    "        train_loss = []\n",
    "        for i, data in enumerate(tqdm(trainloader), start = 0):\n",
    "#             if i >= 50:\n",
    "#                 break\n",
    "            # get the inputs; data is a list of [inputs, labels]\n",
    "            inputs, labels = data\n",
    "            # zero the parameter gradients\n",
    "            optimizer.zero_grad()\n",
    "            # forward + backward + optimize\n",
    "            outputs = model(inputs.cuda())\n",
    "            loss = criterion(outputs, labels.cuda())\n",
    "            train_loss.append(loss.item())\n",
    "            loss.backward()\n",
    "            optimizer.step()\n",
    "        ## val\n",
    "        model.eval()\n",
    "        val_loss, val_label, val_preds = [],[],[]\n",
    "        with torch.no_grad():\n",
    "            for i, data in enumerate(tqdm(valloader), start = 0):\n",
    "#                 if i > 50:\n",
    "#                     break\n",
    "                # get the inputs; data is a list of [inputs, labels]\n",
    "                inputs, labels = data\n",
    "                # zero the parameter gradients\n",
    "                optimizer.zero_grad()\n",
    "                # forward + backward + optimize\n",
    "                outputs = model(inputs.cuda())\n",
    "                loss = criterion(outputs, labels.cuda())\n",
    "                val_loss.append(loss.item())\n",
    "                val_label.append(labels.cpu())\n",
    "                val_preds.append(outputs.cpu())\n",
    "        scheduler.step()\n",
    "        val_preds = torch.argmax(torch.cat(val_preds,0),1)\n",
    "        val_label = torch.cat(val_label)\n",
    "        kappa = cohen_kappa_score(val_label,val_preds,weights='quadratic')\n",
    "        print(\"Epoch {}, train loss: {:.4f}, val loss: {:.4f}, kappa-score: {:.4f}\".format(epoch,\n",
    "                                                                                        np.mean(train_loss),\n",
    "                                                                                        np.mean(val_loss),\n",
    "                                                                                        kappa))"
   ]
  }
 ],
 "metadata": {
  "kernelspec": {
   "display_name": "Python 3",
   "language": "python",
   "name": "python3"
  },
  "language_info": {
   "codemirror_mode": {
    "name": "ipython",
    "version": 3
   },
   "file_extension": ".py",
   "mimetype": "text/x-python",
   "name": "python",
   "nbconvert_exporter": "python",
   "pygments_lexer": "ipython3",
   "version": "3.6.8"
  }
 },
 "nbformat": 4,
 "nbformat_minor": 4
}
